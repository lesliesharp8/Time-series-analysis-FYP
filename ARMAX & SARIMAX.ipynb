{
 "cells": [
  {
   "cell_type": "markdown",
   "metadata": {},
   "source": [
    "Import packages"
   ]
  },
  {
   "cell_type": "code",
   "execution_count": 1,
   "metadata": {},
   "outputs": [],
   "source": [
    "import pandas as pd\n",
    "import numpy as np\n",
    "import matplotlib.pyplot as plt\n",
    "import statsmodels.graphics.tsaplots as sgt\n",
    "import statsmodels.tsa.stattools as sts\n",
    "from statsmodels.tsa.arima_model import ARIMA\n",
    "from scipy.stats.distributions import chi2 \n",
    "from math import sqrt\n",
    "import seaborn as sns\n",
    "sns.set()\n",
    "import warnings\n",
    "warnings.filterwarnings(\"ignore\")"
   ]
  },
  {
   "cell_type": "markdown",
   "metadata": {},
   "source": [
    "Pre-processing"
   ]
  },
  {
   "cell_type": "code",
   "execution_count": 2,
   "metadata": {},
   "outputs": [],
   "source": [
    "raw_csv_data = pd.read_csv(\"Index2020.csv\") \n",
    "df_com=raw_csv_data.copy()\n",
    "df_com.date = pd.to_datetime(df_com.date, dayfirst = True)\n",
    "df_com.set_index(\"date\", inplace=True)\n",
    "df_com=df_com.asfreq('b')\n",
    "df_com=df_com.fillna(method='ffill')"
   ]
  },
  {
   "cell_type": "code",
   "execution_count": 3,
   "metadata": {},
   "outputs": [],
   "source": [
    "df_com['market_value']=df_com.spx"
   ]
  },
  {
   "cell_type": "code",
   "execution_count": 4,
   "metadata": {
    "scrolled": true
   },
   "outputs": [],
   "source": [
    "size = int(len(df_com)*0.8)\n",
    "df, df_test = df_com.iloc[:size], df_com.iloc[size:]"
   ]
  },
  {
   "cell_type": "code",
   "execution_count": 5,
   "metadata": {},
   "outputs": [],
   "source": [
    "def LLR_test(mod_1, mod_2, DF = 1):\n",
    "    L1 = mod_1.llf\n",
    "    L2 = mod_2.llf\n",
    "    LR = (2*(L2-L1))    \n",
    "    p = chi2.sf(LR, DF).round(3)\n",
    "    return p"
   ]
  },
  {
   "cell_type": "code",
   "execution_count": 6,
   "metadata": {},
   "outputs": [],
   "source": [
    "df['returns'] = df.market_value.pct_change(1)*100"
   ]
  },
  {
   "cell_type": "markdown",
   "metadata": {},
   "source": [
    "ARIMA"
   ]
  },
  {
   "cell_type": "code",
   "execution_count": 7,
   "metadata": {},
   "outputs": [
    {
     "data": {
      "text/html": [
       "<table class=\"simpletable\">\n",
       "<caption>ARIMA Model Results</caption>\n",
       "<tr>\n",
       "  <th>Dep. Variable:</th>  <td>D.market_value</td>  <th>  No. Observations:  </th>    <td>4191</td>   \n",
       "</tr>\n",
       "<tr>\n",
       "  <th>Model:</th>          <td>ARIMA(1, 1, 1)</td>  <th>  Log Likelihood     </th> <td>-17248.281</td>\n",
       "</tr>\n",
       "<tr>\n",
       "  <th>Method:</th>             <td>css-mle</td>     <th>  S.D. of innovations</th>   <td>14.829</td>  \n",
       "</tr>\n",
       "<tr>\n",
       "  <th>Date:</th>          <td>Mon, 02 Mar 2020</td> <th>  AIC                </th>  <td>34504.561</td>\n",
       "</tr>\n",
       "<tr>\n",
       "  <th>Time:</th>              <td>19:53:27</td>     <th>  BIC                </th>  <td>34529.924</td>\n",
       "</tr>\n",
       "<tr>\n",
       "  <th>Sample:</th>           <td>01-04-2000</td>    <th>  HQIC               </th>  <td>34513.530</td>\n",
       "</tr>\n",
       "<tr>\n",
       "  <th></th>                 <td>- 01-26-2016</td>   <th>                     </th>      <td> </td>    \n",
       "</tr>\n",
       "</table>\n",
       "<table class=\"simpletable\">\n",
       "<tr>\n",
       "            <td></td>              <th>coef</th>     <th>std err</th>      <th>z</th>      <th>P>|z|</th>  <th>[0.025</th>    <th>0.975]</th>  \n",
       "</tr>\n",
       "<tr>\n",
       "  <th>const</th>                <td>    0.1079</td> <td>    0.190</td> <td>    0.567</td> <td> 0.571</td> <td>   -0.265</td> <td>    0.481</td>\n",
       "</tr>\n",
       "<tr>\n",
       "  <th>ar.L1.D.market_value</th> <td>    0.6054</td> <td>    0.120</td> <td>    5.036</td> <td> 0.000</td> <td>    0.370</td> <td>    0.841</td>\n",
       "</tr>\n",
       "<tr>\n",
       "  <th>ma.L1.D.market_value</th> <td>   -0.6721</td> <td>    0.112</td> <td>   -6.006</td> <td> 0.000</td> <td>   -0.891</td> <td>   -0.453</td>\n",
       "</tr>\n",
       "</table>\n",
       "<table class=\"simpletable\">\n",
       "<caption>Roots</caption>\n",
       "<tr>\n",
       "    <td></td>   <th>            Real</th>  <th>         Imaginary</th> <th>         Modulus</th>  <th>        Frequency</th>\n",
       "</tr>\n",
       "<tr>\n",
       "  <th>AR.1</th> <td>           1.6519</td> <td>          +0.0000j</td> <td>           1.6519</td> <td>           0.0000</td>\n",
       "</tr>\n",
       "<tr>\n",
       "  <th>MA.1</th> <td>           1.4878</td> <td>          +0.0000j</td> <td>           1.4878</td> <td>           0.0000</td>\n",
       "</tr>\n",
       "</table>"
      ],
      "text/plain": [
       "<class 'statsmodels.iolib.summary.Summary'>\n",
       "\"\"\"\n",
       "                             ARIMA Model Results                              \n",
       "==============================================================================\n",
       "Dep. Variable:         D.market_value   No. Observations:                 4191\n",
       "Model:                 ARIMA(1, 1, 1)   Log Likelihood              -17248.281\n",
       "Method:                       css-mle   S.D. of innovations             14.829\n",
       "Date:                Mon, 02 Mar 2020   AIC                          34504.561\n",
       "Time:                        19:53:27   BIC                          34529.924\n",
       "Sample:                    01-04-2000   HQIC                         34513.530\n",
       "                         - 01-26-2016                                         \n",
       "========================================================================================\n",
       "                           coef    std err          z      P>|z|      [0.025      0.975]\n",
       "----------------------------------------------------------------------------------------\n",
       "const                    0.1079      0.190      0.567      0.571      -0.265       0.481\n",
       "ar.L1.D.market_value     0.6054      0.120      5.036      0.000       0.370       0.841\n",
       "ma.L1.D.market_value    -0.6721      0.112     -6.006      0.000      -0.891      -0.453\n",
       "                                    Roots                                    \n",
       "=============================================================================\n",
       "                  Real          Imaginary           Modulus         Frequency\n",
       "-----------------------------------------------------------------------------\n",
       "AR.1            1.6519           +0.0000j            1.6519            0.0000\n",
       "MA.1            1.4878           +0.0000j            1.4878            0.0000\n",
       "-----------------------------------------------------------------------------\n",
       "\"\"\""
      ]
     },
     "execution_count": 7,
     "metadata": {},
     "output_type": "execute_result"
    }
   ],
   "source": [
    "model_ar_1_i_1_ma_1 = ARIMA(df.market_value, order=(1,1,1))\n",
    "results_ar_1_i_1_ma_1 = model_ar_1_i_1_ma_1.fit()\n",
    "results_ar_1_i_1_ma_1.summary()"
   ]
  },
  {
   "cell_type": "code",
   "execution_count": 8,
   "metadata": {},
   "outputs": [
    {
     "data": {
      "image/png": "[encoded data removed]",
      "text/plain": [
       "<Figure size 432x288 with 1 Axes>"
      ]
     },
     "metadata": {
      "needs_background": "light"
     },
     "output_type": "display_data"
    }
   ],
   "source": [
    "df['res_ar_1_i_1_ma_1'] = results_ar_1_i_1_ma_1.resid\n",
    "sgt.plot_acf(df.res_ar_1_i_1_ma_1, zero = False, lags = 40)\n",
    "plt.title(\"ACF Of Residuals for ARIMA(1,1,1)\",size=20)\n",
    "plt.show()"
   ]
  },
  {
   "cell_type": "code",
   "execution_count": 9,
   "metadata": {},
   "outputs": [
    {
     "data": {
      "image/png": "[encoded data removed]",
      "text/plain": [
       "<Figure size 432x288 with 1 Axes>"
      ]
     },
     "metadata": {
      "needs_background": "light"
     },
     "output_type": "display_data"
    }
   ],
   "source": [
    "df['res_ar_1_i_1_ma_1'] = results_ar_1_i_1_ma_1.resid.iloc[:]\n",
    "sgt.plot_acf(df.res_ar_1_i_1_ma_1[1:], zero = False, lags = 40)\n",
    "plt.title(\"ACF Of Residuals for ARIMA(1,1,1)\",size=20)\n",
    "plt.show()"
   ]
  },
  {
   "cell_type": "code",
   "execution_count": 12,
   "metadata": {},
   "outputs": [],
   "source": [
    "model_ar_2_i_1_ma_1 = ARIMA(df.market_value, order=(2,1,1))\n",
    "results_ar_2_i_1_ma_1 = model_ar_2_i_1_ma_1.fit()\n",
    "model_ar_3_i_1_ma_1 = ARIMA(df.market_value, order=(3,1,1))\n",
    "results_ar_3_i_1_ma_1 = model_ar_3_i_1_ma_1.fit()\n",
    "model_ar_3_i_1_ma_2 = ARIMA(df.market_value, order=(3,1,2))\n",
    "results_ar_3_i_1_ma_2 = model_ar_3_i_1_ma_2.fit(start_ar_lags=5)"
   ]
  },
  {
   "cell_type": "code",
   "execution_count": 15,
   "metadata": {},
   "outputs": [
    {
     "name": "stdout",
     "output_type": "stream",
     "text": [
      "ARIMA(1,1,1):  \t LL =  -17248.280600029968 \t AIC =  34504.561200059936\n",
      "ARIMA(2,1,1):  \t LL =  -17248.090627798905 \t AIC =  34506.18125559781\n",
      "ARIMA(3,1,1):  \t LL =  -17247.963903565047 \t AIC =  34507.927807130094\n",
      "ARIMA(3,1,2):  \t LL =  -17247.87021101288 \t AIC =  34509.74042202576\n"
     ]
    }
   ],
   "source": [
    "print(\"ARIMA(1,1,1):  \\t LL = \", results_ar_1_i_1_ma_1.llf, \"\\t AIC = \", results_ar_1_i_1_ma_1.aic)\n",
    "print(\"ARIMA(2,1,1):  \\t LL = \", results_ar_2_i_1_ma_1.llf, \"\\t AIC = \", results_ar_2_i_1_ma_1.aic)\n",
    "print(\"ARIMA(3,1,1):  \\t LL = \", results_ar_3_i_1_ma_1.llf, \"\\t AIC = \", results_ar_3_i_1_ma_1.aic)\n",
    "print(\"ARIMA(3,1,2):  \\t LL = \", results_ar_3_i_1_ma_2.llf, \"\\t AIC = \", results_ar_3_i_1_ma_2.aic)"
   ]
  },
  {
   "cell_type": "code",
   "execution_count": 19,
   "metadata": {},
   "outputs": [],
   "source": [
    "model_ar_5_i_1_ma_1 = ARIMA(df.market_value, order=(5,1,1))\n",
    "results_ar_5_i_1_ma_1 = model_ar_5_i_1_ma_1.fit(start_ar_lags=11)\n",
    "model_ar_6_i_1_ma_3 = ARIMA(df.market_value, order=(6,1,3))\n",
    "results_ar_6_i_1_ma_3 = model_ar_6_i_1_ma_3.fit(start_ar_lags=11)"
   ]
  },
  {
   "cell_type": "code",
   "execution_count": 20,
   "metadata": {},
   "outputs": [
    {
     "data": {
      "text/html": [
       "<table class=\"simpletable\">\n",
       "<caption>ARIMA Model Results</caption>\n",
       "<tr>\n",
       "  <th>Dep. Variable:</th>  <td>D.market_value</td>  <th>  No. Observations:  </th>    <td>4191</td>   \n",
       "</tr>\n",
       "<tr>\n",
       "  <th>Model:</th>          <td>ARIMA(5, 1, 1)</td>  <th>  Log Likelihood     </th> <td>-17247.666</td>\n",
       "</tr>\n",
       "<tr>\n",
       "  <th>Method:</th>             <td>css-mle</td>     <th>  S.D. of innovations</th>   <td>14.827</td>  \n",
       "</tr>\n",
       "<tr>\n",
       "  <th>Date:</th>          <td>Mon, 02 Mar 2020</td> <th>  AIC                </th>  <td>34511.332</td>\n",
       "</tr>\n",
       "<tr>\n",
       "  <th>Time:</th>              <td>19:55:48</td>     <th>  BIC                </th>  <td>34562.057</td>\n",
       "</tr>\n",
       "<tr>\n",
       "  <th>Sample:</th>           <td>01-04-2000</td>    <th>  HQIC               </th>  <td>34529.270</td>\n",
       "</tr>\n",
       "<tr>\n",
       "  <th></th>                 <td>- 01-26-2016</td>   <th>                     </th>      <td> </td>    \n",
       "</tr>\n",
       "</table>\n",
       "<table class=\"simpletable\">\n",
       "<tr>\n",
       "            <td></td>              <th>coef</th>     <th>std err</th>      <th>z</th>      <th>P>|z|</th>  <th>[0.025</th>    <th>0.975]</th>  \n",
       "</tr>\n",
       "<tr>\n",
       "  <th>const</th>                <td>    0.1078</td> <td>    0.199</td> <td>    0.542</td> <td> 0.588</td> <td>   -0.282</td> <td>    0.497</td>\n",
       "</tr>\n",
       "<tr>\n",
       "  <th>ar.L1.D.market_value</th> <td>   -0.8142</td> <td>    0.139</td> <td>   -5.845</td> <td> 0.000</td> <td>   -1.087</td> <td>   -0.541</td>\n",
       "</tr>\n",
       "<tr>\n",
       "  <th>ar.L2.D.market_value</th> <td>   -0.0938</td> <td>    0.022</td> <td>   -4.238</td> <td> 0.000</td> <td>   -0.137</td> <td>   -0.050</td>\n",
       "</tr>\n",
       "<tr>\n",
       "  <th>ar.L3.D.market_value</th> <td>   -0.0493</td> <td>    0.021</td> <td>   -2.378</td> <td> 0.017</td> <td>   -0.090</td> <td>   -0.009</td>\n",
       "</tr>\n",
       "<tr>\n",
       "  <th>ar.L4.D.market_value</th> <td>   -0.0256</td> <td>    0.020</td> <td>   -1.276</td> <td> 0.202</td> <td>   -0.065</td> <td>    0.014</td>\n",
       "</tr>\n",
       "<tr>\n",
       "  <th>ar.L5.D.market_value</th> <td>   -0.0282</td> <td>    0.016</td> <td>   -1.787</td> <td> 0.074</td> <td>   -0.059</td> <td>    0.003</td>\n",
       "</tr>\n",
       "<tr>\n",
       "  <th>ma.L1.D.market_value</th> <td>    0.7447</td> <td>    0.139</td> <td>    5.373</td> <td> 0.000</td> <td>    0.473</td> <td>    1.016</td>\n",
       "</tr>\n",
       "</table>\n",
       "<table class=\"simpletable\">\n",
       "<caption>Roots</caption>\n",
       "<tr>\n",
       "    <td></td>   <th>            Real</th>  <th>         Imaginary</th> <th>         Modulus</th>  <th>        Frequency</th>\n",
       "</tr>\n",
       "<tr>\n",
       "  <th>AR.1</th> <td>          -1.2593</td> <td>          -0.0000j</td> <td>           1.2593</td> <td>          -0.5000</td>\n",
       "</tr>\n",
       "<tr>\n",
       "  <th>AR.2</th> <td>           1.5441</td> <td>          -1.8314j</td> <td>           2.3955</td> <td>          -0.1385</td>\n",
       "</tr>\n",
       "<tr>\n",
       "  <th>AR.3</th> <td>           1.5441</td> <td>          +1.8314j</td> <td>           2.3955</td> <td>           0.1385</td>\n",
       "</tr>\n",
       "<tr>\n",
       "  <th>AR.4</th> <td>          -1.3680</td> <td>          -1.7406j</td> <td>           2.2139</td> <td>          -0.3560</td>\n",
       "</tr>\n",
       "<tr>\n",
       "  <th>AR.5</th> <td>          -1.3680</td> <td>          +1.7406j</td> <td>           2.2139</td> <td>           0.3560</td>\n",
       "</tr>\n",
       "<tr>\n",
       "  <th>MA.1</th> <td>          -1.3428</td> <td>          +0.0000j</td> <td>           1.3428</td> <td>           0.5000</td>\n",
       "</tr>\n",
       "</table>"
      ],
      "text/plain": [
       "<class 'statsmodels.iolib.summary.Summary'>\n",
       "\"\"\"\n",
       "                             ARIMA Model Results                              \n",
       "==============================================================================\n",
       "Dep. Variable:         D.market_value   No. Observations:                 4191\n",
       "Model:                 ARIMA(5, 1, 1)   Log Likelihood              -17247.666\n",
       "Method:                       css-mle   S.D. of innovations             14.827\n",
       "Date:                Mon, 02 Mar 2020   AIC                          34511.332\n",
       "Time:                        19:55:48   BIC                          34562.057\n",
       "Sample:                    01-04-2000   HQIC                         34529.270\n",
       "                         - 01-26-2016                                         \n",
       "========================================================================================\n",
       "                           coef    std err          z      P>|z|      [0.025      0.975]\n",
       "----------------------------------------------------------------------------------------\n",
       "const                    0.1078      0.199      0.542      0.588      -0.282       0.497\n",
       "ar.L1.D.market_value    -0.8142      0.139     -5.845      0.000      -1.087      -0.541\n",
       "ar.L2.D.market_value    -0.0938      0.022     -4.238      0.000      -0.137      -0.050\n",
       "ar.L3.D.market_value    -0.0493      0.021     -2.378      0.017      -0.090      -0.009\n",
       "ar.L4.D.market_value    -0.0256      0.020     -1.276      0.202      -0.065       0.014\n",
       "ar.L5.D.market_value    -0.0282      0.016     -1.787      0.074      -0.059       0.003\n",
       "ma.L1.D.market_value     0.7447      0.139      5.373      0.000       0.473       1.016\n",
       "                                    Roots                                    \n",
       "=============================================================================\n",
       "                  Real          Imaginary           Modulus         Frequency\n",
       "-----------------------------------------------------------------------------\n",
       "AR.1           -1.2593           -0.0000j            1.2593           -0.5000\n",
       "AR.2            1.5441           -1.8314j            2.3955           -0.1385\n",
       "AR.3            1.5441           +1.8314j            2.3955            0.1385\n",
       "AR.4           -1.3680           -1.7406j            2.2139           -0.3560\n",
       "AR.5           -1.3680           +1.7406j            2.2139            0.3560\n",
       "MA.1           -1.3428           +0.0000j            1.3428            0.5000\n",
       "-----------------------------------------------------------------------------\n",
       "\"\"\""
      ]
     },
     "execution_count": 20,
     "metadata": {},
     "output_type": "execute_result"
    }
   ],
   "source": [
    "results_ar_5_i_1_ma_1.summary()"
   ]
  },
  {
   "cell_type": "code",
   "execution_count": 21,
   "metadata": {},
   "outputs": [
    {
     "name": "stdout",
     "output_type": "stream",
     "text": [
      "ARIMA(5,1,1):  \t LL =  -17247.665772360204 \t AIC =  34511.33154472041\n",
      "ARIMA(6,1,3):  \t LL =  -17243.101714288066 \t AIC =  34508.20342857613\n"
     ]
    }
   ],
   "source": [
    "print(\"ARIMA(5,1,1):  \\t LL = \", results_ar_5_i_1_ma_1.llf, \"\\t AIC = \", results_ar_5_i_1_ma_1.aic)\n",
    "print(\"ARIMA(6,1,3):  \\t LL = \", results_ar_6_i_1_ma_3.llf, \"\\t AIC = \", results_ar_6_i_1_ma_3.aic)"
   ]
  },
  {
   "cell_type": "code",
   "execution_count": 23,
   "metadata": {},
   "outputs": [
    {
     "name": "stdout",
     "output_type": "stream",
     "text": [
      "\n",
      "LLR test p-value = 0.028\n"
     ]
    }
   ],
   "source": [
    "print(\"\\nLLR test p-value = \" + str(LLR_test(results_ar_5_i_1_ma_1, results_ar_6_i_1_ma_3, DF = 3)))"
   ]
  },
  {
   "cell_type": "code",
   "execution_count": 24,
   "metadata": {},
   "outputs": [
    {
     "data": {
      "image/png": "[encoded data removed]",
      "text/plain": [
       "<Figure size 432x288 with 1 Axes>"
      ]
     },
     "metadata": {
      "needs_background": "light"
     },
     "output_type": "display_data"
    }
   ],
   "source": [
    "df['res_ar_5_i_1_ma_1'] = results_ar_5_i_1_ma_1.resid\n",
    "sgt.plot_acf(df.res_ar_5_i_1_ma_1[1:], zero = False, lags = 40)\n",
    "plt.title(\"ACF Of Residuals for ARIMA(5,1,1)\", size=20)\n",
    "plt.show()"
   ]
  },
  {
   "cell_type": "code",
   "execution_count": 25,
   "metadata": {},
   "outputs": [
    {
     "data": {
      "text/html": [
       "<table class=\"simpletable\">\n",
       "<caption>ARIMA Model Results</caption>\n",
       "<tr>\n",
       "  <th>Dep. Variable:</th>  <td>D.market_value</td>  <th>  No. Observations:  </th>    <td>4191</td>   \n",
       "</tr>\n",
       "<tr>\n",
       "  <th>Model:</th>          <td>ARIMA(5, 1, 1)</td>  <th>  Log Likelihood     </th> <td>-17247.666</td>\n",
       "</tr>\n",
       "<tr>\n",
       "  <th>Method:</th>             <td>css-mle</td>     <th>  S.D. of innovations</th>   <td>14.827</td>  \n",
       "</tr>\n",
       "<tr>\n",
       "  <th>Date:</th>          <td>Mon, 02 Mar 2020</td> <th>  AIC                </th>  <td>34511.332</td>\n",
       "</tr>\n",
       "<tr>\n",
       "  <th>Time:</th>              <td>19:56:31</td>     <th>  BIC                </th>  <td>34562.057</td>\n",
       "</tr>\n",
       "<tr>\n",
       "  <th>Sample:</th>           <td>01-04-2000</td>    <th>  HQIC               </th>  <td>34529.270</td>\n",
       "</tr>\n",
       "<tr>\n",
       "  <th></th>                 <td>- 01-26-2016</td>   <th>                     </th>      <td> </td>    \n",
       "</tr>\n",
       "</table>\n",
       "<table class=\"simpletable\">\n",
       "<tr>\n",
       "            <td></td>              <th>coef</th>     <th>std err</th>      <th>z</th>      <th>P>|z|</th>  <th>[0.025</th>    <th>0.975]</th>  \n",
       "</tr>\n",
       "<tr>\n",
       "  <th>const</th>                <td>    0.1078</td> <td>    0.199</td> <td>    0.542</td> <td> 0.588</td> <td>   -0.282</td> <td>    0.497</td>\n",
       "</tr>\n",
       "<tr>\n",
       "  <th>ar.L1.D.market_value</th> <td>   -0.8142</td> <td>    0.139</td> <td>   -5.845</td> <td> 0.000</td> <td>   -1.087</td> <td>   -0.541</td>\n",
       "</tr>\n",
       "<tr>\n",
       "  <th>ar.L2.D.market_value</th> <td>   -0.0938</td> <td>    0.022</td> <td>   -4.238</td> <td> 0.000</td> <td>   -0.137</td> <td>   -0.050</td>\n",
       "</tr>\n",
       "<tr>\n",
       "  <th>ar.L3.D.market_value</th> <td>   -0.0493</td> <td>    0.021</td> <td>   -2.378</td> <td> 0.017</td> <td>   -0.090</td> <td>   -0.009</td>\n",
       "</tr>\n",
       "<tr>\n",
       "  <th>ar.L4.D.market_value</th> <td>   -0.0256</td> <td>    0.020</td> <td>   -1.276</td> <td> 0.202</td> <td>   -0.065</td> <td>    0.014</td>\n",
       "</tr>\n",
       "<tr>\n",
       "  <th>ar.L5.D.market_value</th> <td>   -0.0282</td> <td>    0.016</td> <td>   -1.787</td> <td> 0.074</td> <td>   -0.059</td> <td>    0.003</td>\n",
       "</tr>\n",
       "<tr>\n",
       "  <th>ma.L1.D.market_value</th> <td>    0.7447</td> <td>    0.139</td> <td>    5.373</td> <td> 0.000</td> <td>    0.473</td> <td>    1.016</td>\n",
       "</tr>\n",
       "</table>\n",
       "<table class=\"simpletable\">\n",
       "<caption>Roots</caption>\n",
       "<tr>\n",
       "    <td></td>   <th>            Real</th>  <th>         Imaginary</th> <th>         Modulus</th>  <th>        Frequency</th>\n",
       "</tr>\n",
       "<tr>\n",
       "  <th>AR.1</th> <td>          -1.2593</td> <td>          -0.0000j</td> <td>           1.2593</td> <td>          -0.5000</td>\n",
       "</tr>\n",
       "<tr>\n",
       "  <th>AR.2</th> <td>           1.5441</td> <td>          -1.8314j</td> <td>           2.3955</td> <td>          -0.1385</td>\n",
       "</tr>\n",
       "<tr>\n",
       "  <th>AR.3</th> <td>           1.5441</td> <td>          +1.8314j</td> <td>           2.3955</td> <td>           0.1385</td>\n",
       "</tr>\n",
       "<tr>\n",
       "  <th>AR.4</th> <td>          -1.3680</td> <td>          -1.7406j</td> <td>           2.2139</td> <td>          -0.3560</td>\n",
       "</tr>\n",
       "<tr>\n",
       "  <th>AR.5</th> <td>          -1.3680</td> <td>          +1.7406j</td> <td>           2.2139</td> <td>           0.3560</td>\n",
       "</tr>\n",
       "<tr>\n",
       "  <th>MA.1</th> <td>          -1.3428</td> <td>          +0.0000j</td> <td>           1.3428</td> <td>           0.5000</td>\n",
       "</tr>\n",
       "</table>"
      ],
      "text/plain": [
       "<class 'statsmodels.iolib.summary.Summary'>\n",
       "\"\"\"\n",
       "                             ARIMA Model Results                              \n",
       "==============================================================================\n",
       "Dep. Variable:         D.market_value   No. Observations:                 4191\n",
       "Model:                 ARIMA(5, 1, 1)   Log Likelihood              -17247.666\n",
       "Method:                       css-mle   S.D. of innovations             14.827\n",
       "Date:                Mon, 02 Mar 2020   AIC                          34511.332\n",
       "Time:                        19:56:31   BIC                          34562.057\n",
       "Sample:                    01-04-2000   HQIC                         34529.270\n",
       "                         - 01-26-2016                                         \n",
       "========================================================================================\n",
       "                           coef    std err          z      P>|z|      [0.025      0.975]\n",
       "----------------------------------------------------------------------------------------\n",
       "const                    0.1078      0.199      0.542      0.588      -0.282       0.497\n",
       "ar.L1.D.market_value    -0.8142      0.139     -5.845      0.000      -1.087      -0.541\n",
       "ar.L2.D.market_value    -0.0938      0.022     -4.238      0.000      -0.137      -0.050\n",
       "ar.L3.D.market_value    -0.0493      0.021     -2.378      0.017      -0.090      -0.009\n",
       "ar.L4.D.market_value    -0.0256      0.020     -1.276      0.202      -0.065       0.014\n",
       "ar.L5.D.market_value    -0.0282      0.016     -1.787      0.074      -0.059       0.003\n",
       "ma.L1.D.market_value     0.7447      0.139      5.373      0.000       0.473       1.016\n",
       "                                    Roots                                    \n",
       "=============================================================================\n",
       "                  Real          Imaginary           Modulus         Frequency\n",
       "-----------------------------------------------------------------------------\n",
       "AR.1           -1.2593           -0.0000j            1.2593           -0.5000\n",
       "AR.2            1.5441           -1.8314j            2.3955           -0.1385\n",
       "AR.3            1.5441           +1.8314j            2.3955            0.1385\n",
       "AR.4           -1.3680           -1.7406j            2.2139           -0.3560\n",
       "AR.5           -1.3680           +1.7406j            2.2139            0.3560\n",
       "MA.1           -1.3428           +0.0000j            1.3428            0.5000\n",
       "-----------------------------------------------------------------------------\n",
       "\"\"\""
      ]
     },
     "execution_count": 25,
     "metadata": {},
     "output_type": "execute_result"
    }
   ],
   "source": [
    "model_ar_5_i_1_ma_1 = ARIMA(df.market_value, order=(5,1,1))\n",
    "results_ar_5_i_1_ma_1 = model_ar_5_i_1_ma_1.fit(start_ar_lags=11)\n",
    "results_ar_5_i_1_ma_1.summary()"
   ]
  },
  {
   "cell_type": "code",
   "execution_count": 26,
   "metadata": {},
   "outputs": [],
   "source": [
    "df['delta_prices']=df.market_value.diff(1)"
   ]
  },
  {
   "cell_type": "code",
   "execution_count": 27,
   "metadata": {},
   "outputs": [
    {
     "data": {
      "text/html": [
       "<table class=\"simpletable\">\n",
       "<caption>ARMA Model Results</caption>\n",
       "<tr>\n",
       "  <th>Dep. Variable:</th>   <td>delta_prices</td>   <th>  No. Observations:  </th>    <td>4191</td>   \n",
       "</tr>\n",
       "<tr>\n",
       "  <th>Model:</th>            <td>ARMA(1, 1)</td>    <th>  Log Likelihood     </th> <td>-17248.281</td>\n",
       "</tr>\n",
       "<tr>\n",
       "  <th>Method:</th>             <td>css-mle</td>     <th>  S.D. of innovations</th>   <td>14.829</td>  \n",
       "</tr>\n",
       "<tr>\n",
       "  <th>Date:</th>          <td>Mon, 02 Mar 2020</td> <th>  AIC                </th>  <td>34504.561</td>\n",
       "</tr>\n",
       "<tr>\n",
       "  <th>Time:</th>              <td>19:56:35</td>     <th>  BIC                </th>  <td>34529.924</td>\n",
       "</tr>\n",
       "<tr>\n",
       "  <th>Sample:</th>           <td>01-04-2000</td>    <th>  HQIC               </th>  <td>34513.530</td>\n",
       "</tr>\n",
       "<tr>\n",
       "  <th></th>                 <td>- 01-26-2016</td>   <th>                     </th>      <td> </td>    \n",
       "</tr>\n",
       "</table>\n",
       "<table class=\"simpletable\">\n",
       "<tr>\n",
       "           <td></td>             <th>coef</th>     <th>std err</th>      <th>z</th>      <th>P>|z|</th>  <th>[0.025</th>    <th>0.975]</th>  \n",
       "</tr>\n",
       "<tr>\n",
       "  <th>const</th>              <td>    0.1079</td> <td>    0.190</td> <td>    0.567</td> <td> 0.571</td> <td>   -0.265</td> <td>    0.481</td>\n",
       "</tr>\n",
       "<tr>\n",
       "  <th>ar.L1.delta_prices</th> <td>    0.6054</td> <td>    0.120</td> <td>    5.036</td> <td> 0.000</td> <td>    0.370</td> <td>    0.841</td>\n",
       "</tr>\n",
       "<tr>\n",
       "  <th>ma.L1.delta_prices</th> <td>   -0.6721</td> <td>    0.112</td> <td>   -6.006</td> <td> 0.000</td> <td>   -0.891</td> <td>   -0.453</td>\n",
       "</tr>\n",
       "</table>\n",
       "<table class=\"simpletable\">\n",
       "<caption>Roots</caption>\n",
       "<tr>\n",
       "    <td></td>   <th>            Real</th>  <th>         Imaginary</th> <th>         Modulus</th>  <th>        Frequency</th>\n",
       "</tr>\n",
       "<tr>\n",
       "  <th>AR.1</th> <td>           1.6519</td> <td>          +0.0000j</td> <td>           1.6519</td> <td>           0.0000</td>\n",
       "</tr>\n",
       "<tr>\n",
       "  <th>MA.1</th> <td>           1.4878</td> <td>          +0.0000j</td> <td>           1.4878</td> <td>           0.0000</td>\n",
       "</tr>\n",
       "</table>"
      ],
      "text/plain": [
       "<class 'statsmodels.iolib.summary.Summary'>\n",
       "\"\"\"\n",
       "                              ARMA Model Results                              \n",
       "==============================================================================\n",
       "Dep. Variable:           delta_prices   No. Observations:                 4191\n",
       "Model:                     ARMA(1, 1)   Log Likelihood              -17248.281\n",
       "Method:                       css-mle   S.D. of innovations             14.829\n",
       "Date:                Mon, 02 Mar 2020   AIC                          34504.561\n",
       "Time:                        19:56:35   BIC                          34529.924\n",
       "Sample:                    01-04-2000   HQIC                         34513.530\n",
       "                         - 01-26-2016                                         \n",
       "======================================================================================\n",
       "                         coef    std err          z      P>|z|      [0.025      0.975]\n",
       "--------------------------------------------------------------------------------------\n",
       "const                  0.1079      0.190      0.567      0.571      -0.265       0.481\n",
       "ar.L1.delta_prices     0.6054      0.120      5.036      0.000       0.370       0.841\n",
       "ma.L1.delta_prices    -0.6721      0.112     -6.006      0.000      -0.891      -0.453\n",
       "                                    Roots                                    \n",
       "=============================================================================\n",
       "                  Real          Imaginary           Modulus         Frequency\n",
       "-----------------------------------------------------------------------------\n",
       "AR.1            1.6519           +0.0000j            1.6519            0.0000\n",
       "MA.1            1.4878           +0.0000j            1.4878            0.0000\n",
       "-----------------------------------------------------------------------------\n",
       "\"\"\""
      ]
     },
     "execution_count": 27,
     "metadata": {},
     "output_type": "execute_result"
    }
   ],
   "source": [
    "model_delta_ar_1_i_1_ma_1 = ARIMA(df.delta_prices[1:], order=(1,0,1))\n",
    "results_delta_ar_1_i_1_ma_1 = model_delta_ar_1_i_1_ma_1.fit()\n",
    "results_delta_ar_1_i_1_ma_1.summary()"
   ]
  },
  {
   "cell_type": "code",
   "execution_count": 28,
   "metadata": {},
   "outputs": [
    {
     "data": {
      "text/plain": [
       "(-49.19015565536986,\n",
       " 0.0,\n",
       " 1,\n",
       " 4189,\n",
       " {'1%': -3.4319120223653132,\n",
       "  '5%': -2.8622302155703507,\n",
       "  '10%': -2.5671374076308826},\n",
       " 34215.34467115904)"
      ]
     },
     "execution_count": 28,
     "metadata": {},
     "output_type": "execute_result"
    }
   ],
   "source": [
    "sts.adfuller(df.delta_prices[1:])"
   ]
  },
  {
   "cell_type": "code",
   "execution_count": 29,
   "metadata": {},
   "outputs": [
    {
     "data": {
      "text/html": [
       "<table class=\"simpletable\">\n",
       "<caption>ARIMA Model Results</caption>\n",
       "<tr>\n",
       "  <th>Dep. Variable:</th>  <td>D2.market_value</td> <th>  No. Observations:  </th>    <td>4190</td>   \n",
       "</tr>\n",
       "<tr>\n",
       "  <th>Model:</th>          <td>ARIMA(1, 2, 1)</td>  <th>  Log Likelihood     </th> <td>-17253.440</td>\n",
       "</tr>\n",
       "<tr>\n",
       "  <th>Method:</th>             <td>css-mle</td>     <th>  S.D. of innovations</th>   <td>14.847</td>  \n",
       "</tr>\n",
       "<tr>\n",
       "  <th>Date:</th>          <td>Mon, 02 Mar 2020</td> <th>  AIC                </th>  <td>34514.880</td>\n",
       "</tr>\n",
       "<tr>\n",
       "  <th>Time:</th>              <td>19:56:40</td>     <th>  BIC                </th>  <td>34540.242</td>\n",
       "</tr>\n",
       "<tr>\n",
       "  <th>Sample:</th>           <td>01-05-2000</td>    <th>  HQIC               </th>  <td>34523.849</td>\n",
       "</tr>\n",
       "<tr>\n",
       "  <th></th>                 <td>- 01-26-2016</td>   <th>                     </th>      <td> </td>    \n",
       "</tr>\n",
       "</table>\n",
       "<table class=\"simpletable\">\n",
       "<tr>\n",
       "            <td></td>               <th>coef</th>     <th>std err</th>      <th>z</th>      <th>P>|z|</th>  <th>[0.025</th>    <th>0.975]</th>  \n",
       "</tr>\n",
       "<tr>\n",
       "  <th>const</th>                 <td>    0.0002</td> <td>    0.000</td> <td>    1.320</td> <td> 0.187</td> <td>   -0.000</td> <td>    0.001</td>\n",
       "</tr>\n",
       "<tr>\n",
       "  <th>ar.L1.D2.market_value</th> <td>   -0.0666</td> <td>    0.015</td> <td>   -4.314</td> <td> 0.000</td> <td>   -0.097</td> <td>   -0.036</td>\n",
       "</tr>\n",
       "<tr>\n",
       "  <th>ma.L1.D2.market_value</th> <td>   -1.0000</td> <td>    0.001</td> <td>-1443.462</td> <td> 0.000</td> <td>   -1.001</td> <td>   -0.999</td>\n",
       "</tr>\n",
       "</table>\n",
       "<table class=\"simpletable\">\n",
       "<caption>Roots</caption>\n",
       "<tr>\n",
       "    <td></td>   <th>            Real</th>  <th>         Imaginary</th> <th>         Modulus</th>  <th>        Frequency</th>\n",
       "</tr>\n",
       "<tr>\n",
       "  <th>AR.1</th> <td>         -15.0083</td> <td>          +0.0000j</td> <td>          15.0083</td> <td>           0.5000</td>\n",
       "</tr>\n",
       "<tr>\n",
       "  <th>MA.1</th> <td>           1.0000</td> <td>          +0.0000j</td> <td>           1.0000</td> <td>           0.0000</td>\n",
       "</tr>\n",
       "</table>"
      ],
      "text/plain": [
       "<class 'statsmodels.iolib.summary.Summary'>\n",
       "\"\"\"\n",
       "                             ARIMA Model Results                              \n",
       "==============================================================================\n",
       "Dep. Variable:        D2.market_value   No. Observations:                 4190\n",
       "Model:                 ARIMA(1, 2, 1)   Log Likelihood              -17253.440\n",
       "Method:                       css-mle   S.D. of innovations             14.847\n",
       "Date:                Mon, 02 Mar 2020   AIC                          34514.880\n",
       "Time:                        19:56:40   BIC                          34540.242\n",
       "Sample:                    01-05-2000   HQIC                         34523.849\n",
       "                         - 01-26-2016                                         \n",
       "=========================================================================================\n",
       "                            coef    std err          z      P>|z|      [0.025      0.975]\n",
       "-----------------------------------------------------------------------------------------\n",
       "const                     0.0002      0.000      1.320      0.187      -0.000       0.001\n",
       "ar.L1.D2.market_value    -0.0666      0.015     -4.314      0.000      -0.097      -0.036\n",
       "ma.L1.D2.market_value    -1.0000      0.001  -1443.462      0.000      -1.001      -0.999\n",
       "                                    Roots                                    \n",
       "=============================================================================\n",
       "                  Real          Imaginary           Modulus         Frequency\n",
       "-----------------------------------------------------------------------------\n",
       "AR.1          -15.0083           +0.0000j           15.0083            0.5000\n",
       "MA.1            1.0000           +0.0000j            1.0000            0.0000\n",
       "-----------------------------------------------------------------------------\n",
       "\"\"\""
      ]
     },
     "execution_count": 29,
     "metadata": {},
     "output_type": "execute_result"
    }
   ],
   "source": [
    "model_ar_1_i_2_ma_1 = ARIMA(df.market_value, order=(1,2,1))\n",
    "results_ar_1_i_2_ma_1 = model_ar_1_i_2_ma_1.fit(start_ar_lags=10)\n",
    "results_ar_1_i_2_ma_1.summary()"
   ]
  },
  {
   "cell_type": "code",
   "execution_count": 30,
   "metadata": {},
   "outputs": [
    {
     "data": {
      "image/png": "[encoded data removed]",
      "text/plain": [
       "<Figure size 432x288 with 1 Axes>"
      ]
     },
     "metadata": {
      "needs_background": "light"
     },
     "output_type": "display_data"
    }
   ],
   "source": [
    "df['res_ar_1_i_2_ma_1'] = results_ar_1_i_2_ma_1.resid.iloc[:]\n",
    "sgt.plot_acf(df.res_ar_1_i_2_ma_1[2:], zero = False, lags = 40)\n",
    "plt.title(\"ACF Of Residuals for ARIMA(1,2,1)\",size=20)\n",
    "plt.show()"
   ]
  },
  {
   "cell_type": "markdown",
   "metadata": {},
   "source": [
    "ARIMAX"
   ]
  },
  {
   "cell_type": "code",
   "execution_count": 31,
   "metadata": {},
   "outputs": [
    {
     "data": {
      "text/html": [
       "<table class=\"simpletable\">\n",
       "<caption>ARIMA Model Results</caption>\n",
       "<tr>\n",
       "  <th>Dep. Variable:</th>  <td>D.market_value</td>  <th>  No. Observations:  </th>    <td>4191</td>   \n",
       "</tr>\n",
       "<tr>\n",
       "  <th>Model:</th>          <td>ARIMA(1, 1, 1)</td>  <th>  Log Likelihood     </th> <td>-17248.042</td>\n",
       "</tr>\n",
       "<tr>\n",
       "  <th>Method:</th>             <td>css-mle</td>     <th>  S.D. of innovations</th>   <td>14.829</td>  \n",
       "</tr>\n",
       "<tr>\n",
       "  <th>Date:</th>          <td>Mon, 02 Mar 2020</td> <th>  AIC                </th>  <td>34506.085</td>\n",
       "</tr>\n",
       "<tr>\n",
       "  <th>Time:</th>              <td>19:56:43</td>     <th>  BIC                </th>  <td>34537.788</td>\n",
       "</tr>\n",
       "<tr>\n",
       "  <th>Sample:</th>           <td>01-04-2000</td>    <th>  HQIC               </th>  <td>34517.296</td>\n",
       "</tr>\n",
       "<tr>\n",
       "  <th></th>                 <td>- 01-26-2016</td>   <th>                     </th>      <td> </td>    \n",
       "</tr>\n",
       "</table>\n",
       "<table class=\"simpletable\">\n",
       "<tr>\n",
       "            <td></td>              <th>coef</th>     <th>std err</th>      <th>z</th>      <th>P>|z|</th>  <th>[0.025</th>    <th>0.975]</th>  \n",
       "</tr>\n",
       "<tr>\n",
       "  <th>const</th>                <td>   -0.3460</td> <td>    0.617</td> <td>   -0.561</td> <td> 0.575</td> <td>   -1.556</td> <td>    0.864</td>\n",
       "</tr>\n",
       "<tr>\n",
       "  <th>dax</th>                  <td> 7.046e-05</td> <td>  9.2e-05</td> <td>    0.766</td> <td> 0.444</td> <td>   -0.000</td> <td>    0.000</td>\n",
       "</tr>\n",
       "<tr>\n",
       "  <th>ar.L1.D.market_value</th> <td>    0.6043</td> <td>    0.121</td> <td>    5.003</td> <td> 0.000</td> <td>    0.368</td> <td>    0.841</td>\n",
       "</tr>\n",
       "<tr>\n",
       "  <th>ma.L1.D.market_value</th> <td>   -0.6710</td> <td>    0.113</td> <td>   -5.964</td> <td> 0.000</td> <td>   -0.892</td> <td>   -0.450</td>\n",
       "</tr>\n",
       "</table>\n",
       "<table class=\"simpletable\">\n",
       "<caption>Roots</caption>\n",
       "<tr>\n",
       "    <td></td>   <th>            Real</th>  <th>         Imaginary</th> <th>         Modulus</th>  <th>        Frequency</th>\n",
       "</tr>\n",
       "<tr>\n",
       "  <th>AR.1</th> <td>           1.6549</td> <td>          +0.0000j</td> <td>           1.6549</td> <td>           0.0000</td>\n",
       "</tr>\n",
       "<tr>\n",
       "  <th>MA.1</th> <td>           1.4903</td> <td>          +0.0000j</td> <td>           1.4903</td> <td>           0.0000</td>\n",
       "</tr>\n",
       "</table>"
      ],
      "text/plain": [
       "<class 'statsmodels.iolib.summary.Summary'>\n",
       "\"\"\"\n",
       "                             ARIMA Model Results                              \n",
       "==============================================================================\n",
       "Dep. Variable:         D.market_value   No. Observations:                 4191\n",
       "Model:                 ARIMA(1, 1, 1)   Log Likelihood              -17248.042\n",
       "Method:                       css-mle   S.D. of innovations             14.829\n",
       "Date:                Mon, 02 Mar 2020   AIC                          34506.085\n",
       "Time:                        19:56:43   BIC                          34537.788\n",
       "Sample:                    01-04-2000   HQIC                         34517.296\n",
       "                         - 01-26-2016                                         \n",
       "========================================================================================\n",
       "                           coef    std err          z      P>|z|      [0.025      0.975]\n",
       "----------------------------------------------------------------------------------------\n",
       "const                   -0.3460      0.617     -0.561      0.575      -1.556       0.864\n",
       "dax                   7.046e-05    9.2e-05      0.766      0.444      -0.000       0.000\n",
       "ar.L1.D.market_value     0.6043      0.121      5.003      0.000       0.368       0.841\n",
       "ma.L1.D.market_value    -0.6710      0.113     -5.964      0.000      -0.892      -0.450\n",
       "                                    Roots                                    \n",
       "=============================================================================\n",
       "                  Real          Imaginary           Modulus         Frequency\n",
       "-----------------------------------------------------------------------------\n",
       "AR.1            1.6549           +0.0000j            1.6549            0.0000\n",
       "MA.1            1.4903           +0.0000j            1.4903            0.0000\n",
       "-----------------------------------------------------------------------------\n",
       "\"\"\""
      ]
     },
     "execution_count": 31,
     "metadata": {},
     "output_type": "execute_result"
    }
   ],
   "source": [
    "model_ar_1_i_1_ma_1_Xdax = ARIMA(df.market_value, exog = df.dax, order=(1,1,1))\n",
    "results_ar_1_i_1_ma_1_Xdax = model_ar_1_i_1_ma_1_Xdax.fit()\n",
    "results_ar_1_i_1_ma_1_Xdax.summary()"
   ]
  },
  {
   "cell_type": "markdown",
   "metadata": {},
   "source": [
    "SARIMAX"
   ]
  },
  {
   "cell_type": "code",
   "execution_count": 32,
   "metadata": {},
   "outputs": [],
   "source": [
    "from statsmodels.tsa.statespace.sarimax import SARIMAX"
   ]
  },
  {
   "cell_type": "code",
   "execution_count": 33,
   "metadata": {},
   "outputs": [
    {
     "data": {
      "text/html": [
       "<table class=\"simpletable\">\n",
       "<caption>SARIMAX Results</caption>\n",
       "<tr>\n",
       "  <th>Dep. Variable:</th>           <td>market_value</td>          <th>  No. Observations:  </th>    <td>4192</td>   \n",
       "</tr>\n",
       "<tr>\n",
       "  <th>Model:</th>           <td>SARIMAX(1, 0, 1)x(2, 0, 1, 5)</td> <th>  Log Likelihood     </th>  <td>44383.887</td>\n",
       "</tr>\n",
       "<tr>\n",
       "  <th>Date:</th>                  <td>Mon, 02 Mar 2020</td>        <th>  AIC                </th> <td>-88753.774</td>\n",
       "</tr>\n",
       "<tr>\n",
       "  <th>Time:</th>                      <td>19:56:48</td>            <th>  BIC                </th> <td>-88709.388</td>\n",
       "</tr>\n",
       "<tr>\n",
       "  <th>Sample:</th>                   <td>01-03-2000</td>           <th>  HQIC               </th> <td>-88738.078</td>\n",
       "</tr>\n",
       "<tr>\n",
       "  <th></th>                         <td>- 01-26-2016</td>          <th>                     </th>      <td> </td>    \n",
       "</tr>\n",
       "<tr>\n",
       "  <th>Covariance Type:</th>              <td>opg</td>              <th>                     </th>      <td> </td>    \n",
       "</tr>\n",
       "</table>\n",
       "<table class=\"simpletable\">\n",
       "<tr>\n",
       "      <td></td>        <th>coef</th>     <th>std err</th>      <th>z</th>      <th>P>|z|</th>  <th>[0.025</th>    <th>0.975]</th>  \n",
       "</tr>\n",
       "<tr>\n",
       "  <th>spx</th>      <td>    1.0000</td> <td> 5.18e-07</td> <td> 1.93e+06</td> <td> 0.000</td> <td>    1.000</td> <td>    1.000</td>\n",
       "</tr>\n",
       "<tr>\n",
       "  <th>ar.L1</th>    <td>    0.9999</td> <td>    0.000</td> <td> 4650.767</td> <td> 0.000</td> <td>    0.999</td> <td>    1.000</td>\n",
       "</tr>\n",
       "<tr>\n",
       "  <th>ma.L1</th>    <td>   -0.3975</td> <td> 1.59e-06</td> <td> -2.5e+05</td> <td> 0.000</td> <td>   -0.397</td> <td>   -0.397</td>\n",
       "</tr>\n",
       "<tr>\n",
       "  <th>ar.S.L5</th>  <td>    0.8167</td> <td>    0.000</td> <td> 3089.753</td> <td> 0.000</td> <td>    0.816</td> <td>    0.817</td>\n",
       "</tr>\n",
       "<tr>\n",
       "  <th>ar.S.L10</th> <td>    0.1828</td> <td>    0.000</td> <td>  682.225</td> <td> 0.000</td> <td>    0.182</td> <td>    0.183</td>\n",
       "</tr>\n",
       "<tr>\n",
       "  <th>ma.S.L5</th>  <td>   -0.2252</td> <td> 9.54e-07</td> <td>-2.36e+05</td> <td> 0.000</td> <td>   -0.225</td> <td>   -0.225</td>\n",
       "</tr>\n",
       "<tr>\n",
       "  <th>sigma2</th>   <td>     1e-10</td> <td> 3.06e-11</td> <td>    3.265</td> <td> 0.001</td> <td>    4e-11</td> <td>  1.6e-10</td>\n",
       "</tr>\n",
       "</table>\n",
       "<table class=\"simpletable\">\n",
       "<tr>\n",
       "  <th>Ljung-Box (Q):</th>             <td>2046.36</td>    <th>  Jarque-Bera (JB):  </th> <td>3390338.97</td>\n",
       "</tr>\n",
       "<tr>\n",
       "  <th>Prob(Q):</th>                    <td>0.00</td>      <th>  Prob(JB):          </th>    <td>0.00</td>   \n",
       "</tr>\n",
       "<tr>\n",
       "  <th>Heteroskedasticity (H):</th> <td>2491195211.00</td> <th>  Skew:              </th>    <td>-0.00</td>  \n",
       "</tr>\n",
       "<tr>\n",
       "  <th>Prob(H) (two-sided):</th>        <td>0.00</td>      <th>  Kurtosis:          </th>   <td>142.32</td>  \n",
       "</tr>\n",
       "</table><br/><br/>Warnings:<br/>[1] Covariance matrix calculated using the outer product of gradients (complex-step).<br/>[2] Covariance matrix is singular or near-singular, with condition number 7.45e+21. Standard errors may be unstable."
      ],
      "text/plain": [
       "<class 'statsmodels.iolib.summary.Summary'>\n",
       "\"\"\"\n",
       "                                     SARIMAX Results                                     \n",
       "=========================================================================================\n",
       "Dep. Variable:                      market_value   No. Observations:                 4192\n",
       "Model:             SARIMAX(1, 0, 1)x(2, 0, 1, 5)   Log Likelihood               44383.887\n",
       "Date:                           Mon, 02 Mar 2020   AIC                         -88753.774\n",
       "Time:                                   19:56:48   BIC                         -88709.388\n",
       "Sample:                               01-03-2000   HQIC                        -88738.078\n",
       "                                    - 01-26-2016                                         \n",
       "Covariance Type:                             opg                                         \n",
       "==============================================================================\n",
       "                 coef    std err          z      P>|z|      [0.025      0.975]\n",
       "------------------------------------------------------------------------------\n",
       "spx            1.0000   5.18e-07   1.93e+06      0.000       1.000       1.000\n",
       "ar.L1          0.9999      0.000   4650.767      0.000       0.999       1.000\n",
       "ma.L1         -0.3975   1.59e-06   -2.5e+05      0.000      -0.397      -0.397\n",
       "ar.S.L5        0.8167      0.000   3089.753      0.000       0.816       0.817\n",
       "ar.S.L10       0.1828      0.000    682.225      0.000       0.182       0.183\n",
       "ma.S.L5       -0.2252   9.54e-07  -2.36e+05      0.000      -0.225      -0.225\n",
       "sigma2          1e-10   3.06e-11      3.265      0.001       4e-11     1.6e-10\n",
       "===================================================================================\n",
       "Ljung-Box (Q):                     2046.36   Jarque-Bera (JB):           3390338.97\n",
       "Prob(Q):                              0.00   Prob(JB):                         0.00\n",
       "Heteroskedasticity (H):      2491195211.00   Skew:                            -0.00\n",
       "Prob(H) (two-sided):                  0.00   Kurtosis:                       142.32\n",
       "===================================================================================\n",
       "\n",
       "Warnings:\n",
       "[1] Covariance matrix calculated using the outer product of gradients (complex-step).\n",
       "[2] Covariance matrix is singular or near-singular, with condition number 7.45e+21. Standard errors may be unstable.\n",
       "\"\"\""
      ]
     },
     "execution_count": 33,
     "metadata": {},
     "output_type": "execute_result"
    }
   ],
   "source": [
    "model_sarimax = SARIMAX(df.market_value, exog = df.spx, order=(1,0,1), seasonal_order = (2,0,1,5))\n",
    "results_sarimax = model_sarimax.fit()\n",
    "results_sarimax.summary()"
   ]
  },
  {
   "cell_type": "code",
   "execution_count": null,
   "metadata": {},
   "outputs": [],
   "source": []
  }
 ],
 "metadata": {
  "kernelspec": {
   "display_name": "Python 3",
   "language": "python",
   "name": "python3"
  },
  "language_info": {
   "codemirror_mode": {
    "name": "ipython",
    "version": 3
   },
   "file_extension": ".py",
   "mimetype": "text/x-python",
   "name": "python",
   "nbconvert_exporter": "python",
   "pygments_lexer": "ipython3",
   "version": "3.7.3"
  }
 },
 "nbformat": 4,
 "nbformat_minor": 2
}

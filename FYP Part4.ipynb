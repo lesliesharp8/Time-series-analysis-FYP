{
 "cells": [
  {
   "cell_type": "markdown",
   "metadata": {},
   "source": [
    "Importing packages"
   ]
  },
  {
   "cell_type": "code",
   "execution_count": 1,
   "metadata": {},
   "outputs": [],
   "source": [
    "import pandas as pd\n",
    "import numpy as np\n",
    "import matplotlib.pyplot as plt\n",
    "import statsmodels.graphics.tsaplots as sgt\n",
    "from statsmodels.tsa.arima_model import ARMA\n",
    "from scipy.stats.distributions import chi2\n",
    "import statsmodels.tsa.stattools as sts \n",
    "import seaborn as sns\n",
    "sns.set()"
   ]
  },
  {
   "cell_type": "markdown",
   "metadata": {},
   "source": [
    "Data Pre-processing"
   ]
  },
  {
   "cell_type": "code",
   "execution_count": 2,
   "metadata": {},
   "outputs": [],
   "source": [
    "raw_csv_data = pd.read_csv(\"Index2020.csv\") \n",
    "df_com=raw_csv_data.copy()\n",
    "df_com.date = pd.to_datetime(df_com.date, dayfirst = True)\n",
    "df_com.set_index(\"date\", inplace=True)\n",
    "df_com=df_com.asfreq('b')\n",
    "df_com=df_com.fillna(method='ffill')"
   ]
  },
  {
   "cell_type": "code",
   "execution_count": 3,
   "metadata": {},
   "outputs": [],
   "source": [
    "df_com['market_value']=df_com.dax"
   ]
  },
  {
   "cell_type": "code",
   "execution_count": 4,
   "metadata": {},
   "outputs": [],
   "source": [
    "del df_com['spx']\n",
    "size = int(len(df_com)*0.8)\n",
    "df, df_test = df_com.iloc[:size], df_com.iloc[size:]"
   ]
  },
  {
   "cell_type": "markdown",
   "metadata": {},
   "source": [
    "ACF"
   ]
  },
  {
   "cell_type": "code",
   "execution_count": 5,
   "metadata": {},
   "outputs": [
    {
     "data": {
      "image/png": "[encoded data removed]",
      "text/plain": [
       "<Figure size 432x288 with 1 Axes>"
      ]
     },
     "metadata": {
      "needs_background": "light"
     },
     "output_type": "display_data"
    }
   ],
   "source": [
    "sgt.plot_acf(df.market_value, zero = False, lags = 40)\n",
    "plt.title(\"ACF for Price\", size = 20)\n",
    "plt.show()\n",
    "#similar to s&p500\n",
    "#40 lagged coefficient are significant & declining\n",
    "#all between 0.9 & 1.0;effects hardly deteriorate over time\n",
    "#Both behave the same & past values affect present"
   ]
  },
  {
   "cell_type": "markdown",
   "metadata": {},
   "source": [
    "PACF"
   ]
  },
  {
   "cell_type": "code",
   "execution_count": 6,
   "metadata": {},
   "outputs": [
    {
     "data": {
      "image/png": "[encoded data removed]",
      "text/plain": [
       "<Figure size 432x288 with 1 Axes>"
      ]
     },
     "metadata": {
      "needs_background": "light"
     },
     "output_type": "display_data"
    }
   ],
   "source": [
    "sgt.plot_pacf(df.market_value, lags = 40, alpha = 0.05, zero = False, method = ('ols'))\n",
    "plt.title(\"PACF for Price\", size =20)\n",
    "plt.show()\n",
    "#only include past lags which hv direct significant effect on present\n",
    "#most of the coefficients from 25th lag onwards are not significant;Ignore?too close to 0;small model impact\n",
    "#model < 25 lags\n",
    "#values after 22nd lag are -ve;frequency is in business days ~~ 22days in month\n",
    "#cyclical changes;values month ago affect today"
   ]
  },
  {
   "cell_type": "markdown",
   "metadata": {},
   "source": [
    "AR1 Model"
   ]
  },
  {
   "cell_type": "code",
   "execution_count": 7,
   "metadata": {},
   "outputs": [],
   "source": [
    "model_ar = ARMA(df.market_value, order = (1,0))\n",
    "#1 is model no; no.of past values to incorporate\n",
    "#0 is not taking any residual values\n",
    "#simple autoregressive(AR) model"
   ]
  },
  {
   "cell_type": "code",
   "execution_count": 8,
   "metadata": {},
   "outputs": [],
   "source": [
    "results_ar = model_ar.fit()"
   ]
  },
  {
   "cell_type": "code",
   "execution_count": 9,
   "metadata": {},
   "outputs": [
    {
     "data": {
      "text/html": [
       "<table class=\"simpletable\">\n",
       "<caption>ARMA Model Results</caption>\n",
       "<tr>\n",
       "  <th>Dep. Variable:</th>   <td>market_value</td>   <th>  No. Observations:  </th>    <td>4192</td>   \n",
       "</tr>\n",
       "<tr>\n",
       "  <th>Model:</th>            <td>ARMA(1, 0)</td>    <th>  Log Likelihood     </th> <td>-24819.095</td>\n",
       "</tr>\n",
       "<tr>\n",
       "  <th>Method:</th>             <td>css-mle</td>     <th>  S.D. of innovations</th>   <td>90.097</td>  \n",
       "</tr>\n",
       "<tr>\n",
       "  <th>Date:</th>          <td>Wed, 12 Feb 2020</td> <th>  AIC                </th>  <td>49644.190</td>\n",
       "</tr>\n",
       "<tr>\n",
       "  <th>Time:</th>              <td>19:54:17</td>     <th>  BIC                </th>  <td>49663.212</td>\n",
       "</tr>\n",
       "<tr>\n",
       "  <th>Sample:</th>           <td>01-03-2000</td>    <th>  HQIC               </th>  <td>49650.917</td>\n",
       "</tr>\n",
       "<tr>\n",
       "  <th></th>                 <td>- 01-26-2016</td>   <th>                     </th>      <td> </td>    \n",
       "</tr>\n",
       "</table>\n",
       "<table class=\"simpletable\">\n",
       "<tr>\n",
       "           <td></td>             <th>coef</th>     <th>std err</th>      <th>z</th>      <th>P>|z|</th>  <th>[0.025</th>    <th>0.975]</th>  \n",
       "</tr>\n",
       "<tr>\n",
       "  <th>const</th>              <td> 6378.0807</td> <td> 1374.467</td> <td>    4.640</td> <td> 0.000</td> <td> 3684.175</td> <td> 9071.986</td>\n",
       "</tr>\n",
       "<tr>\n",
       "  <th>ar.L1.market_value</th> <td>    0.9991</td> <td>    0.001</td> <td> 1583.885</td> <td> 0.000</td> <td>    0.998</td> <td>    1.000</td>\n",
       "</tr>\n",
       "</table>\n",
       "<table class=\"simpletable\">\n",
       "<caption>Roots</caption>\n",
       "<tr>\n",
       "    <td></td>   <th>            Real</th>  <th>         Imaginary</th> <th>         Modulus</th>  <th>        Frequency</th>\n",
       "</tr>\n",
       "<tr>\n",
       "  <th>AR.1</th> <td>           1.0009</td> <td>          +0.0000j</td> <td>           1.0009</td> <td>           0.0000</td>\n",
       "</tr>\n",
       "</table>"
      ],
      "text/plain": [
       "<class 'statsmodels.iolib.summary.Summary'>\n",
       "\"\"\"\n",
       "                              ARMA Model Results                              \n",
       "==============================================================================\n",
       "Dep. Variable:           market_value   No. Observations:                 4192\n",
       "Model:                     ARMA(1, 0)   Log Likelihood              -24819.095\n",
       "Method:                       css-mle   S.D. of innovations             90.097\n",
       "Date:                Wed, 12 Feb 2020   AIC                          49644.190\n",
       "Time:                        19:54:17   BIC                          49663.212\n",
       "Sample:                    01-03-2000   HQIC                         49650.917\n",
       "                         - 01-26-2016                                         \n",
       "======================================================================================\n",
       "                         coef    std err          z      P>|z|      [0.025      0.975]\n",
       "--------------------------------------------------------------------------------------\n",
       "const               6378.0807   1374.467      4.640      0.000    3684.175    9071.986\n",
       "ar.L1.market_value     0.9991      0.001   1583.885      0.000       0.998       1.000\n",
       "                                    Roots                                    \n",
       "=============================================================================\n",
       "                  Real          Imaginary           Modulus         Frequency\n",
       "-----------------------------------------------------------------------------\n",
       "AR.1            1.0009           +0.0000j            1.0009            0.0000\n",
       "-----------------------------------------------------------------------------\n",
       "\"\"\""
      ]
     },
     "execution_count": 9,
     "metadata": {},
     "output_type": "execute_result"
    }
   ],
   "source": [
    "results_ar.summary()\n",
    "#critical value for 95percent confidence internal is not zero;coefficients are significant\n",
    "#phi=0.9991;near 1;as seen in ACF & PACF graph;\n",
    "#p-value;If a value is significantly different from 0 it means based on the data,\n",
    "#not enough evidence to confirm it isn't equal to 0\n",
    "#Therefore,assume its coefficient is 0, so we don't use it to make estimates or forecasts"
   ]
  },
  {
   "cell_type": "markdown",
   "metadata": {},
   "source": [
    "Higher-Lag AR Models"
   ]
  },
  {
   "cell_type": "code",
   "execution_count": 10,
   "metadata": {},
   "outputs": [
    {
     "data": {
      "text/html": [
       "<table class=\"simpletable\">\n",
       "<caption>ARMA Model Results</caption>\n",
       "<tr>\n",
       "  <th>Dep. Variable:</th>   <td>market_value</td>   <th>  No. Observations:  </th>    <td>4192</td>   \n",
       "</tr>\n",
       "<tr>\n",
       "  <th>Model:</th>            <td>ARMA(2, 0)</td>    <th>  Log Likelihood     </th> <td>-24818.879</td>\n",
       "</tr>\n",
       "<tr>\n",
       "  <th>Method:</th>             <td>css-mle</td>     <th>  S.D. of innovations</th>   <td>90.093</td>  \n",
       "</tr>\n",
       "<tr>\n",
       "  <th>Date:</th>          <td>Wed, 12 Feb 2020</td> <th>  AIC                </th>  <td>49645.758</td>\n",
       "</tr>\n",
       "<tr>\n",
       "  <th>Time:</th>              <td>19:54:17</td>     <th>  BIC                </th>  <td>49671.122</td>\n",
       "</tr>\n",
       "<tr>\n",
       "  <th>Sample:</th>           <td>01-03-2000</td>    <th>  HQIC               </th>  <td>49654.728</td>\n",
       "</tr>\n",
       "<tr>\n",
       "  <th></th>                 <td>- 01-26-2016</td>   <th>                     </th>      <td> </td>    \n",
       "</tr>\n",
       "</table>\n",
       "<table class=\"simpletable\">\n",
       "<tr>\n",
       "           <td></td>             <th>coef</th>     <th>std err</th>      <th>z</th>      <th>P>|z|</th>  <th>[0.025</th>    <th>0.975]</th>  \n",
       "</tr>\n",
       "<tr>\n",
       "  <th>const</th>              <td> 6378.0887</td> <td> 1387.691</td> <td>    4.596</td> <td> 0.000</td> <td> 3658.264</td> <td> 9097.913</td>\n",
       "</tr>\n",
       "<tr>\n",
       "  <th>ar.L1.market_value</th> <td>    0.9890</td> <td>    0.015</td> <td>   64.500</td> <td> 0.000</td> <td>    0.959</td> <td>    1.019</td>\n",
       "</tr>\n",
       "<tr>\n",
       "  <th>ar.L2.market_value</th> <td>    0.0101</td> <td>    0.015</td> <td>    0.662</td> <td> 0.508</td> <td>   -0.020</td> <td>    0.040</td>\n",
       "</tr>\n",
       "</table>\n",
       "<table class=\"simpletable\">\n",
       "<caption>Roots</caption>\n",
       "<tr>\n",
       "    <td></td>   <th>            Real</th>  <th>         Imaginary</th> <th>         Modulus</th>  <th>        Frequency</th>\n",
       "</tr>\n",
       "<tr>\n",
       "  <th>AR.1</th> <td>           1.0009</td> <td>          +0.0000j</td> <td>           1.0009</td> <td>           0.0000</td>\n",
       "</tr>\n",
       "<tr>\n",
       "  <th>AR.2</th> <td>         -98.4517</td> <td>          +0.0000j</td> <td>          98.4517</td> <td>           0.5000</td>\n",
       "</tr>\n",
       "</table>"
      ],
      "text/plain": [
       "<class 'statsmodels.iolib.summary.Summary'>\n",
       "\"\"\"\n",
       "                              ARMA Model Results                              \n",
       "==============================================================================\n",
       "Dep. Variable:           market_value   No. Observations:                 4192\n",
       "Model:                     ARMA(2, 0)   Log Likelihood              -24818.879\n",
       "Method:                       css-mle   S.D. of innovations             90.093\n",
       "Date:                Wed, 12 Feb 2020   AIC                          49645.758\n",
       "Time:                        19:54:17   BIC                          49671.122\n",
       "Sample:                    01-03-2000   HQIC                         49654.728\n",
       "                         - 01-26-2016                                         \n",
       "======================================================================================\n",
       "                         coef    std err          z      P>|z|      [0.025      0.975]\n",
       "--------------------------------------------------------------------------------------\n",
       "const               6378.0887   1387.691      4.596      0.000    3658.264    9097.913\n",
       "ar.L1.market_value     0.9890      0.015     64.500      0.000       0.959       1.019\n",
       "ar.L2.market_value     0.0101      0.015      0.662      0.508      -0.020       0.040\n",
       "                                    Roots                                    \n",
       "=============================================================================\n",
       "                  Real          Imaginary           Modulus         Frequency\n",
       "-----------------------------------------------------------------------------\n",
       "AR.1            1.0009           +0.0000j            1.0009            0.0000\n",
       "AR.2          -98.4517           +0.0000j           98.4517            0.5000\n",
       "-----------------------------------------------------------------------------\n",
       "\"\"\""
      ]
     },
     "execution_count": 10,
     "metadata": {},
     "output_type": "execute_result"
    }
   ],
   "source": [
    "model_ar_2 = ARMA(df.market_value, order = (2,0))\n",
    "results_ar_2 = model_ar_2.fit()\n",
    "results_ar_2.summary()"
   ]
  },
  {
   "cell_type": "code",
   "execution_count": 11,
   "metadata": {},
   "outputs": [
    {
     "data": {
      "text/html": [
       "<table class=\"simpletable\">\n",
       "<caption>ARMA Model Results</caption>\n",
       "<tr>\n",
       "  <th>Dep. Variable:</th>   <td>market_value</td>   <th>  No. Observations:  </th>    <td>4192</td>   \n",
       "</tr>\n",
       "<tr>\n",
       "  <th>Model:</th>            <td>ARMA(3, 0)</td>    <th>  Log Likelihood     </th> <td>-24817.884</td>\n",
       "</tr>\n",
       "<tr>\n",
       "  <th>Method:</th>             <td>css-mle</td>     <th>  S.D. of innovations</th>   <td>90.071</td>  \n",
       "</tr>\n",
       "<tr>\n",
       "  <th>Date:</th>          <td>Wed, 12 Feb 2020</td> <th>  AIC                </th>  <td>49645.768</td>\n",
       "</tr>\n",
       "<tr>\n",
       "  <th>Time:</th>              <td>19:54:18</td>     <th>  BIC                </th>  <td>49677.473</td>\n",
       "</tr>\n",
       "<tr>\n",
       "  <th>Sample:</th>           <td>01-03-2000</td>    <th>  HQIC               </th>  <td>49656.980</td>\n",
       "</tr>\n",
       "<tr>\n",
       "  <th></th>                 <td>- 01-26-2016</td>   <th>                     </th>      <td> </td>    \n",
       "</tr>\n",
       "</table>\n",
       "<table class=\"simpletable\">\n",
       "<tr>\n",
       "           <td></td>             <th>coef</th>     <th>std err</th>      <th>z</th>      <th>P>|z|</th>  <th>[0.025</th>    <th>0.975]</th>  \n",
       "</tr>\n",
       "<tr>\n",
       "  <th>const</th>              <td> 6378.0787</td> <td> 1416.932</td> <td>    4.501</td> <td> 0.000</td> <td> 3600.942</td> <td> 9155.215</td>\n",
       "</tr>\n",
       "<tr>\n",
       "  <th>ar.L1.market_value</th> <td>    0.9888</td> <td>    0.015</td> <td>   64.547</td> <td> 0.000</td> <td>    0.959</td> <td>    1.019</td>\n",
       "</tr>\n",
       "<tr>\n",
       "  <th>ar.L2.market_value</th> <td>   -0.0114</td> <td>    0.022</td> <td>   -0.527</td> <td> 0.598</td> <td>   -0.054</td> <td>    0.031</td>\n",
       "</tr>\n",
       "<tr>\n",
       "  <th>ar.L3.market_value</th> <td>    0.0218</td> <td>    0.015</td> <td>    1.411</td> <td> 0.158</td> <td>   -0.008</td> <td>    0.052</td>\n",
       "</tr>\n",
       "</table>\n",
       "<table class=\"simpletable\">\n",
       "<caption>Roots</caption>\n",
       "<tr>\n",
       "    <td></td>   <th>            Real</th>  <th>         Imaginary</th> <th>         Modulus</th>  <th>        Frequency</th>\n",
       "</tr>\n",
       "<tr>\n",
       "  <th>AR.1</th> <td>           1.0008</td> <td>          -0.0000j</td> <td>           1.0008</td> <td>          -0.0000</td>\n",
       "</tr>\n",
       "<tr>\n",
       "  <th>AR.2</th> <td>          -0.2389</td> <td>          -6.7661j</td> <td>           6.7704</td> <td>          -0.2556</td>\n",
       "</tr>\n",
       "<tr>\n",
       "  <th>AR.3</th> <td>          -0.2389</td> <td>          +6.7661j</td> <td>           6.7704</td> <td>           0.2556</td>\n",
       "</tr>\n",
       "</table>"
      ],
      "text/plain": [
       "<class 'statsmodels.iolib.summary.Summary'>\n",
       "\"\"\"\n",
       "                              ARMA Model Results                              \n",
       "==============================================================================\n",
       "Dep. Variable:           market_value   No. Observations:                 4192\n",
       "Model:                     ARMA(3, 0)   Log Likelihood              -24817.884\n",
       "Method:                       css-mle   S.D. of innovations             90.071\n",
       "Date:                Wed, 12 Feb 2020   AIC                          49645.768\n",
       "Time:                        19:54:18   BIC                          49677.473\n",
       "Sample:                    01-03-2000   HQIC                         49656.980\n",
       "                         - 01-26-2016                                         \n",
       "======================================================================================\n",
       "                         coef    std err          z      P>|z|      [0.025      0.975]\n",
       "--------------------------------------------------------------------------------------\n",
       "const               6378.0787   1416.932      4.501      0.000    3600.942    9155.215\n",
       "ar.L1.market_value     0.9888      0.015     64.547      0.000       0.959       1.019\n",
       "ar.L2.market_value    -0.0114      0.022     -0.527      0.598      -0.054       0.031\n",
       "ar.L3.market_value     0.0218      0.015      1.411      0.158      -0.008       0.052\n",
       "                                    Roots                                    \n",
       "=============================================================================\n",
       "                  Real          Imaginary           Modulus         Frequency\n",
       "-----------------------------------------------------------------------------\n",
       "AR.1            1.0008           -0.0000j            1.0008           -0.0000\n",
       "AR.2           -0.2389           -6.7661j            6.7704           -0.2556\n",
       "AR.3           -0.2389           +6.7661j            6.7704            0.2556\n",
       "-----------------------------------------------------------------------------\n",
       "\"\"\""
      ]
     },
     "execution_count": 11,
     "metadata": {},
     "output_type": "execute_result"
    }
   ],
   "source": [
    "model_ar_3 = ARMA(df.market_value, order = (3,0))\n",
    "results_ar_3 = model_ar_3.fit()\n",
    "results_ar_3.summary()"
   ]
  },
  {
   "cell_type": "code",
   "execution_count": 14,
   "metadata": {},
   "outputs": [
    {
     "data": {
      "text/html": [
       "<table class=\"simpletable\">\n",
       "<caption>ARMA Model Results</caption>\n",
       "<tr>\n",
       "  <th>Dep. Variable:</th>   <td>market_value</td>   <th>  No. Observations:  </th>    <td>4192</td>   \n",
       "</tr>\n",
       "<tr>\n",
       "  <th>Model:</th>            <td>ARMA(4, 0)</td>    <th>  Log Likelihood     </th> <td>-24817.622</td>\n",
       "</tr>\n",
       "<tr>\n",
       "  <th>Method:</th>             <td>css-mle</td>     <th>  S.D. of innovations</th>   <td>90.065</td>  \n",
       "</tr>\n",
       "<tr>\n",
       "  <th>Date:</th>          <td>Wed, 12 Feb 2020</td> <th>  AIC                </th>  <td>49647.245</td>\n",
       "</tr>\n",
       "<tr>\n",
       "  <th>Time:</th>              <td>19:55:27</td>     <th>  BIC                </th>  <td>49685.290</td>\n",
       "</tr>\n",
       "<tr>\n",
       "  <th>Sample:</th>           <td>01-03-2000</td>    <th>  HQIC               </th>  <td>49660.699</td>\n",
       "</tr>\n",
       "<tr>\n",
       "  <th></th>                 <td>- 01-26-2016</td>   <th>                     </th>      <td> </td>    \n",
       "</tr>\n",
       "</table>\n",
       "<table class=\"simpletable\">\n",
       "<tr>\n",
       "           <td></td>             <th>coef</th>     <th>std err</th>      <th>z</th>      <th>P>|z|</th>  <th>[0.025</th>    <th>0.975]</th>  \n",
       "</tr>\n",
       "<tr>\n",
       "  <th>const</th>              <td> 6378.0793</td> <td> 1431.630</td> <td>    4.455</td> <td> 0.000</td> <td> 3572.137</td> <td> 9184.022</td>\n",
       "</tr>\n",
       "<tr>\n",
       "  <th>ar.L1.market_value</th> <td>    0.9885</td> <td>    0.015</td> <td>   64.546</td> <td> 0.000</td> <td>    0.958</td> <td>    1.019</td>\n",
       "</tr>\n",
       "<tr>\n",
       "  <th>ar.L2.market_value</th> <td>   -0.0113</td> <td>    0.022</td> <td>   -0.521</td> <td> 0.602</td> <td>   -0.054</td> <td>    0.031</td>\n",
       "</tr>\n",
       "<tr>\n",
       "  <th>ar.L3.market_value</th> <td>    0.0107</td> <td>    0.022</td> <td>    0.494</td> <td> 0.621</td> <td>   -0.032</td> <td>    0.053</td>\n",
       "</tr>\n",
       "<tr>\n",
       "  <th>ar.L4.market_value</th> <td>    0.0112</td> <td>    0.015</td> <td>    0.724</td> <td> 0.469</td> <td>   -0.019</td> <td>    0.041</td>\n",
       "</tr>\n",
       "</table>\n",
       "<table class=\"simpletable\">\n",
       "<caption>Roots</caption>\n",
       "<tr>\n",
       "    <td></td>   <th>            Real</th>  <th>         Imaginary</th> <th>         Modulus</th>  <th>        Frequency</th>\n",
       "</tr>\n",
       "<tr>\n",
       "  <th>AR.1</th> <td>           1.0008</td> <td>          -0.0000j</td> <td>           1.0008</td> <td>          -0.0000</td>\n",
       "</tr>\n",
       "<tr>\n",
       "  <th>AR.2</th> <td>           1.5930</td> <td>          -3.8492j</td> <td>           4.1658</td> <td>          -0.1875</td>\n",
       "</tr>\n",
       "<tr>\n",
       "  <th>AR.3</th> <td>           1.5930</td> <td>          +3.8492j</td> <td>           4.1658</td> <td>           0.1875</td>\n",
       "</tr>\n",
       "<tr>\n",
       "  <th>AR.4</th> <td>          -5.1470</td> <td>          -0.0000j</td> <td>           5.1470</td> <td>          -0.5000</td>\n",
       "</tr>\n",
       "</table>"
      ],
      "text/plain": [
       "<class 'statsmodels.iolib.summary.Summary'>\n",
       "\"\"\"\n",
       "                              ARMA Model Results                              \n",
       "==============================================================================\n",
       "Dep. Variable:           market_value   No. Observations:                 4192\n",
       "Model:                     ARMA(4, 0)   Log Likelihood              -24817.622\n",
       "Method:                       css-mle   S.D. of innovations             90.065\n",
       "Date:                Wed, 12 Feb 2020   AIC                          49647.245\n",
       "Time:                        19:55:27   BIC                          49685.290\n",
       "Sample:                    01-03-2000   HQIC                         49660.699\n",
       "                         - 01-26-2016                                         \n",
       "======================================================================================\n",
       "                         coef    std err          z      P>|z|      [0.025      0.975]\n",
       "--------------------------------------------------------------------------------------\n",
       "const               6378.0793   1431.630      4.455      0.000    3572.137    9184.022\n",
       "ar.L1.market_value     0.9885      0.015     64.546      0.000       0.958       1.019\n",
       "ar.L2.market_value    -0.0113      0.022     -0.521      0.602      -0.054       0.031\n",
       "ar.L3.market_value     0.0107      0.022      0.494      0.621      -0.032       0.053\n",
       "ar.L4.market_value     0.0112      0.015      0.724      0.469      -0.019       0.041\n",
       "                                    Roots                                    \n",
       "=============================================================================\n",
       "                  Real          Imaginary           Modulus         Frequency\n",
       "-----------------------------------------------------------------------------\n",
       "AR.1            1.0008           -0.0000j            1.0008           -0.0000\n",
       "AR.2            1.5930           -3.8492j            4.1658           -0.1875\n",
       "AR.3            1.5930           +3.8492j            4.1658            0.1875\n",
       "AR.4           -5.1470           -0.0000j            5.1470           -0.5000\n",
       "-----------------------------------------------------------------------------\n",
       "\"\"\""
      ]
     },
     "execution_count": 14,
     "metadata": {},
     "output_type": "execute_result"
    }
   ],
   "source": [
    "model_ar_4 = ARMA(df.market_value, order = (4,0))\n",
    "results_ar_4 = model_ar_4.fit()\n",
    "results_ar_4.summary()"
   ]
  },
  {
   "cell_type": "code",
   "execution_count": 15,
   "metadata": {},
   "outputs": [
    {
     "data": {
      "text/html": [
       "<table class=\"simpletable\">\n",
       "<caption>ARMA Model Results</caption>\n",
       "<tr>\n",
       "  <th>Dep. Variable:</th>   <td>market_value</td>   <th>  No. Observations:  </th>    <td>4192</td>   \n",
       "</tr>\n",
       "<tr>\n",
       "  <th>Model:</th>            <td>ARMA(5, 0)</td>    <th>  Log Likelihood     </th> <td>-24816.424</td>\n",
       "</tr>\n",
       "<tr>\n",
       "  <th>Method:</th>             <td>css-mle</td>     <th>  S.D. of innovations</th>   <td>90.040</td>  \n",
       "</tr>\n",
       "<tr>\n",
       "  <th>Date:</th>          <td>Wed, 12 Feb 2020</td> <th>  AIC                </th>  <td>49646.849</td>\n",
       "</tr>\n",
       "<tr>\n",
       "  <th>Time:</th>              <td>19:56:07</td>     <th>  BIC                </th>  <td>49691.236</td>\n",
       "</tr>\n",
       "<tr>\n",
       "  <th>Sample:</th>           <td>01-03-2000</td>    <th>  HQIC               </th>  <td>49662.545</td>\n",
       "</tr>\n",
       "<tr>\n",
       "  <th></th>                 <td>- 01-26-2016</td>   <th>                     </th>      <td> </td>    \n",
       "</tr>\n",
       "</table>\n",
       "<table class=\"simpletable\">\n",
       "<tr>\n",
       "           <td></td>             <th>coef</th>     <th>std err</th>      <th>z</th>      <th>P>|z|</th>  <th>[0.025</th>    <th>0.975]</th>  \n",
       "</tr>\n",
       "<tr>\n",
       "  <th>const</th>              <td> 6378.0782</td> <td> 1401.004</td> <td>    4.553</td> <td> 0.000</td> <td> 3632.161</td> <td> 9123.996</td>\n",
       "</tr>\n",
       "<tr>\n",
       "  <th>ar.L1.market_value</th> <td>    0.9888</td> <td>    0.015</td> <td>   64.522</td> <td> 0.000</td> <td>    0.959</td> <td>    1.019</td>\n",
       "</tr>\n",
       "<tr>\n",
       "  <th>ar.L2.market_value</th> <td>   -0.0110</td> <td>    0.022</td> <td>   -0.508</td> <td> 0.611</td> <td>   -0.053</td> <td>    0.031</td>\n",
       "</tr>\n",
       "<tr>\n",
       "  <th>ar.L3.market_value</th> <td>    0.0105</td> <td>    0.022</td> <td>    0.483</td> <td> 0.629</td> <td>   -0.032</td> <td>    0.053</td>\n",
       "</tr>\n",
       "<tr>\n",
       "  <th>ar.L4.market_value</th> <td>    0.0349</td> <td>    0.022</td> <td>    1.603</td> <td> 0.109</td> <td>   -0.008</td> <td>    0.077</td>\n",
       "</tr>\n",
       "<tr>\n",
       "  <th>ar.L5.market_value</th> <td>   -0.0240</td> <td>    0.015</td> <td>   -1.548</td> <td> 0.122</td> <td>   -0.054</td> <td>    0.006</td>\n",
       "</tr>\n",
       "</table>\n",
       "<table class=\"simpletable\">\n",
       "<caption>Roots</caption>\n",
       "<tr>\n",
       "    <td></td>   <th>            Real</th>  <th>         Imaginary</th> <th>         Modulus</th>  <th>        Frequency</th>\n",
       "</tr>\n",
       "<tr>\n",
       "  <th>AR.1</th> <td>           1.0008</td> <td>          -0.0000j</td> <td>           1.0008</td> <td>          -0.0000</td>\n",
       "</tr>\n",
       "<tr>\n",
       "  <th>AR.2</th> <td>          -2.5005</td> <td>          -0.0000j</td> <td>           2.5005</td> <td>          -0.5000</td>\n",
       "</tr>\n",
       "<tr>\n",
       "  <th>AR.3</th> <td>           0.0883</td> <td>          -2.4486j</td> <td>           2.4502</td> <td>          -0.2443</td>\n",
       "</tr>\n",
       "<tr>\n",
       "  <th>AR.4</th> <td>           0.0883</td> <td>          +2.4486j</td> <td>           2.4502</td> <td>           0.2443</td>\n",
       "</tr>\n",
       "<tr>\n",
       "  <th>AR.5</th> <td>           2.7771</td> <td>          -0.0000j</td> <td>           2.7771</td> <td>          -0.0000</td>\n",
       "</tr>\n",
       "</table>"
      ],
      "text/plain": [
       "<class 'statsmodels.iolib.summary.Summary'>\n",
       "\"\"\"\n",
       "                              ARMA Model Results                              \n",
       "==============================================================================\n",
       "Dep. Variable:           market_value   No. Observations:                 4192\n",
       "Model:                     ARMA(5, 0)   Log Likelihood              -24816.424\n",
       "Method:                       css-mle   S.D. of innovations             90.040\n",
       "Date:                Wed, 12 Feb 2020   AIC                          49646.849\n",
       "Time:                        19:56:07   BIC                          49691.236\n",
       "Sample:                    01-03-2000   HQIC                         49662.545\n",
       "                         - 01-26-2016                                         \n",
       "======================================================================================\n",
       "                         coef    std err          z      P>|z|      [0.025      0.975]\n",
       "--------------------------------------------------------------------------------------\n",
       "const               6378.0782   1401.004      4.553      0.000    3632.161    9123.996\n",
       "ar.L1.market_value     0.9888      0.015     64.522      0.000       0.959       1.019\n",
       "ar.L2.market_value    -0.0110      0.022     -0.508      0.611      -0.053       0.031\n",
       "ar.L3.market_value     0.0105      0.022      0.483      0.629      -0.032       0.053\n",
       "ar.L4.market_value     0.0349      0.022      1.603      0.109      -0.008       0.077\n",
       "ar.L5.market_value    -0.0240      0.015     -1.548      0.122      -0.054       0.006\n",
       "                                    Roots                                    \n",
       "=============================================================================\n",
       "                  Real          Imaginary           Modulus         Frequency\n",
       "-----------------------------------------------------------------------------\n",
       "AR.1            1.0008           -0.0000j            1.0008           -0.0000\n",
       "AR.2           -2.5005           -0.0000j            2.5005           -0.5000\n",
       "AR.3            0.0883           -2.4486j            2.4502           -0.2443\n",
       "AR.4            0.0883           +2.4486j            2.4502            0.2443\n",
       "AR.5            2.7771           -0.0000j            2.7771           -0.0000\n",
       "-----------------------------------------------------------------------------\n",
       "\"\"\""
      ]
     },
     "execution_count": 15,
     "metadata": {},
     "output_type": "execute_result"
    }
   ],
   "source": [
    "model_ar_5 = ARMA(df.market_value, order = (5,0))\n",
    "results_ar_5 = model_ar_5.fit()\n",
    "results_ar_5.summary()"
   ]
  },
  {
   "cell_type": "code",
   "execution_count": null,
   "metadata": {},
   "outputs": [],
   "source": []
  },
  {
   "cell_type": "code",
   "execution_count": null,
   "metadata": {},
   "outputs": [],
   "source": []
  },
  {
   "cell_type": "markdown",
   "metadata": {},
   "source": [
    "LLR Test"
   ]
  },
  {
   "cell_type": "code",
   "execution_count": 12,
   "metadata": {},
   "outputs": [],
   "source": [
    "def LLR_test(mod_1, mod_2, DF=1):\n",
    "    L1 = mod_1.llf\n",
    "    L2 = mod_2.llf\n",
    "    LR = (2*(L2-L1))\n",
    "    p = chi2.sf(LR, DF).round(3)\n",
    "    return p"
   ]
  },
  {
   "cell_type": "code",
   "execution_count": 13,
   "metadata": {},
   "outputs": [
    {
     "name": "stdout",
     "output_type": "stream",
     "text": [
      "                              ARMA Model Results                              \n",
      "==============================================================================\n",
      "Dep. Variable:           market_value   No. Observations:                 4192\n",
      "Model:                     ARMA(2, 0)   Log Likelihood              -24818.879\n",
      "Method:                       css-mle   S.D. of innovations             90.093\n",
      "Date:                Wed, 12 Feb 2020   AIC                          49645.758\n",
      "Time:                        19:54:18   BIC                          49671.122\n",
      "Sample:                    01-03-2000   HQIC                         49654.728\n",
      "                         - 01-26-2016                                         \n",
      "======================================================================================\n",
      "                         coef    std err          z      P>|z|      [0.025      0.975]\n",
      "--------------------------------------------------------------------------------------\n",
      "const               6378.0887   1387.691      4.596      0.000    3658.264    9097.913\n",
      "ar.L1.market_value     0.9890      0.015     64.500      0.000       0.959       1.019\n",
      "ar.L2.market_value     0.0101      0.015      0.662      0.508      -0.020       0.040\n",
      "                                    Roots                                    \n",
      "=============================================================================\n",
      "                  Real          Imaginary           Modulus         Frequency\n",
      "-----------------------------------------------------------------------------\n",
      "AR.1            1.0009           +0.0000j            1.0009            0.0000\n",
      "AR.2          -98.4517           +0.0000j           98.4517            0.5000\n",
      "-----------------------------------------------------------------------------\n",
      "\n",
      "LLR test p-value = 0.511\n"
     ]
    }
   ],
   "source": [
    "model_ar_2 = ARMA(df.market_value, order = (2,0))\n",
    "results_ar_2 = model_ar_2.fit()\n",
    "print(results_ar_2.summary())\n",
    "print(\"\\nLLR test p-value = \" + str(LLR_test(results_ar, results_ar_2)))"
   ]
  }
 ],
 "metadata": {
  "kernelspec": {
   "display_name": "Python 3",
   "language": "python",
   "name": "python3"
  },
  "language_info": {
   "codemirror_mode": {
    "name": "ipython",
    "version": 3
   },
   "file_extension": ".py",
   "mimetype": "text/x-python",
   "name": "python",
   "nbconvert_exporter": "python",
   "pygments_lexer": "ipython3",
   "version": "3.7.3"
  }
 },
 "nbformat": 4,
 "nbformat_minor": 2
}

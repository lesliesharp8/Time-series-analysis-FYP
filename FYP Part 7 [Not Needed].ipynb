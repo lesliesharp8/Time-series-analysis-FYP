{
 "cells": [
  {
   "cell_type": "markdown",
   "metadata": {},
   "source": [
    "Import packages"
   ]
  },
  {
   "cell_type": "code",
   "execution_count": 1,
   "metadata": {},
   "outputs": [],
   "source": [
    "import pandas as pd\n",
    "import numpy as np\n",
    "import matplotlib.pyplot as plt\n",
    "import statsmodels.graphics.tsaplots as sgt\n",
    "import statsmodels.tsa.stattools as sts\n",
    "from statsmodels.tsa.arima_model import ARMA\n",
    "from scipy.stats.distributions import chi2 \n",
    "import seaborn as sns\n",
    "sns.set()\n",
    "import warnings\n",
    "warnings.filterwarnings(\"ignore\")"
   ]
  },
  {
   "cell_type": "markdown",
   "metadata": {},
   "source": [
    "Pre-processing"
   ]
  },
  {
   "cell_type": "code",
   "execution_count": 2,
   "metadata": {},
   "outputs": [],
   "source": [
    "raw_csv_data = pd.read_csv(\"Index2020.csv\") \n",
    "df_com=raw_csv_data.copy()\n",
    "df_com.date = pd.to_datetime(df_com.date, dayfirst = True)\n",
    "df_com.set_index(\"date\", inplace=True)\n",
    "df_com=df_com.asfreq('b')\n",
    "df_com=df_com.fillna(method='ffill')"
   ]
  },
  {
   "cell_type": "code",
   "execution_count": 3,
   "metadata": {},
   "outputs": [],
   "source": [
    "df_com['market_value']=df_com.spx"
   ]
  },
  {
   "cell_type": "code",
   "execution_count": 4,
   "metadata": {},
   "outputs": [],
   "source": [
    "del df_com['dax']\n",
    "size = int(len(df_com)*0.8)\n",
    "df, df_test = df_com.iloc[:size], df_com.iloc[size:]"
   ]
  },
  {
   "cell_type": "markdown",
   "metadata": {},
   "source": [
    "LLR test"
   ]
  },
  {
   "cell_type": "code",
   "execution_count": 5,
   "metadata": {},
   "outputs": [],
   "source": [
    "def LLR_test(mod_1, mod_2, DF = 1):\n",
    "    L1 = mod_1.llf\n",
    "    L2 = mod_2.llf\n",
    "    LR = (2*(L2-L1))    \n",
    "    p = chi2.sf(LR, DF).round(3)\n",
    "    return p"
   ]
  },
  {
   "cell_type": "markdown",
   "metadata": {},
   "source": [
    "Returns"
   ]
  },
  {
   "cell_type": "code",
   "execution_count": 6,
   "metadata": {},
   "outputs": [],
   "source": [
    "df['returns'] = df.market_value.pct_change(1)*100"
   ]
  },
  {
   "cell_type": "markdown",
   "metadata": {},
   "source": [
    "ARMA"
   ]
  },
  {
   "cell_type": "code",
   "execution_count": 7,
   "metadata": {},
   "outputs": [
    {
     "data": {
      "text/html": [
       "<table class=\"simpletable\">\n",
       "<caption>ARMA Model Results</caption>\n",
       "<tr>\n",
       "  <th>Dep. Variable:</th>      <td>returns</td>     <th>  No. Observations:  </th>   <td>4191</td>   \n",
       "</tr>\n",
       "<tr>\n",
       "  <th>Model:</th>            <td>ARMA(1, 1)</td>    <th>  Log Likelihood     </th> <td>-6842.933</td>\n",
       "</tr>\n",
       "<tr>\n",
       "  <th>Method:</th>             <td>css-mle</td>     <th>  S.D. of innovations</th>   <td>1.238</td>  \n",
       "</tr>\n",
       "<tr>\n",
       "  <th>Date:</th>          <td>Mon, 02 Mar 2020</td> <th>  AIC                </th> <td>13693.866</td>\n",
       "</tr>\n",
       "<tr>\n",
       "  <th>Time:</th>              <td>19:59:23</td>     <th>  BIC                </th> <td>13719.228</td>\n",
       "</tr>\n",
       "<tr>\n",
       "  <th>Sample:</th>           <td>01-04-2000</td>    <th>  HQIC               </th> <td>13702.835</td>\n",
       "</tr>\n",
       "<tr>\n",
       "  <th></th>                 <td>- 01-26-2016</td>   <th>                     </th>     <td> </td>    \n",
       "</tr>\n",
       "</table>\n",
       "<table class=\"simpletable\">\n",
       "<tr>\n",
       "        <td></td>           <th>coef</th>     <th>std err</th>      <th>z</th>      <th>P>|z|</th>  <th>[0.025</th>    <th>0.975]</th>  \n",
       "</tr>\n",
       "<tr>\n",
       "  <th>const</th>         <td>    0.0142</td> <td>    0.016</td> <td>    0.906</td> <td> 0.365</td> <td>   -0.017</td> <td>    0.045</td>\n",
       "</tr>\n",
       "<tr>\n",
       "  <th>ar.L1.returns</th> <td>    0.5185</td> <td>    0.133</td> <td>    3.911</td> <td> 0.000</td> <td>    0.259</td> <td>    0.778</td>\n",
       "</tr>\n",
       "<tr>\n",
       "  <th>ma.L1.returns</th> <td>   -0.6044</td> <td>    0.124</td> <td>   -4.880</td> <td> 0.000</td> <td>   -0.847</td> <td>   -0.362</td>\n",
       "</tr>\n",
       "</table>\n",
       "<table class=\"simpletable\">\n",
       "<caption>Roots</caption>\n",
       "<tr>\n",
       "    <td></td>   <th>            Real</th>  <th>         Imaginary</th> <th>         Modulus</th>  <th>        Frequency</th>\n",
       "</tr>\n",
       "<tr>\n",
       "  <th>AR.1</th> <td>           1.9287</td> <td>          +0.0000j</td> <td>           1.9287</td> <td>           0.0000</td>\n",
       "</tr>\n",
       "<tr>\n",
       "  <th>MA.1</th> <td>           1.6545</td> <td>          +0.0000j</td> <td>           1.6545</td> <td>           0.0000</td>\n",
       "</tr>\n",
       "</table>"
      ],
      "text/plain": [
       "<class 'statsmodels.iolib.summary.Summary'>\n",
       "\"\"\"\n",
       "                              ARMA Model Results                              \n",
       "==============================================================================\n",
       "Dep. Variable:                returns   No. Observations:                 4191\n",
       "Model:                     ARMA(1, 1)   Log Likelihood               -6842.933\n",
       "Method:                       css-mle   S.D. of innovations              1.238\n",
       "Date:                Mon, 02 Mar 2020   AIC                          13693.866\n",
       "Time:                        19:59:23   BIC                          13719.228\n",
       "Sample:                    01-04-2000   HQIC                         13702.835\n",
       "                         - 01-26-2016                                         \n",
       "=================================================================================\n",
       "                    coef    std err          z      P>|z|      [0.025      0.975]\n",
       "---------------------------------------------------------------------------------\n",
       "const             0.0142      0.016      0.906      0.365      -0.017       0.045\n",
       "ar.L1.returns     0.5185      0.133      3.911      0.000       0.259       0.778\n",
       "ma.L1.returns    -0.6044      0.124     -4.880      0.000      -0.847      -0.362\n",
       "                                    Roots                                    \n",
       "=============================================================================\n",
       "                  Real          Imaginary           Modulus         Frequency\n",
       "-----------------------------------------------------------------------------\n",
       "AR.1            1.9287           +0.0000j            1.9287            0.0000\n",
       "MA.1            1.6545           +0.0000j            1.6545            0.0000\n",
       "-----------------------------------------------------------------------------\n",
       "\"\"\""
      ]
     },
     "execution_count": 7,
     "metadata": {},
     "output_type": "execute_result"
    }
   ],
   "source": [
    "model_ret_ar_1_ma_1 = ARMA(df.returns[1:], order=(1,1))\n",
    "results_ret_ar_1_ma_1 = model_ret_ar_1_ma_1.fit()\n",
    "results_ret_ar_1_ma_1.summary()"
   ]
  },
  {
   "cell_type": "code",
   "execution_count": 8,
   "metadata": {},
   "outputs": [],
   "source": [
    "model_ret_ar_1 = ARMA (df.returns[1:], order = (1,0)) \n",
    "model_ret_ma_1 = ARMA (df.returns[1:], order = (0,1)) \n",
    "results_ret_ar_1 = model_ret_ar_1.fit()\n",
    "results_ret_ma_1 = model_ret_ma_1.fit()"
   ]
  },
  {
   "cell_type": "code",
   "execution_count": 9,
   "metadata": {},
   "outputs": [
    {
     "name": "stdout",
     "output_type": "stream",
     "text": [
      "\n",
      "ARMA vs AR  1.0\n",
      "\n",
      "ARMA vs MA  1.0\n"
     ]
    }
   ],
   "source": [
    "print(\"\\nARMA vs AR \", LLR_test(results_ret_ar_1_ma_1, results_ret_ar_1))\n",
    "print(\"\\nARMA vs MA \", LLR_test(results_ret_ar_1_ma_1, results_ret_ma_1))"
   ]
  },
  {
   "cell_type": "code",
   "execution_count": 10,
   "metadata": {},
   "outputs": [
    {
     "data": {
      "text/html": [
       "<table class=\"simpletable\">\n",
       "<caption>ARMA Model Results</caption>\n",
       "<tr>\n",
       "  <th>Dep. Variable:</th>      <td>returns</td>     <th>  No. Observations:  </th>   <td>4191</td>   \n",
       "</tr>\n",
       "<tr>\n",
       "  <th>Model:</th>            <td>ARMA(3, 2)</td>    <th>  Log Likelihood     </th> <td>-6841.450</td>\n",
       "</tr>\n",
       "<tr>\n",
       "  <th>Method:</th>             <td>css-mle</td>     <th>  S.D. of innovations</th>   <td>1.238</td>  \n",
       "</tr>\n",
       "<tr>\n",
       "  <th>Date:</th>          <td>Mon, 02 Mar 2020</td> <th>  AIC                </th> <td>13696.900</td>\n",
       "</tr>\n",
       "<tr>\n",
       "  <th>Time:</th>              <td>19:59:24</td>     <th>  BIC                </th> <td>13741.284</td>\n",
       "</tr>\n",
       "<tr>\n",
       "  <th>Sample:</th>           <td>01-04-2000</td>    <th>  HQIC               </th> <td>13712.596</td>\n",
       "</tr>\n",
       "<tr>\n",
       "  <th></th>                 <td>- 01-26-2016</td>   <th>                     </th>     <td> </td>    \n",
       "</tr>\n",
       "</table>\n",
       "<table class=\"simpletable\">\n",
       "<tr>\n",
       "        <td></td>           <th>coef</th>     <th>std err</th>      <th>z</th>      <th>P>|z|</th>  <th>[0.025</th>    <th>0.975]</th>  \n",
       "</tr>\n",
       "<tr>\n",
       "  <th>const</th>         <td>    0.0143</td> <td>    0.015</td> <td>    0.941</td> <td> 0.347</td> <td>   -0.015</td> <td>    0.044</td>\n",
       "</tr>\n",
       "<tr>\n",
       "  <th>ar.L1.returns</th> <td>    0.4855</td> <td>    0.376</td> <td>    1.293</td> <td> 0.196</td> <td>   -0.251</td> <td>    1.222</td>\n",
       "</tr>\n",
       "<tr>\n",
       "  <th>ar.L2.returns</th> <td>    0.2002</td> <td>    0.232</td> <td>    0.864</td> <td> 0.387</td> <td>   -0.254</td> <td>    0.654</td>\n",
       "</tr>\n",
       "<tr>\n",
       "  <th>ar.L3.returns</th> <td>    0.0359</td> <td>    0.022</td> <td>    1.599</td> <td> 0.110</td> <td>   -0.008</td> <td>    0.080</td>\n",
       "</tr>\n",
       "<tr>\n",
       "  <th>ma.L1.returns</th> <td>   -0.5749</td> <td>    0.375</td> <td>   -1.531</td> <td> 0.126</td> <td>   -1.311</td> <td>    0.161</td>\n",
       "</tr>\n",
       "<tr>\n",
       "  <th>ma.L2.returns</th> <td>   -0.2045</td> <td>    0.259</td> <td>   -0.790</td> <td> 0.430</td> <td>   -0.712</td> <td>    0.303</td>\n",
       "</tr>\n",
       "</table>\n",
       "<table class=\"simpletable\">\n",
       "<caption>Roots</caption>\n",
       "<tr>\n",
       "    <td></td>   <th>            Real</th>  <th>         Imaginary</th> <th>         Modulus</th>  <th>        Frequency</th>\n",
       "</tr>\n",
       "<tr>\n",
       "  <th>AR.1</th> <td>           1.2588</td> <td>          -0.0000j</td> <td>           1.2588</td> <td>          -0.0000</td>\n",
       "</tr>\n",
       "<tr>\n",
       "  <th>AR.2</th> <td>          -3.4154</td> <td>          -3.2324j</td> <td>           4.7025</td> <td>          -0.3794</td>\n",
       "</tr>\n",
       "<tr>\n",
       "  <th>AR.3</th> <td>          -3.4154</td> <td>          +3.2324j</td> <td>           4.7025</td> <td>           0.3794</td>\n",
       "</tr>\n",
       "<tr>\n",
       "  <th>MA.1</th> <td>           1.2147</td> <td>          +0.0000j</td> <td>           1.2147</td> <td>           0.0000</td>\n",
       "</tr>\n",
       "<tr>\n",
       "  <th>MA.2</th> <td>          -4.0263</td> <td>          +0.0000j</td> <td>           4.0263</td> <td>           0.5000</td>\n",
       "</tr>\n",
       "</table>"
      ],
      "text/plain": [
       "<class 'statsmodels.iolib.summary.Summary'>\n",
       "\"\"\"\n",
       "                              ARMA Model Results                              \n",
       "==============================================================================\n",
       "Dep. Variable:                returns   No. Observations:                 4191\n",
       "Model:                     ARMA(3, 2)   Log Likelihood               -6841.450\n",
       "Method:                       css-mle   S.D. of innovations              1.238\n",
       "Date:                Mon, 02 Mar 2020   AIC                          13696.900\n",
       "Time:                        19:59:24   BIC                          13741.284\n",
       "Sample:                    01-04-2000   HQIC                         13712.596\n",
       "                         - 01-26-2016                                         \n",
       "=================================================================================\n",
       "                    coef    std err          z      P>|z|      [0.025      0.975]\n",
       "---------------------------------------------------------------------------------\n",
       "const             0.0143      0.015      0.941      0.347      -0.015       0.044\n",
       "ar.L1.returns     0.4855      0.376      1.293      0.196      -0.251       1.222\n",
       "ar.L2.returns     0.2002      0.232      0.864      0.387      -0.254       0.654\n",
       "ar.L3.returns     0.0359      0.022      1.599      0.110      -0.008       0.080\n",
       "ma.L1.returns    -0.5749      0.375     -1.531      0.126      -1.311       0.161\n",
       "ma.L2.returns    -0.2045      0.259     -0.790      0.430      -0.712       0.303\n",
       "                                    Roots                                    \n",
       "=============================================================================\n",
       "                  Real          Imaginary           Modulus         Frequency\n",
       "-----------------------------------------------------------------------------\n",
       "AR.1            1.2588           -0.0000j            1.2588           -0.0000\n",
       "AR.2           -3.4154           -3.2324j            4.7025           -0.3794\n",
       "AR.3           -3.4154           +3.2324j            4.7025            0.3794\n",
       "MA.1            1.2147           +0.0000j            1.2147            0.0000\n",
       "MA.2           -4.0263           +0.0000j            4.0263            0.5000\n",
       "-----------------------------------------------------------------------------\n",
       "\"\"\""
      ]
     },
     "execution_count": 10,
     "metadata": {},
     "output_type": "execute_result"
    }
   ],
   "source": [
    "model_ret_ar_3_ma_2 = ARMA(df.returns[1:], order=(3,2))\n",
    "results_ret_ar_3_ma_2 = model_ret_ar_3_ma_2.fit()\n",
    "results_ret_ar_3_ma_2.summary()"
   ]
  },
  {
   "cell_type": "code",
   "execution_count": 11,
   "metadata": {},
   "outputs": [
    {
     "data": {
      "text/html": [
       "<table class=\"simpletable\">\n",
       "<caption>ARMA Model Results</caption>\n",
       "<tr>\n",
       "  <th>Dep. Variable:</th>      <td>returns</td>     <th>  No. Observations:  </th>   <td>4191</td>   \n",
       "</tr>\n",
       "<tr>\n",
       "  <th>Model:</th>            <td>ARMA(3, 1)</td>    <th>  Log Likelihood     </th> <td>-6841.689</td>\n",
       "</tr>\n",
       "<tr>\n",
       "  <th>Method:</th>             <td>css-mle</td>     <th>  S.D. of innovations</th>   <td>1.238</td>  \n",
       "</tr>\n",
       "<tr>\n",
       "  <th>Date:</th>          <td>Mon, 02 Mar 2020</td> <th>  AIC                </th> <td>13695.378</td>\n",
       "</tr>\n",
       "<tr>\n",
       "  <th>Time:</th>              <td>19:59:25</td>     <th>  BIC                </th> <td>13733.422</td>\n",
       "</tr>\n",
       "<tr>\n",
       "  <th>Sample:</th>           <td>01-04-2000</td>    <th>  HQIC               </th> <td>13708.832</td>\n",
       "</tr>\n",
       "<tr>\n",
       "  <th></th>                 <td>- 01-26-2016</td>   <th>                     </th>     <td> </td>    \n",
       "</tr>\n",
       "</table>\n",
       "<table class=\"simpletable\">\n",
       "<tr>\n",
       "        <td></td>           <th>coef</th>     <th>std err</th>      <th>z</th>      <th>P>|z|</th>  <th>[0.025</th>    <th>0.975]</th>  \n",
       "</tr>\n",
       "<tr>\n",
       "  <th>const</th>         <td>    0.0143</td> <td>    0.015</td> <td>    0.944</td> <td> 0.345</td> <td>   -0.015</td> <td>    0.044</td>\n",
       "</tr>\n",
       "<tr>\n",
       "  <th>ar.L1.returns</th> <td>    0.7511</td> <td>    0.140</td> <td>    5.351</td> <td> 0.000</td> <td>    0.476</td> <td>    1.026</td>\n",
       "</tr>\n",
       "<tr>\n",
       "  <th>ar.L2.returns</th> <td>    0.0205</td> <td>    0.023</td> <td>    0.882</td> <td> 0.378</td> <td>   -0.025</td> <td>    0.066</td>\n",
       "</tr>\n",
       "<tr>\n",
       "  <th>ar.L3.returns</th> <td>    0.0269</td> <td>    0.021</td> <td>    1.297</td> <td> 0.195</td> <td>   -0.014</td> <td>    0.068</td>\n",
       "</tr>\n",
       "<tr>\n",
       "  <th>ma.L1.returns</th> <td>   -0.8406</td> <td>    0.139</td> <td>   -6.035</td> <td> 0.000</td> <td>   -1.114</td> <td>   -0.568</td>\n",
       "</tr>\n",
       "</table>\n",
       "<table class=\"simpletable\">\n",
       "<caption>Roots</caption>\n",
       "<tr>\n",
       "    <td></td>   <th>            Real</th>  <th>         Imaginary</th> <th>         Modulus</th>  <th>        Frequency</th>\n",
       "</tr>\n",
       "<tr>\n",
       "  <th>AR.1</th> <td>           1.2246</td> <td>          -0.0000j</td> <td>           1.2246</td> <td>          -0.0000</td>\n",
       "</tr>\n",
       "<tr>\n",
       "  <th>AR.2</th> <td>          -0.9921</td> <td>          -5.4167j</td> <td>           5.5068</td> <td>          -0.2788</td>\n",
       "</tr>\n",
       "<tr>\n",
       "  <th>AR.3</th> <td>          -0.9921</td> <td>          +5.4167j</td> <td>           5.5068</td> <td>           0.2788</td>\n",
       "</tr>\n",
       "<tr>\n",
       "  <th>MA.1</th> <td>           1.1896</td> <td>          +0.0000j</td> <td>           1.1896</td> <td>           0.0000</td>\n",
       "</tr>\n",
       "</table>"
      ],
      "text/plain": [
       "<class 'statsmodels.iolib.summary.Summary'>\n",
       "\"\"\"\n",
       "                              ARMA Model Results                              \n",
       "==============================================================================\n",
       "Dep. Variable:                returns   No. Observations:                 4191\n",
       "Model:                     ARMA(3, 1)   Log Likelihood               -6841.689\n",
       "Method:                       css-mle   S.D. of innovations              1.238\n",
       "Date:                Mon, 02 Mar 2020   AIC                          13695.378\n",
       "Time:                        19:59:25   BIC                          13733.422\n",
       "Sample:                    01-04-2000   HQIC                         13708.832\n",
       "                         - 01-26-2016                                         \n",
       "=================================================================================\n",
       "                    coef    std err          z      P>|z|      [0.025      0.975]\n",
       "---------------------------------------------------------------------------------\n",
       "const             0.0143      0.015      0.944      0.345      -0.015       0.044\n",
       "ar.L1.returns     0.7511      0.140      5.351      0.000       0.476       1.026\n",
       "ar.L2.returns     0.0205      0.023      0.882      0.378      -0.025       0.066\n",
       "ar.L3.returns     0.0269      0.021      1.297      0.195      -0.014       0.068\n",
       "ma.L1.returns    -0.8406      0.139     -6.035      0.000      -1.114      -0.568\n",
       "                                    Roots                                    \n",
       "=============================================================================\n",
       "                  Real          Imaginary           Modulus         Frequency\n",
       "-----------------------------------------------------------------------------\n",
       "AR.1            1.2246           -0.0000j            1.2246           -0.0000\n",
       "AR.2           -0.9921           -5.4167j            5.5068           -0.2788\n",
       "AR.3           -0.9921           +5.4167j            5.5068            0.2788\n",
       "MA.1            1.1896           +0.0000j            1.1896            0.0000\n",
       "-----------------------------------------------------------------------------\n",
       "\"\"\""
      ]
     },
     "execution_count": 11,
     "metadata": {},
     "output_type": "execute_result"
    }
   ],
   "source": [
    "model_ret_ar_3_ma_1 = ARMA(df.returns[1:], order=(3,1))\n",
    "results_ret_ar_3_ma_1 = model_ret_ar_3_ma_1.fit()\n",
    "results_ret_ar_3_ma_1.summary()"
   ]
  },
  {
   "cell_type": "code",
   "execution_count": 12,
   "metadata": {},
   "outputs": [
    {
     "data": {
      "text/plain": [
       "0.489"
      ]
     },
     "execution_count": 12,
     "metadata": {},
     "output_type": "execute_result"
    }
   ],
   "source": [
    "LLR_test(results_ret_ar_3_ma_1, results_ret_ar_3_ma_2)"
   ]
  },
  {
   "cell_type": "code",
   "execution_count": 13,
   "metadata": {},
   "outputs": [
    {
     "data": {
      "text/html": [
       "<table class=\"simpletable\">\n",
       "<caption>ARMA Model Results</caption>\n",
       "<tr>\n",
       "  <th>Dep. Variable:</th>      <td>returns</td>     <th>  No. Observations:  </th>   <td>4191</td>   \n",
       "</tr>\n",
       "<tr>\n",
       "  <th>Model:</th>            <td>ARMA(2, 2)</td>    <th>  Log Likelihood     </th> <td>-6842.921</td>\n",
       "</tr>\n",
       "<tr>\n",
       "  <th>Method:</th>             <td>css-mle</td>     <th>  S.D. of innovations</th>   <td>1.238</td>  \n",
       "</tr>\n",
       "<tr>\n",
       "  <th>Date:</th>          <td>Mon, 02 Mar 2020</td> <th>  AIC                </th> <td>13697.842</td>\n",
       "</tr>\n",
       "<tr>\n",
       "  <th>Time:</th>              <td>19:59:26</td>     <th>  BIC                </th> <td>13735.886</td>\n",
       "</tr>\n",
       "<tr>\n",
       "  <th>Sample:</th>           <td>01-04-2000</td>    <th>  HQIC               </th> <td>13711.296</td>\n",
       "</tr>\n",
       "<tr>\n",
       "  <th></th>                 <td>- 01-26-2016</td>   <th>                     </th>     <td> </td>    \n",
       "</tr>\n",
       "</table>\n",
       "<table class=\"simpletable\">\n",
       "<tr>\n",
       "        <td></td>           <th>coef</th>     <th>std err</th>      <th>z</th>      <th>P>|z|</th>  <th>[0.025</th>    <th>0.975]</th>  \n",
       "</tr>\n",
       "<tr>\n",
       "  <th>const</th>         <td>    0.0142</td> <td>    0.016</td> <td>    0.903</td> <td> 0.367</td> <td>   -0.017</td> <td>    0.045</td>\n",
       "</tr>\n",
       "<tr>\n",
       "  <th>ar.L1.returns</th> <td>   -0.0089</td> <td>    0.695</td> <td>   -0.013</td> <td> 0.990</td> <td>   -1.371</td> <td>    1.353</td>\n",
       "</tr>\n",
       "<tr>\n",
       "  <th>ar.L2.returns</th> <td>    0.2516</td> <td>    0.385</td> <td>    0.654</td> <td> 0.513</td> <td>   -0.503</td> <td>    1.006</td>\n",
       "</tr>\n",
       "<tr>\n",
       "  <th>ma.L1.returns</th> <td>   -0.0767</td> <td>    0.694</td> <td>   -0.111</td> <td> 0.912</td> <td>   -1.437</td> <td>    1.283</td>\n",
       "</tr>\n",
       "<tr>\n",
       "  <th>ma.L2.returns</th> <td>   -0.2987</td> <td>    0.435</td> <td>   -0.687</td> <td> 0.492</td> <td>   -1.151</td> <td>    0.554</td>\n",
       "</tr>\n",
       "</table>\n",
       "<table class=\"simpletable\">\n",
       "<caption>Roots</caption>\n",
       "<tr>\n",
       "    <td></td>   <th>            Real</th>  <th>         Imaginary</th> <th>         Modulus</th>  <th>        Frequency</th>\n",
       "</tr>\n",
       "<tr>\n",
       "  <th>AR.1</th> <td>          -1.9760</td> <td>          +0.0000j</td> <td>           1.9760</td> <td>           0.5000</td>\n",
       "</tr>\n",
       "<tr>\n",
       "  <th>AR.2</th> <td>           2.0115</td> <td>          +0.0000j</td> <td>           2.0115</td> <td>           0.0000</td>\n",
       "</tr>\n",
       "<tr>\n",
       "  <th>MA.1</th> <td>           1.7057</td> <td>          +0.0000j</td> <td>           1.7057</td> <td>           0.0000</td>\n",
       "</tr>\n",
       "<tr>\n",
       "  <th>MA.2</th> <td>          -1.9624</td> <td>          +0.0000j</td> <td>           1.9624</td> <td>           0.5000</td>\n",
       "</tr>\n",
       "</table>"
      ],
      "text/plain": [
       "<class 'statsmodels.iolib.summary.Summary'>\n",
       "\"\"\"\n",
       "                              ARMA Model Results                              \n",
       "==============================================================================\n",
       "Dep. Variable:                returns   No. Observations:                 4191\n",
       "Model:                     ARMA(2, 2)   Log Likelihood               -6842.921\n",
       "Method:                       css-mle   S.D. of innovations              1.238\n",
       "Date:                Mon, 02 Mar 2020   AIC                          13697.842\n",
       "Time:                        19:59:26   BIC                          13735.886\n",
       "Sample:                    01-04-2000   HQIC                         13711.296\n",
       "                         - 01-26-2016                                         \n",
       "=================================================================================\n",
       "                    coef    std err          z      P>|z|      [0.025      0.975]\n",
       "---------------------------------------------------------------------------------\n",
       "const             0.0142      0.016      0.903      0.367      -0.017       0.045\n",
       "ar.L1.returns    -0.0089      0.695     -0.013      0.990      -1.371       1.353\n",
       "ar.L2.returns     0.2516      0.385      0.654      0.513      -0.503       1.006\n",
       "ma.L1.returns    -0.0767      0.694     -0.111      0.912      -1.437       1.283\n",
       "ma.L2.returns    -0.2987      0.435     -0.687      0.492      -1.151       0.554\n",
       "                                    Roots                                    \n",
       "=============================================================================\n",
       "                  Real          Imaginary           Modulus         Frequency\n",
       "-----------------------------------------------------------------------------\n",
       "AR.1           -1.9760           +0.0000j            1.9760            0.5000\n",
       "AR.2            2.0115           +0.0000j            2.0115            0.0000\n",
       "MA.1            1.7057           +0.0000j            1.7057            0.0000\n",
       "MA.2           -1.9624           +0.0000j            1.9624            0.5000\n",
       "-----------------------------------------------------------------------------\n",
       "\"\"\""
      ]
     },
     "execution_count": 13,
     "metadata": {},
     "output_type": "execute_result"
    }
   ],
   "source": [
    "model_ret_ar_2_ma_2 = ARMA(df.returns[1:], order=(2,2))\n",
    "results_ret_ar_2_ma_2 = model_ret_ar_2_ma_2.fit()\n",
    "results_ret_ar_2_ma_2.summary()"
   ]
  },
  {
   "cell_type": "code",
   "execution_count": 14,
   "metadata": {},
   "outputs": [
    {
     "name": "stdout",
     "output_type": "stream",
     "text": [
      "\n",
      " ARMA(3,2): \tLL =  -6841.449786553994 \tAIC =  13696.899573107989\n"
     ]
    }
   ],
   "source": [
    "print(\"\\n ARMA(3,2): \\tLL = \", results_ret_ar_3_ma_2.llf, \"\\tAIC = \", results_ret_ar_3_ma_2.aic)"
   ]
  },
  {
   "cell_type": "markdown",
   "metadata": {},
   "source": [
    "Residuals for Returns"
   ]
  },
  {
   "cell_type": "code",
   "execution_count": 15,
   "metadata": {},
   "outputs": [],
   "source": [
    "df['res_ret_ar_3_ma_2'] = results_ret_ar_3_ma_2.resid[1:]"
   ]
  },
  {
   "cell_type": "code",
   "execution_count": 16,
   "metadata": {},
   "outputs": [
    {
     "data": {
      "image/png": "[encoded data removed]",
      "text/plain": [
       "<Figure size 1440x360 with 1 Axes>"
      ]
     },
     "metadata": {
      "needs_background": "light"
     },
     "output_type": "display_data"
    }
   ],
   "source": [
    "df.res_ret_ar_3_ma_2.plot(figsize = (20,5))\n",
    "plt.title(\"Residuals of Returns\", size=24)\n",
    "plt.show()"
   ]
  },
  {
   "cell_type": "code",
   "execution_count": 17,
   "metadata": {},
   "outputs": [
    {
     "data": {
      "image/png": "[encoded data removed]",
      "text/plain": [
       "<Figure size 432x288 with 1 Axes>"
      ]
     },
     "metadata": {
      "needs_background": "light"
     },
     "output_type": "display_data"
    }
   ],
   "source": [
    "sgt.plot_acf(df.res_ret_ar_3_ma_2[2:], zero = False, lags = 40)\n",
    "plt.title(\"ACF Of Residuals for Returns\",size=24)\n",
    "plt.show()"
   ]
  },
  {
   "cell_type": "markdown",
   "metadata": {},
   "source": [
    "Reevaluating Model Selection"
   ]
  },
  {
   "cell_type": "code",
   "execution_count": 18,
   "metadata": {},
   "outputs": [
    {
     "data": {
      "text/html": [
       "<table class=\"simpletable\">\n",
       "<caption>ARMA Model Results</caption>\n",
       "<tr>\n",
       "  <th>Dep. Variable:</th>      <td>returns</td>     <th>  No. Observations:  </th>   <td>4191</td>   \n",
       "</tr>\n",
       "<tr>\n",
       "  <th>Model:</th>            <td>ARMA(5, 1)</td>    <th>  Log Likelihood     </th> <td>-6839.812</td>\n",
       "</tr>\n",
       "<tr>\n",
       "  <th>Method:</th>             <td>css-mle</td>     <th>  S.D. of innovations</th>   <td>1.237</td>  \n",
       "</tr>\n",
       "<tr>\n",
       "  <th>Date:</th>          <td>Mon, 02 Mar 2020</td> <th>  AIC                </th> <td>13695.623</td>\n",
       "</tr>\n",
       "<tr>\n",
       "  <th>Time:</th>              <td>19:59:28</td>     <th>  BIC                </th> <td>13746.349</td>\n",
       "</tr>\n",
       "<tr>\n",
       "  <th>Sample:</th>           <td>01-04-2000</td>    <th>  HQIC               </th> <td>13713.562</td>\n",
       "</tr>\n",
       "<tr>\n",
       "  <th></th>                 <td>- 01-26-2016</td>   <th>                     </th>     <td> </td>    \n",
       "</tr>\n",
       "</table>\n",
       "<table class=\"simpletable\">\n",
       "<tr>\n",
       "        <td></td>           <th>coef</th>     <th>std err</th>      <th>z</th>      <th>P>|z|</th>  <th>[0.025</th>    <th>0.975]</th>  \n",
       "</tr>\n",
       "<tr>\n",
       "  <th>const</th>         <td>    0.0142</td> <td>    0.015</td> <td>    0.929</td> <td> 0.353</td> <td>   -0.016</td> <td>    0.044</td>\n",
       "</tr>\n",
       "<tr>\n",
       "  <th>ar.L1.returns</th> <td>    0.4603</td> <td>    0.210</td> <td>    2.190</td> <td> 0.029</td> <td>    0.048</td> <td>    0.872</td>\n",
       "</tr>\n",
       "<tr>\n",
       "  <th>ar.L2.returns</th> <td>   -0.0046</td> <td>    0.025</td> <td>   -0.183</td> <td> 0.855</td> <td>   -0.054</td> <td>    0.045</td>\n",
       "</tr>\n",
       "<tr>\n",
       "  <th>ar.L3.returns</th> <td>    0.0222</td> <td>    0.020</td> <td>    1.085</td> <td> 0.278</td> <td>   -0.018</td> <td>    0.062</td>\n",
       "</tr>\n",
       "<tr>\n",
       "  <th>ar.L4.returns</th> <td>   -0.0112</td> <td>    0.017</td> <td>   -0.652</td> <td> 0.514</td> <td>   -0.045</td> <td>    0.022</td>\n",
       "</tr>\n",
       "<tr>\n",
       "  <th>ar.L5.returns</th> <td>   -0.0286</td> <td>    0.017</td> <td>   -1.644</td> <td> 0.100</td> <td>   -0.063</td> <td>    0.005</td>\n",
       "</tr>\n",
       "<tr>\n",
       "  <th>ma.L1.returns</th> <td>   -0.5497</td> <td>    0.210</td> <td>   -2.619</td> <td> 0.009</td> <td>   -0.961</td> <td>   -0.138</td>\n",
       "</tr>\n",
       "</table>\n",
       "<table class=\"simpletable\">\n",
       "<caption>Roots</caption>\n",
       "<tr>\n",
       "    <td></td>   <th>            Real</th>  <th>         Imaginary</th> <th>         Modulus</th>  <th>        Frequency</th>\n",
       "</tr>\n",
       "<tr>\n",
       "  <th>AR.1</th> <td>           1.5491</td> <td>          -0.7309j</td> <td>           1.7129</td> <td>          -0.0702</td>\n",
       "</tr>\n",
       "<tr>\n",
       "  <th>AR.2</th> <td>           1.5491</td> <td>          +0.7309j</td> <td>           1.7129</td> <td>           0.0702</td>\n",
       "</tr>\n",
       "<tr>\n",
       "  <th>AR.3</th> <td>          -0.4738</td> <td>          -2.1130j</td> <td>           2.1655</td> <td>          -0.2851</td>\n",
       "</tr>\n",
       "<tr>\n",
       "  <th>AR.4</th> <td>          -0.4738</td> <td>          +2.1130j</td> <td>           2.1655</td> <td>           0.2851</td>\n",
       "</tr>\n",
       "<tr>\n",
       "  <th>AR.5</th> <td>          -2.5405</td> <td>          -0.0000j</td> <td>           2.5405</td> <td>          -0.5000</td>\n",
       "</tr>\n",
       "<tr>\n",
       "  <th>MA.1</th> <td>           1.8193</td> <td>          +0.0000j</td> <td>           1.8193</td> <td>           0.0000</td>\n",
       "</tr>\n",
       "</table>"
      ],
      "text/plain": [
       "<class 'statsmodels.iolib.summary.Summary'>\n",
       "\"\"\"\n",
       "                              ARMA Model Results                              \n",
       "==============================================================================\n",
       "Dep. Variable:                returns   No. Observations:                 4191\n",
       "Model:                     ARMA(5, 1)   Log Likelihood               -6839.812\n",
       "Method:                       css-mle   S.D. of innovations              1.237\n",
       "Date:                Mon, 02 Mar 2020   AIC                          13695.623\n",
       "Time:                        19:59:28   BIC                          13746.349\n",
       "Sample:                    01-04-2000   HQIC                         13713.562\n",
       "                         - 01-26-2016                                         \n",
       "=================================================================================\n",
       "                    coef    std err          z      P>|z|      [0.025      0.975]\n",
       "---------------------------------------------------------------------------------\n",
       "const             0.0142      0.015      0.929      0.353      -0.016       0.044\n",
       "ar.L1.returns     0.4603      0.210      2.190      0.029       0.048       0.872\n",
       "ar.L2.returns    -0.0046      0.025     -0.183      0.855      -0.054       0.045\n",
       "ar.L3.returns     0.0222      0.020      1.085      0.278      -0.018       0.062\n",
       "ar.L4.returns    -0.0112      0.017     -0.652      0.514      -0.045       0.022\n",
       "ar.L5.returns    -0.0286      0.017     -1.644      0.100      -0.063       0.005\n",
       "ma.L1.returns    -0.5497      0.210     -2.619      0.009      -0.961      -0.138\n",
       "                                    Roots                                    \n",
       "=============================================================================\n",
       "                  Real          Imaginary           Modulus         Frequency\n",
       "-----------------------------------------------------------------------------\n",
       "AR.1            1.5491           -0.7309j            1.7129           -0.0702\n",
       "AR.2            1.5491           +0.7309j            1.7129            0.0702\n",
       "AR.3           -0.4738           -2.1130j            2.1655           -0.2851\n",
       "AR.4           -0.4738           +2.1130j            2.1655            0.2851\n",
       "AR.5           -2.5405           -0.0000j            2.5405           -0.5000\n",
       "MA.1            1.8193           +0.0000j            1.8193            0.0000\n",
       "-----------------------------------------------------------------------------\n",
       "\"\"\""
      ]
     },
     "execution_count": 18,
     "metadata": {},
     "output_type": "execute_result"
    }
   ],
   "source": [
    "model_ret_ar_5_ma_1 = ARMA(df.returns[1:], order=(5,1))\n",
    "results_ret_ar_5_ma_1 = model_ret_ar_5_ma_1.fit()\n",
    "results_ret_ar_5_ma_1.summary()"
   ]
  },
  {
   "cell_type": "code",
   "execution_count": 19,
   "metadata": {},
   "outputs": [
    {
     "name": "stdout",
     "output_type": "stream",
     "text": [
      "ARMA(5,1):  \t LL =  -6839.811742437473 \t AIC =  13695.623484874946\n"
     ]
    }
   ],
   "source": [
    "print(\"ARMA(5,1):  \\t LL = \",results_ret_ar_5_ma_1.llf,\"\\t AIC = \",results_ret_ar_5_ma_1.aic)"
   ]
  },
  {
   "cell_type": "code",
   "execution_count": 20,
   "metadata": {},
   "outputs": [
    {
     "name": "stdout",
     "output_type": "stream",
     "text": [
      "ARMA(3,2):  \t LL =  -6841.449786553994 \t AIC =  13696.899573107989\n"
     ]
    }
   ],
   "source": [
    "print(\"ARMA(3,2):  \\t LL = \",results_ret_ar_3_ma_2.llf,\"\\t AIC = \",results_ret_ar_3_ma_2.aic)"
   ]
  },
  {
   "cell_type": "markdown",
   "metadata": {},
   "source": [
    "Residuals for the New Model"
   ]
  },
  {
   "cell_type": "code",
   "execution_count": 21,
   "metadata": {},
   "outputs": [],
   "source": [
    "df['res_ret_ar_5_ma_1'] = results_ret_ar_5_ma_1.resid"
   ]
  },
  {
   "cell_type": "markdown",
   "metadata": {},
   "source": [
    "ARMA Models for Prices"
   ]
  },
  {
   "cell_type": "code",
   "execution_count": 22,
   "metadata": {},
   "outputs": [
    {
     "data": {
      "image/png": "[encoded data removed]",
      "text/plain": [
       "<Figure size 432x288 with 1 Axes>"
      ]
     },
     "metadata": {
      "needs_background": "light"
     },
     "output_type": "display_data"
    }
   ],
   "source": [
    "sgt.plot_acf(df.market_value, unbiased=True, zero = False, lags = 40)\n",
    "plt.title(\"Autocorrelation Function for Prices\",size=20)\n",
    "plt.show()"
   ]
  },
  {
   "cell_type": "code",
   "execution_count": 23,
   "metadata": {},
   "outputs": [
    {
     "data": {
      "image/png": "[encoded data removed]",
      "text/plain": [
       "<Figure size 432x288 with 1 Axes>"
      ]
     },
     "metadata": {
      "needs_background": "light"
     },
     "output_type": "display_data"
    }
   ],
   "source": [
    "sgt.plot_pacf(df.market_value, lags = 40, alpha = 0.05, zero = False , method = ('ols'))\n",
    "plt.title(\"Partial Autocorrelation Function for Prices\",size=20)\n",
    "plt.show()"
   ]
  },
  {
   "cell_type": "code",
   "execution_count": 24,
   "metadata": {},
   "outputs": [
    {
     "data": {
      "text/html": [
       "<table class=\"simpletable\">\n",
       "<caption>ARMA Model Results</caption>\n",
       "<tr>\n",
       "  <th>Dep. Variable:</th>   <td>market_value</td>   <th>  No. Observations:  </th>    <td>4192</td>   \n",
       "</tr>\n",
       "<tr>\n",
       "  <th>Model:</th>            <td>ARMA(1, 1)</td>    <th>  Log Likelihood     </th> <td>-17259.395</td>\n",
       "</tr>\n",
       "<tr>\n",
       "  <th>Method:</th>             <td>css-mle</td>     <th>  S.D. of innovations</th>   <td>14.843</td>  \n",
       "</tr>\n",
       "<tr>\n",
       "  <th>Date:</th>          <td>Mon, 02 Mar 2020</td> <th>  AIC                </th>  <td>34526.791</td>\n",
       "</tr>\n",
       "<tr>\n",
       "  <th>Time:</th>              <td>19:59:29</td>     <th>  BIC                </th>  <td>34552.154</td>\n",
       "</tr>\n",
       "<tr>\n",
       "  <th>Sample:</th>           <td>01-03-2000</td>    <th>  HQIC               </th>  <td>34535.760</td>\n",
       "</tr>\n",
       "<tr>\n",
       "  <th></th>                 <td>- 01-26-2016</td>   <th>                     </th>      <td> </td>    \n",
       "</tr>\n",
       "</table>\n",
       "<table class=\"simpletable\">\n",
       "<tr>\n",
       "           <td></td>             <th>coef</th>     <th>std err</th>      <th>z</th>      <th>P>|z|</th>  <th>[0.025</th>    <th>0.975]</th>  \n",
       "</tr>\n",
       "<tr>\n",
       "  <th>const</th>              <td> 1457.0923</td> <td>  212.250</td> <td>    6.865</td> <td> 0.000</td> <td> 1041.091</td> <td> 1873.094</td>\n",
       "</tr>\n",
       "<tr>\n",
       "  <th>ar.L1.market_value</th> <td>    0.9992</td> <td>    0.001</td> <td> 1781.271</td> <td> 0.000</td> <td>    0.998</td> <td>    1.000</td>\n",
       "</tr>\n",
       "<tr>\n",
       "  <th>ma.L1.market_value</th> <td>   -0.0716</td> <td>    0.016</td> <td>   -4.456</td> <td> 0.000</td> <td>   -0.103</td> <td>   -0.040</td>\n",
       "</tr>\n",
       "</table>\n",
       "<table class=\"simpletable\">\n",
       "<caption>Roots</caption>\n",
       "<tr>\n",
       "    <td></td>   <th>            Real</th>  <th>         Imaginary</th> <th>         Modulus</th>  <th>        Frequency</th>\n",
       "</tr>\n",
       "<tr>\n",
       "  <th>AR.1</th> <td>           1.0008</td> <td>          +0.0000j</td> <td>           1.0008</td> <td>           0.0000</td>\n",
       "</tr>\n",
       "<tr>\n",
       "  <th>MA.1</th> <td>          13.9646</td> <td>          +0.0000j</td> <td>          13.9646</td> <td>           0.0000</td>\n",
       "</tr>\n",
       "</table>"
      ],
      "text/plain": [
       "<class 'statsmodels.iolib.summary.Summary'>\n",
       "\"\"\"\n",
       "                              ARMA Model Results                              \n",
       "==============================================================================\n",
       "Dep. Variable:           market_value   No. Observations:                 4192\n",
       "Model:                     ARMA(1, 1)   Log Likelihood              -17259.395\n",
       "Method:                       css-mle   S.D. of innovations             14.843\n",
       "Date:                Mon, 02 Mar 2020   AIC                          34526.791\n",
       "Time:                        19:59:29   BIC                          34552.154\n",
       "Sample:                    01-03-2000   HQIC                         34535.760\n",
       "                         - 01-26-2016                                         \n",
       "======================================================================================\n",
       "                         coef    std err          z      P>|z|      [0.025      0.975]\n",
       "--------------------------------------------------------------------------------------\n",
       "const               1457.0923    212.250      6.865      0.000    1041.091    1873.094\n",
       "ar.L1.market_value     0.9992      0.001   1781.271      0.000       0.998       1.000\n",
       "ma.L1.market_value    -0.0716      0.016     -4.456      0.000      -0.103      -0.040\n",
       "                                    Roots                                    \n",
       "=============================================================================\n",
       "                  Real          Imaginary           Modulus         Frequency\n",
       "-----------------------------------------------------------------------------\n",
       "AR.1            1.0008           +0.0000j            1.0008            0.0000\n",
       "MA.1           13.9646           +0.0000j           13.9646            0.0000\n",
       "-----------------------------------------------------------------------------\n",
       "\"\"\""
      ]
     },
     "execution_count": 24,
     "metadata": {},
     "output_type": "execute_result"
    }
   ],
   "source": [
    "model_ar_1_ma_1 = ARMA(df.market_value, order=(1,1))\n",
    "results_ar_1_ma_1 = model_ar_1_ma_1.fit()\n",
    "results_ar_1_ma_1.summary()"
   ]
  },
  {
   "cell_type": "code",
   "execution_count": 25,
   "metadata": {},
   "outputs": [],
   "source": [
    "df['res_ar_1_ma_1'] = results_ar_1_ma_1.resid"
   ]
  },
  {
   "cell_type": "code",
   "execution_count": 26,
   "metadata": {},
   "outputs": [
    {
     "data": {
      "image/png": "[encoded data removed]",
      "text/plain": [
       "<Figure size 432x288 with 1 Axes>"
      ]
     },
     "metadata": {
      "needs_background": "light"
     },
     "output_type": "display_data"
    }
   ],
   "source": [
    "sgt.plot_acf(df.res_ar_1_ma_1, zero = False, lags = 40)\n",
    "plt.title(\"ACF Of Residuals of Prices\",size=20)\n",
    "plt.show()"
   ]
  },
  {
   "cell_type": "code",
   "execution_count": 27,
   "metadata": {},
   "outputs": [
    {
     "data": {
      "text/html": [
       "<table class=\"simpletable\">\n",
       "<caption>ARMA Model Results</caption>\n",
       "<tr>\n",
       "  <th>Dep. Variable:</th>   <td>market_value</td>   <th>  No. Observations:  </th>    <td>4192</td>   \n",
       "</tr>\n",
       "<tr>\n",
       "  <th>Model:</th>            <td>ARMA(6, 6)</td>    <th>  Log Likelihood     </th> <td>-17248.599</td>\n",
       "</tr>\n",
       "<tr>\n",
       "  <th>Method:</th>             <td>css-mle</td>     <th>  S.D. of innovations</th>   <td>14.803</td>  \n",
       "</tr>\n",
       "<tr>\n",
       "  <th>Date:</th>          <td>Mon, 02 Mar 2020</td> <th>  AIC                </th>  <td>34525.197</td>\n",
       "</tr>\n",
       "<tr>\n",
       "  <th>Time:</th>              <td>20:00:53</td>     <th>  BIC                </th>  <td>34613.970</td>\n",
       "</tr>\n",
       "<tr>\n",
       "  <th>Sample:</th>           <td>01-03-2000</td>    <th>  HQIC               </th>  <td>34556.590</td>\n",
       "</tr>\n",
       "<tr>\n",
       "  <th></th>                 <td>- 01-26-2016</td>   <th>                     </th>      <td> </td>    \n",
       "</tr>\n",
       "</table>\n",
       "<table class=\"simpletable\">\n",
       "<tr>\n",
       "           <td></td>             <th>coef</th>     <th>std err</th>      <th>z</th>      <th>P>|z|</th>  <th>[0.025</th>    <th>0.975]</th>  \n",
       "</tr>\n",
       "<tr>\n",
       "  <th>const</th>              <td> 1333.5304</td> <td>  518.991</td> <td>    2.569</td> <td> 0.010</td> <td>  316.327</td> <td> 2350.733</td>\n",
       "</tr>\n",
       "<tr>\n",
       "  <th>ar.L1.market_value</th> <td>    1.0923</td> <td>      nan</td> <td>      nan</td> <td>   nan</td> <td>      nan</td> <td>      nan</td>\n",
       "</tr>\n",
       "<tr>\n",
       "  <th>ar.L2.market_value</th> <td>    1.0765</td> <td>    0.007</td> <td>  156.457</td> <td> 0.000</td> <td>    1.063</td> <td>    1.090</td>\n",
       "</tr>\n",
       "<tr>\n",
       "  <th>ar.L3.market_value</th> <td>   -1.1827</td> <td>      nan</td> <td>      nan</td> <td>   nan</td> <td>      nan</td> <td>      nan</td>\n",
       "</tr>\n",
       "<tr>\n",
       "  <th>ar.L4.market_value</th> <td>   -0.9347</td> <td>      nan</td> <td>      nan</td> <td>   nan</td> <td>      nan</td> <td>      nan</td>\n",
       "</tr>\n",
       "<tr>\n",
       "  <th>ar.L5.market_value</th> <td>    1.0269</td> <td>      nan</td> <td>      nan</td> <td>   nan</td> <td>      nan</td> <td>      nan</td>\n",
       "</tr>\n",
       "<tr>\n",
       "  <th>ar.L6.market_value</th> <td>   -0.0785</td> <td>    0.005</td> <td>  -14.500</td> <td> 0.000</td> <td>   -0.089</td> <td>   -0.068</td>\n",
       "</tr>\n",
       "<tr>\n",
       "  <th>ma.L1.market_value</th> <td>   -0.1650</td> <td>    0.013</td> <td>  -12.449</td> <td> 0.000</td> <td>   -0.191</td> <td>   -0.139</td>\n",
       "</tr>\n",
       "<tr>\n",
       "  <th>ma.L2.market_value</th> <td>   -1.2020</td> <td>    0.012</td> <td> -104.262</td> <td> 0.000</td> <td>   -1.225</td> <td>   -1.179</td>\n",
       "</tr>\n",
       "<tr>\n",
       "  <th>ma.L3.market_value</th> <td>    0.0900</td> <td>    0.021</td> <td>    4.242</td> <td> 0.000</td> <td>    0.048</td> <td>    0.132</td>\n",
       "</tr>\n",
       "<tr>\n",
       "  <th>ma.L4.market_value</th> <td>    0.9812</td> <td>    0.018</td> <td>   53.315</td> <td> 0.000</td> <td>    0.945</td> <td>    1.017</td>\n",
       "</tr>\n",
       "<tr>\n",
       "  <th>ma.L5.market_value</th> <td>   -0.1481</td> <td>    0.016</td> <td>   -9.261</td> <td> 0.000</td> <td>   -0.179</td> <td>   -0.117</td>\n",
       "</tr>\n",
       "<tr>\n",
       "  <th>ma.L6.market_value</th> <td>   -0.0199</td> <td>    0.016</td> <td>   -1.267</td> <td> 0.205</td> <td>   -0.051</td> <td>    0.011</td>\n",
       "</tr>\n",
       "</table>\n",
       "<table class=\"simpletable\">\n",
       "<caption>Roots</caption>\n",
       "<tr>\n",
       "    <td></td>   <th>            Real</th>  <th>         Imaginary</th> <th>         Modulus</th>  <th>        Frequency</th>\n",
       "</tr>\n",
       "<tr>\n",
       "  <th>AR.1</th> <td>          -0.8869</td> <td>          -0.4708j</td> <td>           1.0041</td> <td>          -0.4223</td>\n",
       "</tr>\n",
       "<tr>\n",
       "  <th>AR.2</th> <td>          -0.8869</td> <td>          +0.4708j</td> <td>           1.0041</td> <td>           0.4223</td>\n",
       "</tr>\n",
       "<tr>\n",
       "  <th>AR.3</th> <td>           0.9313</td> <td>          -0.4311j</td> <td>           1.0263</td> <td>          -0.0690</td>\n",
       "</tr>\n",
       "<tr>\n",
       "  <th>AR.4</th> <td>           0.9313</td> <td>          +0.4311j</td> <td>           1.0263</td> <td>           0.0690</td>\n",
       "</tr>\n",
       "<tr>\n",
       "  <th>AR.5</th> <td>           1.0003</td> <td>          -0.0000j</td> <td>           1.0003</td> <td>          -0.0000</td>\n",
       "</tr>\n",
       "<tr>\n",
       "  <th>AR.6</th> <td>          11.9938</td> <td>          -0.0000j</td> <td>          11.9938</td> <td>          -0.0000</td>\n",
       "</tr>\n",
       "<tr>\n",
       "  <th>MA.1</th> <td>          -0.8851</td> <td>          -0.4690j</td> <td>           1.0017</td> <td>          -0.4225</td>\n",
       "</tr>\n",
       "<tr>\n",
       "  <th>MA.2</th> <td>          -0.8851</td> <td>          +0.4690j</td> <td>           1.0017</td> <td>           0.4225</td>\n",
       "</tr>\n",
       "<tr>\n",
       "  <th>MA.3</th> <td>           0.9376</td> <td>          -0.4250j</td> <td>           1.0294</td> <td>          -0.0677</td>\n",
       "</tr>\n",
       "<tr>\n",
       "  <th>MA.4</th> <td>           0.9376</td> <td>          +0.4250j</td> <td>           1.0294</td> <td>           0.0677</td>\n",
       "</tr>\n",
       "<tr>\n",
       "  <th>MA.5</th> <td>           4.0694</td> <td>          -0.0000j</td> <td>           4.0694</td> <td>          -0.0000</td>\n",
       "</tr>\n",
       "<tr>\n",
       "  <th>MA.6</th> <td>         -11.6166</td> <td>          -0.0000j</td> <td>          11.6166</td> <td>          -0.5000</td>\n",
       "</tr>\n",
       "</table>"
      ],
      "text/plain": [
       "<class 'statsmodels.iolib.summary.Summary'>\n",
       "\"\"\"\n",
       "                              ARMA Model Results                              \n",
       "==============================================================================\n",
       "Dep. Variable:           market_value   No. Observations:                 4192\n",
       "Model:                     ARMA(6, 6)   Log Likelihood              -17248.599\n",
       "Method:                       css-mle   S.D. of innovations             14.803\n",
       "Date:                Mon, 02 Mar 2020   AIC                          34525.197\n",
       "Time:                        20:00:53   BIC                          34613.970\n",
       "Sample:                    01-03-2000   HQIC                         34556.590\n",
       "                         - 01-26-2016                                         \n",
       "======================================================================================\n",
       "                         coef    std err          z      P>|z|      [0.025      0.975]\n",
       "--------------------------------------------------------------------------------------\n",
       "const               1333.5304    518.991      2.569      0.010     316.327    2350.733\n",
       "ar.L1.market_value     1.0923        nan        nan        nan         nan         nan\n",
       "ar.L2.market_value     1.0765      0.007    156.457      0.000       1.063       1.090\n",
       "ar.L3.market_value    -1.1827        nan        nan        nan         nan         nan\n",
       "ar.L4.market_value    -0.9347        nan        nan        nan         nan         nan\n",
       "ar.L5.market_value     1.0269        nan        nan        nan         nan         nan\n",
       "ar.L6.market_value    -0.0785      0.005    -14.500      0.000      -0.089      -0.068\n",
       "ma.L1.market_value    -0.1650      0.013    -12.449      0.000      -0.191      -0.139\n",
       "ma.L2.market_value    -1.2020      0.012   -104.262      0.000      -1.225      -1.179\n",
       "ma.L3.market_value     0.0900      0.021      4.242      0.000       0.048       0.132\n",
       "ma.L4.market_value     0.9812      0.018     53.315      0.000       0.945       1.017\n",
       "ma.L5.market_value    -0.1481      0.016     -9.261      0.000      -0.179      -0.117\n",
       "ma.L6.market_value    -0.0199      0.016     -1.267      0.205      -0.051       0.011\n",
       "                                    Roots                                    \n",
       "=============================================================================\n",
       "                  Real          Imaginary           Modulus         Frequency\n",
       "-----------------------------------------------------------------------------\n",
       "AR.1           -0.8869           -0.4708j            1.0041           -0.4223\n",
       "AR.2           -0.8869           +0.4708j            1.0041            0.4223\n",
       "AR.3            0.9313           -0.4311j            1.0263           -0.0690\n",
       "AR.4            0.9313           +0.4311j            1.0263            0.0690\n",
       "AR.5            1.0003           -0.0000j            1.0003           -0.0000\n",
       "AR.6           11.9938           -0.0000j           11.9938           -0.0000\n",
       "MA.1           -0.8851           -0.4690j            1.0017           -0.4225\n",
       "MA.2           -0.8851           +0.4690j            1.0017            0.4225\n",
       "MA.3            0.9376           -0.4250j            1.0294           -0.0677\n",
       "MA.4            0.9376           +0.4250j            1.0294            0.0677\n",
       "MA.5            4.0694           -0.0000j            4.0694           -0.0000\n",
       "MA.6          -11.6166           -0.0000j           11.6166           -0.5000\n",
       "-----------------------------------------------------------------------------\n",
       "\"\"\""
      ]
     },
     "execution_count": 27,
     "metadata": {},
     "output_type": "execute_result"
    }
   ],
   "source": [
    "model_ar_6_ma_6 = ARMA(df.market_value, order=(6,6))\n",
    "results_ar_6_ma_6 = model_ar_6_ma_6.fit(start_ar_lags = 11)\n",
    "results_ar_6_ma_6.summary()"
   ]
  },
  {
   "cell_type": "markdown",
   "metadata": {},
   "source": [
    "ARMA for Returns vs ARMA for Prices"
   ]
  },
  {
   "cell_type": "code",
   "execution_count": 29,
   "metadata": {},
   "outputs": [
    {
     "name": "stdout",
     "output_type": "stream",
     "text": [
      "ARMA(5,1):  \t LL =  -6839.811742437473 \t AIC =  13695.623484874946\n"
     ]
    }
   ],
   "source": [
    "print(\"ARMA(5,1):  \\t LL = \", results_ret_ar_5_ma_1.llf, \"\\t AIC = \", results_ret_ar_5_ma_1.aic)"
   ]
  },
  {
   "cell_type": "code",
   "execution_count": null,
   "metadata": {},
   "outputs": [],
   "source": []
  }
 ],
 "metadata": {
  "kernelspec": {
   "display_name": "Python 3",
   "language": "python",
   "name": "python3"
  },
  "language_info": {
   "codemirror_mode": {
    "name": "ipython",
    "version": 3
   },
   "file_extension": ".py",
   "mimetype": "text/x-python",
   "name": "python",
   "nbconvert_exporter": "python",
   "pygments_lexer": "ipython3",
   "version": "3.7.3"
  }
 },
 "nbformat": 4,
 "nbformat_minor": 2
}

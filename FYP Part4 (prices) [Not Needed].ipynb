{
 "cells": [
  {
   "cell_type": "markdown",
   "metadata": {},
   "source": [
    "Importing packages"
   ]
  },
  {
   "cell_type": "code",
   "execution_count": 29,
   "metadata": {},
   "outputs": [],
   "source": [
    "import pandas as pd\n",
    "import numpy as np\n",
    "import matplotlib.pyplot as plt\n",
    "import statsmodels.graphics.tsaplots as sgt\n",
    "from statsmodels.tsa.arima_model import ARMA\n",
    "from scipy.stats.distributions import chi2\n",
    "import statsmodels.tsa.stattools as sts \n",
    "import seaborn as sns\n",
    "sns.set()\n",
    "import warnings\n",
    "warnings.filterwarnings(\"ignore\")"
   ]
  },
  {
   "cell_type": "markdown",
   "metadata": {},
   "source": [
    "Data Pre-processing"
   ]
  },
  {
   "cell_type": "code",
   "execution_count": 2,
   "metadata": {},
   "outputs": [],
   "source": [
    "raw_csv_data = pd.read_csv(\"Index2020.csv\") \n",
    "df_com=raw_csv_data.copy()\n",
    "df_com.date = pd.to_datetime(df_com.date, dayfirst = True)\n",
    "df_com.set_index(\"date\", inplace=True)\n",
    "df_com=df_com.asfreq('b')\n",
    "df_com=df_com.fillna(method='ffill')"
   ]
  },
  {
   "cell_type": "code",
   "execution_count": 3,
   "metadata": {},
   "outputs": [],
   "source": [
    "df_com['market_value']=df_com.spx"
   ]
  },
  {
   "cell_type": "code",
   "execution_count": 4,
   "metadata": {},
   "outputs": [],
   "source": [
    "del df_com['dax']\n",
    "size = int(len(df_com)*0.8)\n",
    "df, df_test = df_com.iloc[:size], df_com.iloc[size:]"
   ]
  },
  {
   "cell_type": "markdown",
   "metadata": {},
   "source": [
    "ACF"
   ]
  },
  {
   "cell_type": "code",
   "execution_count": 6,
   "metadata": {},
   "outputs": [
    {
     "data": {
      "image/png": "[encoded data removed]",
      "text/plain": [
       "<Figure size 432x288 with 1 Axes>"
      ]
     },
     "metadata": {
      "needs_background": "light"
     },
     "output_type": "display_data"
    }
   ],
   "source": [
    "sgt.plot_acf(df.market_value, zero = False, lags = 40)\n",
    "plt.title(\"ACF for Price\", size = 20)\n",
    "plt.show()\n",
    "#similar to s&p500\n",
    "#40 lagged coefficient are significant & declining\n",
    "#all between 0.9 & 1.0;effects hardly deteriorate over time\n",
    "#Both behave the same & past values affect present"
   ]
  },
  {
   "cell_type": "markdown",
   "metadata": {},
   "source": [
    "PACF"
   ]
  },
  {
   "cell_type": "code",
   "execution_count": 7,
   "metadata": {},
   "outputs": [
    {
     "data": {
      "image/png": "[encoded data removed]",
      "text/plain": [
       "<Figure size 432x288 with 1 Axes>"
      ]
     },
     "metadata": {
      "needs_background": "light"
     },
     "output_type": "display_data"
    }
   ],
   "source": [
    "sgt.plot_pacf(df.market_value, lags = 40, alpha = 0.05, zero = False, method = ('ols'))\n",
    "plt.title(\"PACF for Price\", size =20)\n",
    "plt.show()\n",
    "#only include past lags which hv direct significant effect on present\n",
    "#most of the coefficients from 25th lag onwards are not significant;Ignore?too close to 0;small model impact\n",
    "#model < 25 lags\n",
    "#values after 22nd lag are -ve;frequency is in business days ~~ 22days in month\n",
    "#cyclical changes;values month ago affect today"
   ]
  },
  {
   "cell_type": "markdown",
   "metadata": {},
   "source": [
    "AR Models"
   ]
  },
  {
   "cell_type": "code",
   "execution_count": 8,
   "metadata": {},
   "outputs": [
    {
     "data": {
      "text/html": [
       "<table class=\"simpletable\">\n",
       "<caption>ARMA Model Results</caption>\n",
       "<tr>\n",
       "  <th>Dep. Variable:</th>   <td>market_value</td>   <th>  No. Observations:  </th>    <td>4192</td>   \n",
       "</tr>\n",
       "<tr>\n",
       "  <th>Model:</th>            <td>ARMA(1, 0)</td>    <th>  Log Likelihood     </th> <td>-17269.268</td>\n",
       "</tr>\n",
       "<tr>\n",
       "  <th>Method:</th>             <td>css-mle</td>     <th>  S.D. of innovations</th>   <td>14.878</td>  \n",
       "</tr>\n",
       "<tr>\n",
       "  <th>Date:</th>          <td>Mon, 02 Mar 2020</td> <th>  AIC                </th>  <td>34544.536</td>\n",
       "</tr>\n",
       "<tr>\n",
       "  <th>Time:</th>              <td>15:15:45</td>     <th>  BIC                </th>  <td>34563.558</td>\n",
       "</tr>\n",
       "<tr>\n",
       "  <th>Sample:</th>           <td>01-03-2000</td>    <th>  HQIC               </th>  <td>34551.263</td>\n",
       "</tr>\n",
       "<tr>\n",
       "  <th></th>                 <td>- 01-26-2016</td>   <th>                     </th>      <td> </td>    \n",
       "</tr>\n",
       "</table>\n",
       "<table class=\"simpletable\">\n",
       "<tr>\n",
       "           <td></td>             <th>coef</th>     <th>std err</th>      <th>z</th>      <th>P>|z|</th>  <th>[0.025</th>    <th>0.975]</th>  \n",
       "</tr>\n",
       "<tr>\n",
       "  <th>const</th>              <td> 1451.0813</td> <td>  202.733</td> <td>    7.158</td> <td> 0.000</td> <td> 1053.733</td> <td> 1848.430</td>\n",
       "</tr>\n",
       "<tr>\n",
       "  <th>ar.L1.market_value</th> <td>    0.9990</td> <td>    0.001</td> <td> 1611.500</td> <td> 0.000</td> <td>    0.998</td> <td>    1.000</td>\n",
       "</tr>\n",
       "</table>\n",
       "<table class=\"simpletable\">\n",
       "<caption>Roots</caption>\n",
       "<tr>\n",
       "    <td></td>   <th>            Real</th>  <th>         Imaginary</th> <th>         Modulus</th>  <th>        Frequency</th>\n",
       "</tr>\n",
       "<tr>\n",
       "  <th>AR.1</th> <td>           1.0010</td> <td>          +0.0000j</td> <td>           1.0010</td> <td>           0.0000</td>\n",
       "</tr>\n",
       "</table>"
      ],
      "text/plain": [
       "<class 'statsmodels.iolib.summary.Summary'>\n",
       "\"\"\"\n",
       "                              ARMA Model Results                              \n",
       "==============================================================================\n",
       "Dep. Variable:           market_value   No. Observations:                 4192\n",
       "Model:                     ARMA(1, 0)   Log Likelihood              -17269.268\n",
       "Method:                       css-mle   S.D. of innovations             14.878\n",
       "Date:                Mon, 02 Mar 2020   AIC                          34544.536\n",
       "Time:                        15:15:45   BIC                          34563.558\n",
       "Sample:                    01-03-2000   HQIC                         34551.263\n",
       "                         - 01-26-2016                                         \n",
       "======================================================================================\n",
       "                         coef    std err          z      P>|z|      [0.025      0.975]\n",
       "--------------------------------------------------------------------------------------\n",
       "const               1451.0813    202.733      7.158      0.000    1053.733    1848.430\n",
       "ar.L1.market_value     0.9990      0.001   1611.500      0.000       0.998       1.000\n",
       "                                    Roots                                    \n",
       "=============================================================================\n",
       "                  Real          Imaginary           Modulus         Frequency\n",
       "-----------------------------------------------------------------------------\n",
       "AR.1            1.0010           +0.0000j            1.0010            0.0000\n",
       "-----------------------------------------------------------------------------\n",
       "\"\"\""
      ]
     },
     "execution_count": 8,
     "metadata": {},
     "output_type": "execute_result"
    }
   ],
   "source": [
    "model_ar = ARMA(df.market_value, order = (1,0))\n",
    "results_ar = model_ar.fit()\n",
    "#1 is model no; no.of past values to incorporate\n",
    "#0 is not taking any residual values\n",
    "#simple autoregressive(AR) model\n",
    "results_ar.summary()\n",
    "#critical value for 95percent confidence internal is not zero;coefficients are significant\n",
    "#phi=0.9991;near 1;as seen in ACF & PACF graph;\n",
    "#p-value;If a value is significantly different from 0 it means based on the data,\n",
    "#not enough evidence to confirm it isn't equal to 0\n",
    "#Therefore,assume its coefficient is 0, so we don't use it to make estimates or forecasts"
   ]
  },
  {
   "cell_type": "code",
   "execution_count": 9,
   "metadata": {},
   "outputs": [
    {
     "data": {
      "text/html": [
       "<table class=\"simpletable\">\n",
       "<caption>ARMA Model Results</caption>\n",
       "<tr>\n",
       "  <th>Dep. Variable:</th>   <td>market_value</td>   <th>  No. Observations:  </th>    <td>4192</td>   \n",
       "</tr>\n",
       "<tr>\n",
       "  <th>Model:</th>            <td>ARMA(2, 0)</td>    <th>  Log Likelihood     </th> <td>-17260.153</td>\n",
       "</tr>\n",
       "<tr>\n",
       "  <th>Method:</th>             <td>css-mle</td>     <th>  S.D. of innovations</th>   <td>14.846</td>  \n",
       "</tr>\n",
       "<tr>\n",
       "  <th>Date:</th>          <td>Mon, 02 Mar 2020</td> <th>  AIC                </th>  <td>34528.306</td>\n",
       "</tr>\n",
       "<tr>\n",
       "  <th>Time:</th>              <td>15:15:46</td>     <th>  BIC                </th>  <td>34553.669</td>\n",
       "</tr>\n",
       "<tr>\n",
       "  <th>Sample:</th>           <td>01-03-2000</td>    <th>  HQIC               </th>  <td>34537.275</td>\n",
       "</tr>\n",
       "<tr>\n",
       "  <th></th>                 <td>- 01-26-2016</td>   <th>                     </th>      <td> </td>    \n",
       "</tr>\n",
       "</table>\n",
       "<table class=\"simpletable\">\n",
       "<tr>\n",
       "           <td></td>             <th>coef</th>     <th>std err</th>      <th>z</th>      <th>P>|z|</th>  <th>[0.025</th>    <th>0.975]</th>  \n",
       "</tr>\n",
       "<tr>\n",
       "  <th>const</th>              <td> 1440.3555</td> <td>  205.532</td> <td>    7.008</td> <td> 0.000</td> <td> 1037.520</td> <td> 1843.191</td>\n",
       "</tr>\n",
       "<tr>\n",
       "  <th>ar.L1.market_value</th> <td>    0.9331</td> <td>    0.015</td> <td>   60.767</td> <td> 0.000</td> <td>    0.903</td> <td>    0.963</td>\n",
       "</tr>\n",
       "<tr>\n",
       "  <th>ar.L2.market_value</th> <td>    0.0660</td> <td>    0.015</td> <td>    4.298</td> <td> 0.000</td> <td>    0.036</td> <td>    0.096</td>\n",
       "</tr>\n",
       "</table>\n",
       "<table class=\"simpletable\">\n",
       "<caption>Roots</caption>\n",
       "<tr>\n",
       "    <td></td>   <th>            Real</th>  <th>         Imaginary</th> <th>         Modulus</th>  <th>        Frequency</th>\n",
       "</tr>\n",
       "<tr>\n",
       "  <th>AR.1</th> <td>           1.0009</td> <td>          +0.0000j</td> <td>           1.0009</td> <td>           0.0000</td>\n",
       "</tr>\n",
       "<tr>\n",
       "  <th>AR.2</th> <td>         -15.1365</td> <td>          +0.0000j</td> <td>          15.1365</td> <td>           0.5000</td>\n",
       "</tr>\n",
       "</table>"
      ],
      "text/plain": [
       "<class 'statsmodels.iolib.summary.Summary'>\n",
       "\"\"\"\n",
       "                              ARMA Model Results                              \n",
       "==============================================================================\n",
       "Dep. Variable:           market_value   No. Observations:                 4192\n",
       "Model:                     ARMA(2, 0)   Log Likelihood              -17260.153\n",
       "Method:                       css-mle   S.D. of innovations             14.846\n",
       "Date:                Mon, 02 Mar 2020   AIC                          34528.306\n",
       "Time:                        15:15:46   BIC                          34553.669\n",
       "Sample:                    01-03-2000   HQIC                         34537.275\n",
       "                         - 01-26-2016                                         \n",
       "======================================================================================\n",
       "                         coef    std err          z      P>|z|      [0.025      0.975]\n",
       "--------------------------------------------------------------------------------------\n",
       "const               1440.3555    205.532      7.008      0.000    1037.520    1843.191\n",
       "ar.L1.market_value     0.9331      0.015     60.767      0.000       0.903       0.963\n",
       "ar.L2.market_value     0.0660      0.015      4.298      0.000       0.036       0.096\n",
       "                                    Roots                                    \n",
       "=============================================================================\n",
       "                  Real          Imaginary           Modulus         Frequency\n",
       "-----------------------------------------------------------------------------\n",
       "AR.1            1.0009           +0.0000j            1.0009            0.0000\n",
       "AR.2          -15.1365           +0.0000j           15.1365            0.5000\n",
       "-----------------------------------------------------------------------------\n",
       "\"\"\""
      ]
     },
     "execution_count": 9,
     "metadata": {},
     "output_type": "execute_result"
    }
   ],
   "source": [
    "model_ar_2 = ARMA(df.market_value, order = (2,0))\n",
    "results_ar_2 = model_ar_2.fit()\n",
    "results_ar_2.summary()"
   ]
  },
  {
   "cell_type": "code",
   "execution_count": 10,
   "metadata": {},
   "outputs": [
    {
     "data": {
      "text/html": [
       "<table class=\"simpletable\">\n",
       "<caption>ARMA Model Results</caption>\n",
       "<tr>\n",
       "  <th>Dep. Variable:</th>   <td>market_value</td>   <th>  No. Observations:  </th>    <td>4192</td>   \n",
       "</tr>\n",
       "<tr>\n",
       "  <th>Model:</th>            <td>ARMA(3, 0)</td>    <th>  Log Likelihood     </th> <td>-17256.907</td>\n",
       "</tr>\n",
       "<tr>\n",
       "  <th>Method:</th>             <td>css-mle</td>     <th>  S.D. of innovations</th>   <td>14.834</td>  \n",
       "</tr>\n",
       "<tr>\n",
       "  <th>Date:</th>          <td>Mon, 02 Mar 2020</td> <th>  AIC                </th>  <td>34523.815</td>\n",
       "</tr>\n",
       "<tr>\n",
       "  <th>Time:</th>              <td>15:15:47</td>     <th>  BIC                </th>  <td>34555.519</td>\n",
       "</tr>\n",
       "<tr>\n",
       "  <th>Sample:</th>           <td>01-03-2000</td>    <th>  HQIC               </th>  <td>34535.026</td>\n",
       "</tr>\n",
       "<tr>\n",
       "  <th></th>                 <td>- 01-26-2016</td>   <th>                     </th>      <td> </td>    \n",
       "</tr>\n",
       "</table>\n",
       "<table class=\"simpletable\">\n",
       "<tr>\n",
       "           <td></td>             <th>coef</th>     <th>std err</th>      <th>z</th>      <th>P>|z|</th>  <th>[0.025</th>    <th>0.975]</th>  \n",
       "</tr>\n",
       "<tr>\n",
       "  <th>const</th>              <td> 1465.9004</td> <td>  218.370</td> <td>    6.713</td> <td> 0.000</td> <td> 1037.903</td> <td> 1893.898</td>\n",
       "</tr>\n",
       "<tr>\n",
       "  <th>ar.L1.market_value</th> <td>    0.9305</td> <td>    0.015</td> <td>   60.600</td> <td> 0.000</td> <td>    0.900</td> <td>    0.961</td>\n",
       "</tr>\n",
       "<tr>\n",
       "  <th>ar.L2.market_value</th> <td>    0.0292</td> <td>    0.021</td> <td>    1.386</td> <td> 0.166</td> <td>   -0.012</td> <td>    0.071</td>\n",
       "</tr>\n",
       "<tr>\n",
       "  <th>ar.L3.market_value</th> <td>    0.0394</td> <td>    0.015</td> <td>    2.548</td> <td> 0.011</td> <td>    0.009</td> <td>    0.070</td>\n",
       "</tr>\n",
       "</table>\n",
       "<table class=\"simpletable\">\n",
       "<caption>Roots</caption>\n",
       "<tr>\n",
       "    <td></td>   <th>            Real</th>  <th>         Imaginary</th> <th>         Modulus</th>  <th>        Frequency</th>\n",
       "</tr>\n",
       "<tr>\n",
       "  <th>AR.1</th> <td>           1.0008</td> <td>          -0.0000j</td> <td>           1.0008</td> <td>          -0.0000</td>\n",
       "</tr>\n",
       "<tr>\n",
       "  <th>AR.2</th> <td>          -0.8710</td> <td>          -4.9595j</td> <td>           5.0354</td> <td>          -0.2777</td>\n",
       "</tr>\n",
       "<tr>\n",
       "  <th>AR.3</th> <td>          -0.8710</td> <td>          +4.9595j</td> <td>           5.0354</td> <td>           0.2777</td>\n",
       "</tr>\n",
       "</table>"
      ],
      "text/plain": [
       "<class 'statsmodels.iolib.summary.Summary'>\n",
       "\"\"\"\n",
       "                              ARMA Model Results                              \n",
       "==============================================================================\n",
       "Dep. Variable:           market_value   No. Observations:                 4192\n",
       "Model:                     ARMA(3, 0)   Log Likelihood              -17256.907\n",
       "Method:                       css-mle   S.D. of innovations             14.834\n",
       "Date:                Mon, 02 Mar 2020   AIC                          34523.815\n",
       "Time:                        15:15:47   BIC                          34555.519\n",
       "Sample:                    01-03-2000   HQIC                         34535.026\n",
       "                         - 01-26-2016                                         \n",
       "======================================================================================\n",
       "                         coef    std err          z      P>|z|      [0.025      0.975]\n",
       "--------------------------------------------------------------------------------------\n",
       "const               1465.9004    218.370      6.713      0.000    1037.903    1893.898\n",
       "ar.L1.market_value     0.9305      0.015     60.600      0.000       0.900       0.961\n",
       "ar.L2.market_value     0.0292      0.021      1.386      0.166      -0.012       0.071\n",
       "ar.L3.market_value     0.0394      0.015      2.548      0.011       0.009       0.070\n",
       "                                    Roots                                    \n",
       "=============================================================================\n",
       "                  Real          Imaginary           Modulus         Frequency\n",
       "-----------------------------------------------------------------------------\n",
       "AR.1            1.0008           -0.0000j            1.0008           -0.0000\n",
       "AR.2           -0.8710           -4.9595j            5.0354           -0.2777\n",
       "AR.3           -0.8710           +4.9595j            5.0354            0.2777\n",
       "-----------------------------------------------------------------------------\n",
       "\"\"\""
      ]
     },
     "execution_count": 10,
     "metadata": {},
     "output_type": "execute_result"
    }
   ],
   "source": [
    "model_ar_3 = ARMA(df.market_value, order = (3,0))\n",
    "results_ar_3 = model_ar_3.fit()\n",
    "results_ar_3.summary()"
   ]
  },
  {
   "cell_type": "code",
   "execution_count": 11,
   "metadata": {
    "scrolled": true
   },
   "outputs": [
    {
     "data": {
      "text/html": [
       "<table class=\"simpletable\">\n",
       "<caption>ARMA Model Results</caption>\n",
       "<tr>\n",
       "  <th>Dep. Variable:</th>   <td>market_value</td>   <th>  No. Observations:  </th>    <td>4192</td>   \n",
       "</tr>\n",
       "<tr>\n",
       "  <th>Model:</th>            <td>ARMA(4, 0)</td>    <th>  Log Likelihood     </th> <td>-17256.344</td>\n",
       "</tr>\n",
       "<tr>\n",
       "  <th>Method:</th>             <td>css-mle</td>     <th>  S.D. of innovations</th>   <td>14.832</td>  \n",
       "</tr>\n",
       "<tr>\n",
       "  <th>Date:</th>          <td>Mon, 02 Mar 2020</td> <th>  AIC                </th>  <td>34524.687</td>\n",
       "</tr>\n",
       "<tr>\n",
       "  <th>Time:</th>              <td>15:15:48</td>     <th>  BIC                </th>  <td>34562.733</td>\n",
       "</tr>\n",
       "<tr>\n",
       "  <th>Sample:</th>           <td>01-03-2000</td>    <th>  HQIC               </th>  <td>34538.141</td>\n",
       "</tr>\n",
       "<tr>\n",
       "  <th></th>                 <td>- 01-26-2016</td>   <th>                     </th>      <td> </td>    \n",
       "</tr>\n",
       "</table>\n",
       "<table class=\"simpletable\">\n",
       "<tr>\n",
       "           <td></td>             <th>coef</th>     <th>std err</th>      <th>z</th>      <th>P>|z|</th>  <th>[0.025</th>    <th>0.975]</th>  \n",
       "</tr>\n",
       "<tr>\n",
       "  <th>const</th>              <td> 1467.8624</td> <td>  220.516</td> <td>    6.656</td> <td> 0.000</td> <td> 1035.659</td> <td> 1900.066</td>\n",
       "</tr>\n",
       "<tr>\n",
       "  <th>ar.L1.market_value</th> <td>    0.9299</td> <td>    0.015</td> <td>   60.544</td> <td> 0.000</td> <td>    0.900</td> <td>    0.960</td>\n",
       "</tr>\n",
       "<tr>\n",
       "  <th>ar.L2.market_value</th> <td>    0.0288</td> <td>    0.021</td> <td>    1.366</td> <td> 0.172</td> <td>   -0.013</td> <td>    0.070</td>\n",
       "</tr>\n",
       "<tr>\n",
       "  <th>ar.L3.market_value</th> <td>    0.0241</td> <td>    0.021</td> <td>    1.137</td> <td> 0.256</td> <td>   -0.017</td> <td>    0.066</td>\n",
       "</tr>\n",
       "<tr>\n",
       "  <th>ar.L4.market_value</th> <td>    0.0165</td> <td>    0.015</td> <td>    1.062</td> <td> 0.288</td> <td>   -0.014</td> <td>    0.047</td>\n",
       "</tr>\n",
       "</table>\n",
       "<table class=\"simpletable\">\n",
       "<caption>Roots</caption>\n",
       "<tr>\n",
       "    <td></td>   <th>            Real</th>  <th>         Imaginary</th> <th>         Modulus</th>  <th>        Frequency</th>\n",
       "</tr>\n",
       "<tr>\n",
       "  <th>AR.1</th> <td>           1.0007</td> <td>          -0.0000j</td> <td>           1.0007</td> <td>          -0.0000</td>\n",
       "</tr>\n",
       "<tr>\n",
       "  <th>AR.2</th> <td>           1.0245</td> <td>          -3.5227j</td> <td>           3.6687</td> <td>          -0.2050</td>\n",
       "</tr>\n",
       "<tr>\n",
       "  <th>AR.3</th> <td>           1.0245</td> <td>          +3.5227j</td> <td>           3.6687</td> <td>           0.2050</td>\n",
       "</tr>\n",
       "<tr>\n",
       "  <th>AR.4</th> <td>          -4.5119</td> <td>          -0.0000j</td> <td>           4.5119</td> <td>          -0.5000</td>\n",
       "</tr>\n",
       "</table>"
      ],
      "text/plain": [
       "<class 'statsmodels.iolib.summary.Summary'>\n",
       "\"\"\"\n",
       "                              ARMA Model Results                              \n",
       "==============================================================================\n",
       "Dep. Variable:           market_value   No. Observations:                 4192\n",
       "Model:                     ARMA(4, 0)   Log Likelihood              -17256.344\n",
       "Method:                       css-mle   S.D. of innovations             14.832\n",
       "Date:                Mon, 02 Mar 2020   AIC                          34524.687\n",
       "Time:                        15:15:48   BIC                          34562.733\n",
       "Sample:                    01-03-2000   HQIC                         34538.141\n",
       "                         - 01-26-2016                                         \n",
       "======================================================================================\n",
       "                         coef    std err          z      P>|z|      [0.025      0.975]\n",
       "--------------------------------------------------------------------------------------\n",
       "const               1467.8624    220.516      6.656      0.000    1035.659    1900.066\n",
       "ar.L1.market_value     0.9299      0.015     60.544      0.000       0.900       0.960\n",
       "ar.L2.market_value     0.0288      0.021      1.366      0.172      -0.013       0.070\n",
       "ar.L3.market_value     0.0241      0.021      1.137      0.256      -0.017       0.066\n",
       "ar.L4.market_value     0.0165      0.015      1.062      0.288      -0.014       0.047\n",
       "                                    Roots                                    \n",
       "=============================================================================\n",
       "                  Real          Imaginary           Modulus         Frequency\n",
       "-----------------------------------------------------------------------------\n",
       "AR.1            1.0007           -0.0000j            1.0007           -0.0000\n",
       "AR.2            1.0245           -3.5227j            3.6687           -0.2050\n",
       "AR.3            1.0245           +3.5227j            3.6687            0.2050\n",
       "AR.4           -4.5119           -0.0000j            4.5119           -0.5000\n",
       "-----------------------------------------------------------------------------\n",
       "\"\"\""
      ]
     },
     "execution_count": 11,
     "metadata": {},
     "output_type": "execute_result"
    }
   ],
   "source": [
    "model_ar_4 = ARMA(df.market_value, order = (4,0))\n",
    "results_ar_4 = model_ar_4.fit()\n",
    "results_ar_4.summary()"
   ]
  },
  {
   "cell_type": "code",
   "execution_count": 26,
   "metadata": {},
   "outputs": [
    {
     "data": {
      "text/html": [
       "<table class=\"simpletable\">\n",
       "<caption>ARMA Model Results</caption>\n",
       "<tr>\n",
       "  <th>Dep. Variable:</th>   <td>market_value</td>   <th>  No. Observations:  </th>    <td>4192</td>   \n",
       "</tr>\n",
       "<tr>\n",
       "  <th>Model:</th>            <td>ARMA(5, 0)</td>    <th>  Log Likelihood     </th> <td>-17256.109</td>\n",
       "</tr>\n",
       "<tr>\n",
       "  <th>Method:</th>             <td>css-mle</td>     <th>  S.D. of innovations</th>   <td>14.832</td>  \n",
       "</tr>\n",
       "<tr>\n",
       "  <th>Date:</th>          <td>Mon, 02 Mar 2020</td> <th>  AIC                </th>  <td>34526.217</td>\n",
       "</tr>\n",
       "<tr>\n",
       "  <th>Time:</th>              <td>17:09:58</td>     <th>  BIC                </th>  <td>34570.604</td>\n",
       "</tr>\n",
       "<tr>\n",
       "  <th>Sample:</th>           <td>01-03-2000</td>    <th>  HQIC               </th>  <td>34541.914</td>\n",
       "</tr>\n",
       "<tr>\n",
       "  <th></th>                 <td>- 01-26-2016</td>   <th>                     </th>      <td> </td>    \n",
       "</tr>\n",
       "</table>\n",
       "<table class=\"simpletable\">\n",
       "<tr>\n",
       "           <td></td>             <th>coef</th>     <th>std err</th>      <th>z</th>      <th>P>|z|</th>  <th>[0.025</th>    <th>0.975]</th>  \n",
       "</tr>\n",
       "<tr>\n",
       "  <th>const</th>              <td> 1449.5257</td> <td>  212.246</td> <td>    6.829</td> <td> 0.000</td> <td> 1033.530</td> <td> 1865.521</td>\n",
       "</tr>\n",
       "<tr>\n",
       "  <th>ar.L1.market_value</th> <td>    0.9298</td> <td>    0.015</td> <td>   60.505</td> <td> 0.000</td> <td>    0.900</td> <td>    0.960</td>\n",
       "</tr>\n",
       "<tr>\n",
       "  <th>ar.L2.market_value</th> <td>    0.0286</td> <td>    0.021</td> <td>    1.355</td> <td> 0.175</td> <td>   -0.013</td> <td>    0.070</td>\n",
       "</tr>\n",
       "<tr>\n",
       "  <th>ar.L3.market_value</th> <td>    0.0233</td> <td>    0.021</td> <td>    1.102</td> <td> 0.270</td> <td>   -0.018</td> <td>    0.065</td>\n",
       "</tr>\n",
       "<tr>\n",
       "  <th>ar.L4.market_value</th> <td>    0.0067</td> <td>    0.021</td> <td>    0.317</td> <td> 0.751</td> <td>   -0.035</td> <td>    0.048</td>\n",
       "</tr>\n",
       "<tr>\n",
       "  <th>ar.L5.market_value</th> <td>    0.0107</td> <td>    0.016</td> <td>    0.692</td> <td> 0.489</td> <td>   -0.020</td> <td>    0.041</td>\n",
       "</tr>\n",
       "</table>\n",
       "<table class=\"simpletable\">\n",
       "<caption>Roots</caption>\n",
       "<tr>\n",
       "    <td></td>   <th>            Real</th>  <th>         Imaginary</th> <th>         Modulus</th>  <th>        Frequency</th>\n",
       "</tr>\n",
       "<tr>\n",
       "  <th>AR.1</th> <td>           1.0008</td> <td>          -0.0000j</td> <td>           1.0008</td> <td>          -0.0000</td>\n",
       "</tr>\n",
       "<tr>\n",
       "  <th>AR.2</th> <td>           1.6119</td> <td>          -2.4425j</td> <td>           2.9265</td> <td>          -0.1572</td>\n",
       "</tr>\n",
       "<tr>\n",
       "  <th>AR.3</th> <td>           1.6119</td> <td>          +2.4425j</td> <td>           2.9265</td> <td>           0.1572</td>\n",
       "</tr>\n",
       "<tr>\n",
       "  <th>AR.4</th> <td>          -2.4258</td> <td>          -2.2353j</td> <td>           3.2986</td> <td>          -0.3815</td>\n",
       "</tr>\n",
       "<tr>\n",
       "  <th>AR.5</th> <td>          -2.4258</td> <td>          +2.2353j</td> <td>           3.2986</td> <td>           0.3815</td>\n",
       "</tr>\n",
       "</table>"
      ],
      "text/plain": [
       "<class 'statsmodels.iolib.summary.Summary'>\n",
       "\"\"\"\n",
       "                              ARMA Model Results                              \n",
       "==============================================================================\n",
       "Dep. Variable:           market_value   No. Observations:                 4192\n",
       "Model:                     ARMA(5, 0)   Log Likelihood              -17256.109\n",
       "Method:                       css-mle   S.D. of innovations             14.832\n",
       "Date:                Mon, 02 Mar 2020   AIC                          34526.217\n",
       "Time:                        17:09:58   BIC                          34570.604\n",
       "Sample:                    01-03-2000   HQIC                         34541.914\n",
       "                         - 01-26-2016                                         \n",
       "======================================================================================\n",
       "                         coef    std err          z      P>|z|      [0.025      0.975]\n",
       "--------------------------------------------------------------------------------------\n",
       "const               1449.5257    212.246      6.829      0.000    1033.530    1865.521\n",
       "ar.L1.market_value     0.9298      0.015     60.505      0.000       0.900       0.960\n",
       "ar.L2.market_value     0.0286      0.021      1.355      0.175      -0.013       0.070\n",
       "ar.L3.market_value     0.0233      0.021      1.102      0.270      -0.018       0.065\n",
       "ar.L4.market_value     0.0067      0.021      0.317      0.751      -0.035       0.048\n",
       "ar.L5.market_value     0.0107      0.016      0.692      0.489      -0.020       0.041\n",
       "                                    Roots                                    \n",
       "=============================================================================\n",
       "                  Real          Imaginary           Modulus         Frequency\n",
       "-----------------------------------------------------------------------------\n",
       "AR.1            1.0008           -0.0000j            1.0008           -0.0000\n",
       "AR.2            1.6119           -2.4425j            2.9265           -0.1572\n",
       "AR.3            1.6119           +2.4425j            2.9265            0.1572\n",
       "AR.4           -2.4258           -2.2353j            3.2986           -0.3815\n",
       "AR.5           -2.4258           +2.2353j            3.2986            0.3815\n",
       "-----------------------------------------------------------------------------\n",
       "\"\"\""
      ]
     },
     "execution_count": 26,
     "metadata": {},
     "output_type": "execute_result"
    }
   ],
   "source": [
    "model_ar_5 = ARMA(df.market_value, order = (5,0))\n",
    "results_ar_5 = model_ar_5.fit()\n",
    "results_ar_5.summary()"
   ]
  },
  {
   "cell_type": "code",
   "execution_count": 27,
   "metadata": {},
   "outputs": [
    {
     "data": {
      "text/html": [
       "<table class=\"simpletable\">\n",
       "<caption>ARMA Model Results</caption>\n",
       "<tr>\n",
       "  <th>Dep. Variable:</th>   <td>market_value</td>   <th>  No. Observations:  </th>    <td>4192</td>   \n",
       "</tr>\n",
       "<tr>\n",
       "  <th>Model:</th>            <td>ARMA(6, 0)</td>    <th>  Log Likelihood     </th> <td>-17255.071</td>\n",
       "</tr>\n",
       "<tr>\n",
       "  <th>Method:</th>             <td>css-mle</td>     <th>  S.D. of innovations</th>   <td>14.828</td>  \n",
       "</tr>\n",
       "<tr>\n",
       "  <th>Date:</th>          <td>Mon, 02 Mar 2020</td> <th>  AIC                </th>  <td>34526.142</td>\n",
       "</tr>\n",
       "<tr>\n",
       "  <th>Time:</th>              <td>17:11:15</td>     <th>  BIC                </th>  <td>34576.869</td>\n",
       "</tr>\n",
       "<tr>\n",
       "  <th>Sample:</th>           <td>01-03-2000</td>    <th>  HQIC               </th>  <td>34544.081</td>\n",
       "</tr>\n",
       "<tr>\n",
       "  <th></th>                 <td>- 01-26-2016</td>   <th>                     </th>      <td> </td>    \n",
       "</tr>\n",
       "</table>\n",
       "<table class=\"simpletable\">\n",
       "<tr>\n",
       "           <td></td>             <th>coef</th>     <th>std err</th>      <th>z</th>      <th>P>|z|</th>  <th>[0.025</th>    <th>0.975]</th>  \n",
       "</tr>\n",
       "<tr>\n",
       "  <th>const</th>              <td> 1478.8926</td> <td>  228.083</td> <td>    6.484</td> <td> 0.000</td> <td> 1031.859</td> <td> 1925.926</td>\n",
       "</tr>\n",
       "<tr>\n",
       "  <th>ar.L1.market_value</th> <td>    0.9295</td> <td>    0.015</td> <td>   60.605</td> <td> 0.000</td> <td>    0.899</td> <td>    0.960</td>\n",
       "</tr>\n",
       "<tr>\n",
       "  <th>ar.L2.market_value</th> <td>    0.0283</td> <td>    0.021</td> <td>    1.346</td> <td> 0.178</td> <td>   -0.013</td> <td>    0.070</td>\n",
       "</tr>\n",
       "<tr>\n",
       "  <th>ar.L3.market_value</th> <td>    0.0232</td> <td>    0.021</td> <td>    1.097</td> <td> 0.272</td> <td>   -0.018</td> <td>    0.065</td>\n",
       "</tr>\n",
       "<tr>\n",
       "  <th>ar.L4.market_value</th> <td>    0.0058</td> <td>    0.021</td> <td>    0.276</td> <td> 0.782</td> <td>   -0.036</td> <td>    0.047</td>\n",
       "</tr>\n",
       "<tr>\n",
       "  <th>ar.L5.market_value</th> <td>   -0.0100</td> <td>    0.021</td> <td>   -0.474</td> <td> 0.636</td> <td>   -0.052</td> <td>    0.031</td>\n",
       "</tr>\n",
       "<tr>\n",
       "  <th>ar.L6.market_value</th> <td>    0.0223</td> <td>    0.016</td> <td>    1.439</td> <td> 0.150</td> <td>   -0.008</td> <td>    0.053</td>\n",
       "</tr>\n",
       "</table>\n",
       "<table class=\"simpletable\">\n",
       "<caption>Roots</caption>\n",
       "<tr>\n",
       "    <td></td>   <th>            Real</th>  <th>         Imaginary</th> <th>         Modulus</th>  <th>        Frequency</th>\n",
       "</tr>\n",
       "<tr>\n",
       "  <th>AR.1</th> <td>           1.0007</td> <td>          -0.0000j</td> <td>           1.0007</td> <td>          -0.0000</td>\n",
       "</tr>\n",
       "<tr>\n",
       "  <th>AR.2</th> <td>           1.5609</td> <td>          -1.4098j</td> <td>           2.1033</td> <td>          -0.1169</td>\n",
       "</tr>\n",
       "<tr>\n",
       "  <th>AR.3</th> <td>           1.5609</td> <td>          +1.4098j</td> <td>           2.1033</td> <td>           0.1169</td>\n",
       "</tr>\n",
       "<tr>\n",
       "  <th>AR.4</th> <td>          -2.1961</td> <td>          -0.0000j</td> <td>           2.1961</td> <td>          -0.5000</td>\n",
       "</tr>\n",
       "<tr>\n",
       "  <th>AR.5</th> <td>          -0.7382</td> <td>          -2.0167j</td> <td>           2.1476</td> <td>          -0.3058</td>\n",
       "</tr>\n",
       "<tr>\n",
       "  <th>AR.6</th> <td>          -0.7382</td> <td>          +2.0167j</td> <td>           2.1476</td> <td>           0.3058</td>\n",
       "</tr>\n",
       "</table>"
      ],
      "text/plain": [
       "<class 'statsmodels.iolib.summary.Summary'>\n",
       "\"\"\"\n",
       "                              ARMA Model Results                              \n",
       "==============================================================================\n",
       "Dep. Variable:           market_value   No. Observations:                 4192\n",
       "Model:                     ARMA(6, 0)   Log Likelihood              -17255.071\n",
       "Method:                       css-mle   S.D. of innovations             14.828\n",
       "Date:                Mon, 02 Mar 2020   AIC                          34526.142\n",
       "Time:                        17:11:15   BIC                          34576.869\n",
       "Sample:                    01-03-2000   HQIC                         34544.081\n",
       "                         - 01-26-2016                                         \n",
       "======================================================================================\n",
       "                         coef    std err          z      P>|z|      [0.025      0.975]\n",
       "--------------------------------------------------------------------------------------\n",
       "const               1478.8926    228.083      6.484      0.000    1031.859    1925.926\n",
       "ar.L1.market_value     0.9295      0.015     60.605      0.000       0.899       0.960\n",
       "ar.L2.market_value     0.0283      0.021      1.346      0.178      -0.013       0.070\n",
       "ar.L3.market_value     0.0232      0.021      1.097      0.272      -0.018       0.065\n",
       "ar.L4.market_value     0.0058      0.021      0.276      0.782      -0.036       0.047\n",
       "ar.L5.market_value    -0.0100      0.021     -0.474      0.636      -0.052       0.031\n",
       "ar.L6.market_value     0.0223      0.016      1.439      0.150      -0.008       0.053\n",
       "                                    Roots                                    \n",
       "=============================================================================\n",
       "                  Real          Imaginary           Modulus         Frequency\n",
       "-----------------------------------------------------------------------------\n",
       "AR.1            1.0007           -0.0000j            1.0007           -0.0000\n",
       "AR.2            1.5609           -1.4098j            2.1033           -0.1169\n",
       "AR.3            1.5609           +1.4098j            2.1033            0.1169\n",
       "AR.4           -2.1961           -0.0000j            2.1961           -0.5000\n",
       "AR.5           -0.7382           -2.0167j            2.1476           -0.3058\n",
       "AR.6           -0.7382           +2.0167j            2.1476            0.3058\n",
       "-----------------------------------------------------------------------------\n",
       "\"\"\""
      ]
     },
     "execution_count": 27,
     "metadata": {},
     "output_type": "execute_result"
    }
   ],
   "source": [
    "model_ar_6 = ARMA(df.market_value, order = (6,0))\n",
    "results_ar_6 = model_ar_6.fit()\n",
    "results_ar_6.summary()"
   ]
  },
  {
   "cell_type": "code",
   "execution_count": 28,
   "metadata": {},
   "outputs": [
    {
     "data": {
      "text/html": [
       "<table class=\"simpletable\">\n",
       "<caption>ARMA Model Results</caption>\n",
       "<tr>\n",
       "  <th>Dep. Variable:</th>   <td>market_value</td>   <th>  No. Observations:  </th>    <td>4192</td>   \n",
       "</tr>\n",
       "<tr>\n",
       "  <th>Model:</th>            <td>ARMA(7, 0)</td>    <th>  Log Likelihood     </th> <td>-17254.786</td>\n",
       "</tr>\n",
       "<tr>\n",
       "  <th>Method:</th>             <td>css-mle</td>     <th>  S.D. of innovations</th>   <td>14.827</td>  \n",
       "</tr>\n",
       "<tr>\n",
       "  <th>Date:</th>          <td>Mon, 02 Mar 2020</td> <th>  AIC                </th>  <td>34527.573</td>\n",
       "</tr>\n",
       "<tr>\n",
       "  <th>Time:</th>              <td>17:11:56</td>     <th>  BIC                </th>  <td>34584.641</td>\n",
       "</tr>\n",
       "<tr>\n",
       "  <th>Sample:</th>           <td>01-03-2000</td>    <th>  HQIC               </th>  <td>34547.754</td>\n",
       "</tr>\n",
       "<tr>\n",
       "  <th></th>                 <td>- 01-26-2016</td>   <th>                     </th>      <td> </td>    \n",
       "</tr>\n",
       "</table>\n",
       "<table class=\"simpletable\">\n",
       "<tr>\n",
       "           <td></td>             <th>coef</th>     <th>std err</th>      <th>z</th>      <th>P>|z|</th>  <th>[0.025</th>    <th>0.975]</th>  \n",
       "</tr>\n",
       "<tr>\n",
       "  <th>const</th>              <td> 1467.0842</td> <td>  223.615</td> <td>    6.561</td> <td> 0.000</td> <td> 1028.807</td> <td> 1905.362</td>\n",
       "</tr>\n",
       "<tr>\n",
       "  <th>ar.L1.market_value</th> <td>    0.9292</td> <td>    0.015</td> <td>   60.576</td> <td> 0.000</td> <td>    0.899</td> <td>    0.959</td>\n",
       "</tr>\n",
       "<tr>\n",
       "  <th>ar.L2.market_value</th> <td>    0.0285</td> <td>    0.021</td> <td>    1.353</td> <td> 0.176</td> <td>   -0.013</td> <td>    0.070</td>\n",
       "</tr>\n",
       "<tr>\n",
       "  <th>ar.L3.market_value</th> <td>    0.0232</td> <td>    0.021</td> <td>    1.094</td> <td> 0.274</td> <td>   -0.018</td> <td>    0.065</td>\n",
       "</tr>\n",
       "<tr>\n",
       "  <th>ar.L4.market_value</th> <td>    0.0056</td> <td>    0.021</td> <td>    0.263</td> <td> 0.793</td> <td>   -0.036</td> <td>    0.047</td>\n",
       "</tr>\n",
       "<tr>\n",
       "  <th>ar.L5.market_value</th> <td>   -0.0104</td> <td>    0.021</td> <td>   -0.489</td> <td> 0.625</td> <td>   -0.052</td> <td>    0.031</td>\n",
       "</tr>\n",
       "<tr>\n",
       "  <th>ar.L6.market_value</th> <td>    0.0114</td> <td>    0.021</td> <td>    0.539</td> <td> 0.590</td> <td>   -0.030</td> <td>    0.053</td>\n",
       "</tr>\n",
       "<tr>\n",
       "  <th>ar.L7.market_value</th> <td>    0.0117</td> <td>    0.016</td> <td>    0.754</td> <td> 0.451</td> <td>   -0.019</td> <td>    0.042</td>\n",
       "</tr>\n",
       "</table>\n",
       "<table class=\"simpletable\">\n",
       "<caption>Roots</caption>\n",
       "<tr>\n",
       "    <td></td>   <th>            Real</th>  <th>         Imaginary</th> <th>         Modulus</th>  <th>        Frequency</th>\n",
       "</tr>\n",
       "<tr>\n",
       "  <th>AR.1</th> <td>           1.0007</td> <td>          -0.0000j</td> <td>           1.0007</td> <td>          -0.0000</td>\n",
       "</tr>\n",
       "<tr>\n",
       "  <th>AR.2</th> <td>           1.5106</td> <td>          -1.1447j</td> <td>           1.8953</td> <td>          -0.1032</td>\n",
       "</tr>\n",
       "<tr>\n",
       "  <th>AR.3</th> <td>           1.5106</td> <td>          +1.1447j</td> <td>           1.8953</td> <td>           0.1032</td>\n",
       "</tr>\n",
       "<tr>\n",
       "  <th>AR.4</th> <td>          -0.3096</td> <td>          -2.0107j</td> <td>           2.0344</td> <td>          -0.2743</td>\n",
       "</tr>\n",
       "<tr>\n",
       "  <th>AR.5</th> <td>          -0.3096</td> <td>          +2.0107j</td> <td>           2.0344</td> <td>           0.2743</td>\n",
       "</tr>\n",
       "<tr>\n",
       "  <th>AR.6</th> <td>          -2.1894</td> <td>          -0.9780j</td> <td>           2.3979</td> <td>          -0.4331</td>\n",
       "</tr>\n",
       "<tr>\n",
       "  <th>AR.7</th> <td>          -2.1894</td> <td>          +0.9780j</td> <td>           2.3979</td> <td>           0.4331</td>\n",
       "</tr>\n",
       "</table>"
      ],
      "text/plain": [
       "<class 'statsmodels.iolib.summary.Summary'>\n",
       "\"\"\"\n",
       "                              ARMA Model Results                              \n",
       "==============================================================================\n",
       "Dep. Variable:           market_value   No. Observations:                 4192\n",
       "Model:                     ARMA(7, 0)   Log Likelihood              -17254.786\n",
       "Method:                       css-mle   S.D. of innovations             14.827\n",
       "Date:                Mon, 02 Mar 2020   AIC                          34527.573\n",
       "Time:                        17:11:56   BIC                          34584.641\n",
       "Sample:                    01-03-2000   HQIC                         34547.754\n",
       "                         - 01-26-2016                                         \n",
       "======================================================================================\n",
       "                         coef    std err          z      P>|z|      [0.025      0.975]\n",
       "--------------------------------------------------------------------------------------\n",
       "const               1467.0842    223.615      6.561      0.000    1028.807    1905.362\n",
       "ar.L1.market_value     0.9292      0.015     60.576      0.000       0.899       0.959\n",
       "ar.L2.market_value     0.0285      0.021      1.353      0.176      -0.013       0.070\n",
       "ar.L3.market_value     0.0232      0.021      1.094      0.274      -0.018       0.065\n",
       "ar.L4.market_value     0.0056      0.021      0.263      0.793      -0.036       0.047\n",
       "ar.L5.market_value    -0.0104      0.021     -0.489      0.625      -0.052       0.031\n",
       "ar.L6.market_value     0.0114      0.021      0.539      0.590      -0.030       0.053\n",
       "ar.L7.market_value     0.0117      0.016      0.754      0.451      -0.019       0.042\n",
       "                                    Roots                                    \n",
       "=============================================================================\n",
       "                  Real          Imaginary           Modulus         Frequency\n",
       "-----------------------------------------------------------------------------\n",
       "AR.1            1.0007           -0.0000j            1.0007           -0.0000\n",
       "AR.2            1.5106           -1.1447j            1.8953           -0.1032\n",
       "AR.3            1.5106           +1.1447j            1.8953            0.1032\n",
       "AR.4           -0.3096           -2.0107j            2.0344           -0.2743\n",
       "AR.5           -0.3096           +2.0107j            2.0344            0.2743\n",
       "AR.6           -2.1894           -0.9780j            2.3979           -0.4331\n",
       "AR.7           -2.1894           +0.9780j            2.3979            0.4331\n",
       "-----------------------------------------------------------------------------\n",
       "\"\"\""
      ]
     },
     "execution_count": 28,
     "metadata": {},
     "output_type": "execute_result"
    }
   ],
   "source": [
    "model_ar_7 = ARMA(df.market_value, order = (7,0))\n",
    "results_ar_7 = model_ar_7.fit()\n",
    "results_ar_7.summary()"
   ]
  },
  {
   "cell_type": "markdown",
   "metadata": {},
   "source": [
    "LLR TEST"
   ]
  },
  {
   "cell_type": "code",
   "execution_count": 12,
   "metadata": {},
   "outputs": [],
   "source": [
    "def LLR_test(mod_1, mod_2, DF=1):\n",
    "    L1 = mod_1.llf\n",
    "    L2 = mod_2.llf\n",
    "    LR = (2*(L2-L1))\n",
    "    p = chi2.sf(LR, DF).round(3)\n",
    "    return p"
   ]
  },
  {
   "cell_type": "code",
   "execution_count": 16,
   "metadata": {},
   "outputs": [
    {
     "name": "stdout",
     "output_type": "stream",
     "text": [
      "                              ARMA Model Results                              \n",
      "==============================================================================\n",
      "Dep. Variable:           market_value   No. Observations:                 4192\n",
      "Model:                     ARMA(8, 0)   Log Likelihood              -17252.194\n",
      "Method:                       css-mle   S.D. of innovations             14.818\n",
      "Date:                Mon, 02 Mar 2020   AIC                          34524.387\n",
      "Time:                        15:15:56   BIC                          34587.796\n",
      "Sample:                    01-03-2000   HQIC                         34546.811\n",
      "                         - 01-26-2016                                         \n",
      "======================================================================================\n",
      "                         coef    std err          z      P>|z|      [0.025      0.975]\n",
      "--------------------------------------------------------------------------------------\n",
      "const               1487.4797    235.339      6.321      0.000    1026.224    1948.735\n",
      "ar.L1.market_value     0.9288      0.015     60.692      0.000       0.899       0.959\n",
      "ar.L2.market_value     0.0281      0.021      1.335      0.182      -0.013       0.069\n",
      "ar.L3.market_value     0.0236      0.021      1.117      0.264      -0.018       0.065\n",
      "ar.L4.market_value     0.0054      0.021      0.254      0.800      -0.036       0.047\n",
      "ar.L5.market_value    -0.0112      0.021     -0.529      0.597      -0.053       0.030\n",
      "ar.L6.market_value     0.0104      0.021      0.492      0.623      -0.031       0.052\n",
      "ar.L7.market_value    -0.0212      0.021     -0.999      0.318      -0.063       0.020\n",
      "ar.L8.market_value     0.0353      0.015      2.278      0.023       0.005       0.066\n",
      "                                    Roots                                    \n",
      "=============================================================================\n",
      "                  Real          Imaginary           Modulus         Frequency\n",
      "-----------------------------------------------------------------------------\n",
      "AR.1            1.0006           -0.0000j            1.0006           -0.0000\n",
      "AR.2            1.3546           -0.7815j            1.5639           -0.0833\n",
      "AR.3            1.3546           +0.7815j            1.5639            0.0833\n",
      "AR.4           -1.6096           -0.0000j            1.6096           -0.5000\n",
      "AR.5           -1.0202           -1.2839j            1.6399           -0.3569\n",
      "AR.6           -1.0202           +1.2839j            1.6399            0.3569\n",
      "AR.7            0.2697           -1.6128j            1.6352           -0.2236\n",
      "AR.8            0.2697           +1.6128j            1.6352            0.2236\n",
      "-----------------------------------------------------------------------------\n",
      "\n",
      "LLR test p-value = 0.023\n"
     ]
    }
   ],
   "source": [
    "model_ar_8 = ARMA(df.market_value, order = (8,0))\n",
    "results_ar_8 = model_ar_8.fit()\n",
    "print(results_ar_8.summary())\n",
    "print(\"\\nLLR test p-value = \" + str(LLR_test(results_ar_7, results_ar_8)))"
   ]
  },
  {
   "cell_type": "code",
   "execution_count": 17,
   "metadata": {},
   "outputs": [
    {
     "name": "stdout",
     "output_type": "stream",
     "text": [
      "                              ARMA Model Results                              \n",
      "==============================================================================\n",
      "Dep. Variable:           market_value   No. Observations:                 4192\n",
      "Model:                     ARMA(9, 0)   Log Likelihood              -17251.599\n",
      "Method:                       css-mle   S.D. of innovations             14.815\n",
      "Date:                Mon, 02 Mar 2020   AIC                          34525.198\n",
      "Time:                        15:16:02   BIC                          34594.948\n",
      "Sample:                    01-03-2000   HQIC                         34549.863\n",
      "                         - 01-26-2016                                         \n",
      "======================================================================================\n",
      "                         coef    std err          z      P>|z|      [0.025      0.975]\n",
      "--------------------------------------------------------------------------------------\n",
      "const               1469.7738    227.731      6.454      0.000    1023.429    1916.119\n",
      "ar.L1.market_value     0.9294      0.015     60.658      0.000       0.899       0.959\n",
      "ar.L2.market_value     0.0278      0.021      1.320      0.187      -0.013       0.069\n",
      "ar.L3.market_value     0.0238      0.021      1.126      0.260      -0.018       0.065\n",
      "ar.L4.market_value     0.0051      0.021      0.243      0.808      -0.036       0.047\n",
      "ar.L5.market_value    -0.0111      0.021     -0.525      0.599      -0.053       0.030\n",
      "ar.L6.market_value     0.0108      0.021      0.509      0.611      -0.031       0.052\n",
      "ar.L7.market_value    -0.0207      0.021     -0.976      0.329      -0.062       0.021\n",
      "ar.L8.market_value     0.0511      0.021      2.411      0.016       0.010       0.093\n",
      "ar.L9.market_value    -0.0169      0.016     -1.092      0.275      -0.047       0.013\n",
      "                                    Roots                                    \n",
      "=============================================================================\n",
      "                  Real          Imaginary           Modulus         Frequency\n",
      "-----------------------------------------------------------------------------\n",
      "AR.1            1.0007           -0.0000j            1.0007           -0.0000\n",
      "AR.2           -1.4888           -0.0000j            1.4888           -0.5000\n",
      "AR.3           -1.0143           -1.1397j            1.5256           -0.3657\n",
      "AR.4           -1.0143           +1.1397j            1.5256            0.3657\n",
      "AR.5            0.1172           -1.5550j            1.5594           -0.2380\n",
      "AR.6            0.1172           +1.5550j            1.5594            0.2380\n",
      "AR.7            1.3148           -0.9467j            1.6201           -0.0993\n",
      "AR.8            1.3148           +0.9467j            1.6201            0.0993\n",
      "AR.9            2.6661           -0.0000j            2.6661           -0.0000\n",
      "-----------------------------------------------------------------------------\n",
      "\n",
      "LLR test p-value = 0.275\n"
     ]
    }
   ],
   "source": [
    "model_ar_9 = ARMA(df.market_value, order = (9,0))\n",
    "results_ar_9 = model_ar_9.fit()\n",
    "print(results_ar_9.summary())\n",
    "print(\"\\nLLR test p-value = \" + str(LLR_test(results_ar_8, results_ar_9)))"
   ]
  },
  {
   "cell_type": "code",
   "execution_count": 18,
   "metadata": {},
   "outputs": [
    {
     "name": "stdout",
     "output_type": "stream",
     "text": [
      "LLR test: 0.0\n"
     ]
    }
   ],
   "source": [
    "print (\"LLR test: \" + str(LLR_test(results_ar, results_ar_8, DF =7)))"
   ]
  },
  {
   "cell_type": "markdown",
   "metadata": {},
   "source": [
    "Analysing the Residuals"
   ]
  },
  {
   "cell_type": "code",
   "execution_count": 19,
   "metadata": {
    "scrolled": false
   },
   "outputs": [],
   "source": [
    "df['res_price'] = results_ar_8.resid"
   ]
  },
  {
   "cell_type": "code",
   "execution_count": 20,
   "metadata": {},
   "outputs": [
    {
     "data": {
      "text/plain": [
       "0.002934245998492769"
      ]
     },
     "execution_count": 20,
     "metadata": {},
     "output_type": "execute_result"
    }
   ],
   "source": [
    "df.res_price.mean()"
   ]
  },
  {
   "cell_type": "code",
   "execution_count": 21,
   "metadata": {},
   "outputs": [
    {
     "data": {
      "text/plain": [
       "219.86795305028454"
      ]
     },
     "execution_count": 21,
     "metadata": {},
     "output_type": "execute_result"
    }
   ],
   "source": [
    "df.res_price.var()"
   ]
  },
  {
   "cell_type": "code",
   "execution_count": 22,
   "metadata": {},
   "outputs": [
    {
     "data": {
      "text/plain": [
       "(-64.54550864914931,\n",
       " 0.0,\n",
       " 0,\n",
       " 4191,\n",
       " {'1%': -3.4319112764905055,\n",
       "  '5%': -2.8622298860748465,\n",
       "  '10%': -2.5671372322228025},\n",
       " 34212.8699483783)"
      ]
     },
     "execution_count": 22,
     "metadata": {},
     "output_type": "execute_result"
    }
   ],
   "source": [
    "sts.adfuller(df.res_price)"
   ]
  },
  {
   "cell_type": "code",
   "execution_count": 23,
   "metadata": {},
   "outputs": [
    {
     "data": {
      "image/png": "[encoded data removed]",
      "text/plain": [
       "<Figure size 432x288 with 1 Axes>"
      ]
     },
     "metadata": {
      "needs_background": "light"
     },
     "output_type": "display_data"
    }
   ],
   "source": [
    "sgt.plot_acf(df.res_price, zero = False, lags = 40)\n",
    "plt.title(\"ACF Of Residuals for Prices\",size=24)\n",
    "plt.show()"
   ]
  },
  {
   "cell_type": "code",
   "execution_count": 24,
   "metadata": {},
   "outputs": [
    {
     "data": {
      "image/png": "[encoded data removed]",
      "text/plain": [
       "<Figure size 1440x360 with 1 Axes>"
      ]
     },
     "metadata": {
      "needs_background": "light"
     },
     "output_type": "display_data"
    }
   ],
   "source": [
    "df.res_price[1:].plot(figsize=(20,5))\n",
    "plt.title(\"Residuals of Prices\",size=24)\n",
    "plt.show()"
   ]
  },
  {
   "cell_type": "code",
   "execution_count": null,
   "metadata": {},
   "outputs": [],
   "source": []
  }
 ],
 "metadata": {
  "kernelspec": {
   "display_name": "Python 3",
   "language": "python",
   "name": "python3"
  },
  "language_info": {
   "codemirror_mode": {
    "name": "ipython",
    "version": 3
   },
   "file_extension": ".py",
   "mimetype": "text/x-python",
   "name": "python",
   "nbconvert_exporter": "python",
   "pygments_lexer": "ipython3",
   "version": "3.7.3"
  }
 },
 "nbformat": 4,
 "nbformat_minor": 2
}

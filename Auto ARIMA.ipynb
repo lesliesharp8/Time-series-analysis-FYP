{
 "cells": [
  {
   "cell_type": "markdown",
   "metadata": {},
   "source": [
    "Import Packages"
   ]
  },
  {
   "cell_type": "code",
   "execution_count": 1,
   "metadata": {},
   "outputs": [],
   "source": [
    "import numpy as np\n",
    "import pandas as pd\n",
    "import scipy\n",
    "import statsmodels.api as sm\n",
    "import matplotlib.pyplot as plt\n",
    "import seaborn as sns\n",
    "import sklearn\n",
    "from statsmodels.tsa.arima_model import ARIMA\n",
    "from arch import arch_model\n",
    "import seaborn as sns\n",
    "import yfinance\n",
    "import warnings\n",
    "warnings.filterwarnings(\"ignore\")\n",
    "sns.set()\n",
    "from pmdarima.arima import auto_arima"
   ]
  },
  {
   "cell_type": "markdown",
   "metadata": {},
   "source": [
    "Loading the data"
   ]
  },
  {
   "cell_type": "code",
   "execution_count": 2,
   "metadata": {},
   "outputs": [
    {
     "name": "stdout",
     "output_type": "stream",
     "text": [
      "[*********************100%***********************]  4 of 4 downloaded\n"
     ]
    }
   ],
   "source": [
    "raw_data = yfinance.download (tickers = \"^GSPC ^FTSE ^N225 ^GDAXI\", start = \"2000-01-03\", end = \"2020-01-31\", \n",
    "                              interval = \"1d\", group_by = 'ticker', auto_adjust = True, treads = True)"
   ]
  },
  {
   "cell_type": "code",
   "execution_count": 3,
   "metadata": {},
   "outputs": [],
   "source": [
    "df_com = raw_data.copy()\n",
    "df_com['spx'] = df_com['^GSPC'].Close[:]\n",
    "df_com['dax'] = df_com['^GDAXI'].Close[:]\n",
    "df_com['ftse'] = df_com['^FTSE'].Close[:]\n",
    "df_com['nikkei'] = df_com['^N225'].Close[:]"
   ]
  },
  {
   "cell_type": "code",
   "execution_count": 4,
   "metadata": {},
   "outputs": [],
   "source": [
    "df_com = df_com.iloc[1:]\n",
    "del df_com['^N225']\n",
    "del df_com['^GSPC']\n",
    "del df_com['^GDAXI']\n",
    "del df_com['^FTSE']\n",
    "df_com=df_com.asfreq('b')\n",
    "df_com=df_com.fillna(method='ffill')"
   ]
  },
  {
   "cell_type": "code",
   "execution_count": 5,
   "metadata": {},
   "outputs": [],
   "source": [
    "df_com['ret_spx'] = df_com.spx.pct_change(1)*100\n",
    "df_com['ret_ftse'] = df_com.ftse.pct_change(1)*100\n",
    "df_com['ret_dax'] = df_com.dax.pct_change(1)*100\n",
    "df_com['ret_nikkei'] = df_com.nikkei.pct_change(1)*100"
   ]
  },
  {
   "cell_type": "code",
   "execution_count": 6,
   "metadata": {},
   "outputs": [],
   "source": [
    "size = int(len(df_com)*0.8)\n",
    "df, df_test = df_com.iloc[:size], df_com.iloc[size:]"
   ]
  },
  {
   "cell_type": "markdown",
   "metadata": {},
   "source": [
    "Auto ARIMA"
   ]
  },
  {
   "cell_type": "code",
   "execution_count": 11,
   "metadata": {},
   "outputs": [],
   "source": [
    "model_auto = auto_arima(df_com.ret_spx[1:], exogenous = df_com[['ret_ftse', 'ret_dax', 'ret_nikkei']][1:], m = 5,\n",
    "                       max_order = None, max_p = 7, max_q = 7, max_d = 2, max_P = 4, max_Q = 4, max_D = 2,\n",
    "                       maxiter = 50, alpha = 0.05, n_jobs = -1, trend = 'ct', information_criterion = 'oob',\n",
    "                       out_of_sample = int(len(df_com)*0.2))\n",
    "\n",
    "\n",
    "# !!! Important Note: In pdmarima v1.5.2, out_of_sample_size is replaced with out_of_sample, so make sure to use the latter!\n",
    "\n",
    "\n",
    "# exogenous -> outside factors (e.g other time series)\n",
    "# m -> seasonal cycle length\n",
    "# max_order -> maximum amount of variables to be used in the regression (p + q)\n",
    "# max_p -> maximum AR components\n",
    "# max_q -> maximum MA components\n",
    "# max_d -> maximum Integrations\n",
    "# maxiter -> maximum iterations we're giving the model to converge the coefficients (becomes harder as the order increases)\n",
    "# alpha -> level of significance, default is 5%, which we should be using most of the time\n",
    "# n_jobs -> how many models to fit at a time (-1 indicates \"as many as possible\")\n",
    "# trend -> \"ct\" usually\n",
    "# information_criterion -> 'aic', 'aicc', 'bic', 'hqic', 'oob' \n",
    "#        (Akaike Information Criterion, Corrected Akaike Information Criterion,\n",
    "#        Bayesian Information Criterion, Hannan-Quinn Information Criterion, or\n",
    "#        \"out of bag\"--for validation scoring--respectively)\n",
    "# out_of_smaple -> validates the model selection (pass the entire dataset, and set 20% to be the out_of_sample_size)"
   ]
  },
  {
   "cell_type": "code",
   "execution_count": 12,
   "metadata": {},
   "outputs": [
    {
     "data": {
      "text/html": [
       "<table class=\"simpletable\">\n",
       "<caption>SARIMAX Results</caption>\n",
       "<tr>\n",
       "  <th>Dep. Variable:</th>                  <td>y</td>                <th>  No. Observations:  </th>   <td>5238</td>   \n",
       "</tr>\n",
       "<tr>\n",
       "  <th>Model:</th>           <td>SARIMAX(2, 0, 2)x(1, 0, [1], 5)</td> <th>  Log Likelihood     </th> <td>-6809.091</td>\n",
       "</tr>\n",
       "<tr>\n",
       "  <th>Date:</th>                   <td>Tue, 03 Mar 2020</td>         <th>  AIC                </th> <td>13642.182</td>\n",
       "</tr>\n",
       "<tr>\n",
       "  <th>Time:</th>                       <td>01:18:54</td>             <th>  BIC                </th> <td>13720.947</td>\n",
       "</tr>\n",
       "<tr>\n",
       "  <th>Sample:</th>                    <td>01-05-2000</td>            <th>  HQIC               </th> <td>13669.723</td>\n",
       "</tr>\n",
       "<tr>\n",
       "  <th></th>                          <td>- 01-31-2020</td>           <th>                     </th>     <td> </td>    \n",
       "</tr>\n",
       "<tr>\n",
       "  <th>Covariance Type:</th>               <td>opg</td>               <th>                     </th>     <td> </td>    \n",
       "</tr>\n",
       "</table>\n",
       "<table class=\"simpletable\">\n",
       "<tr>\n",
       "       <td></td>         <th>coef</th>     <th>std err</th>      <th>z</th>      <th>P>|z|</th>  <th>[0.025</th>    <th>0.975]</th>  \n",
       "</tr>\n",
       "<tr>\n",
       "  <th>intercept</th>  <td>   -0.0218</td> <td>    0.126</td> <td>   -0.173</td> <td> 0.862</td> <td>   -0.268</td> <td>    0.224</td>\n",
       "</tr>\n",
       "<tr>\n",
       "  <th>drift</th>      <td>  4.98e-06</td> <td> 2.89e-05</td> <td>    0.172</td> <td> 0.863</td> <td>-5.16e-05</td> <td> 6.16e-05</td>\n",
       "</tr>\n",
       "<tr>\n",
       "  <th>ret_ftse</th>   <td>    0.1557</td> <td>    0.012</td> <td>   13.447</td> <td> 0.000</td> <td>    0.133</td> <td>    0.178</td>\n",
       "</tr>\n",
       "<tr>\n",
       "  <th>ret_dax</th>    <td>    0.3903</td> <td>    0.009</td> <td>   44.456</td> <td> 0.000</td> <td>    0.373</td> <td>    0.407</td>\n",
       "</tr>\n",
       "<tr>\n",
       "  <th>ret_nikkei</th> <td>   -0.0320</td> <td>    0.006</td> <td>   -5.194</td> <td> 0.000</td> <td>   -0.044</td> <td>   -0.020</td>\n",
       "</tr>\n",
       "<tr>\n",
       "  <th>ar.L1</th>      <td>    0.4305</td> <td>    3.762</td> <td>    0.114</td> <td> 0.909</td> <td>   -6.942</td> <td>    7.804</td>\n",
       "</tr>\n",
       "<tr>\n",
       "  <th>ar.L2</th>      <td>   -0.0216</td> <td>    0.305</td> <td>   -0.071</td> <td> 0.944</td> <td>   -0.620</td> <td>    0.577</td>\n",
       "</tr>\n",
       "<tr>\n",
       "  <th>ma.L1</th>      <td>   -0.7494</td> <td>    3.762</td> <td>   -0.199</td> <td> 0.842</td> <td>   -8.122</td> <td>    6.624</td>\n",
       "</tr>\n",
       "<tr>\n",
       "  <th>ma.L2</th>      <td>    0.1347</td> <td>    1.502</td> <td>    0.090</td> <td> 0.929</td> <td>   -2.810</td> <td>    3.080</td>\n",
       "</tr>\n",
       "<tr>\n",
       "  <th>ar.S.L5</th>    <td>   -0.0032</td> <td>    0.400</td> <td>   -0.008</td> <td> 0.994</td> <td>   -0.787</td> <td>    0.780</td>\n",
       "</tr>\n",
       "<tr>\n",
       "  <th>ma.S.L5</th>    <td>   -0.0180</td> <td>    0.400</td> <td>   -0.045</td> <td> 0.964</td> <td>   -0.802</td> <td>    0.766</td>\n",
       "</tr>\n",
       "<tr>\n",
       "  <th>sigma2</th>     <td>    0.7873</td> <td>    0.008</td> <td>   97.298</td> <td> 0.000</td> <td>    0.771</td> <td>    0.803</td>\n",
       "</tr>\n",
       "</table>\n",
       "<table class=\"simpletable\">\n",
       "<tr>\n",
       "  <th>Ljung-Box (Q):</th>          <td>91.27</td> <th>  Jarque-Bera (JB):  </th> <td>10326.61</td>\n",
       "</tr>\n",
       "<tr>\n",
       "  <th>Prob(Q):</th>                <td>0.00</td>  <th>  Prob(JB):          </th>   <td>0.00</td>  \n",
       "</tr>\n",
       "<tr>\n",
       "  <th>Heteroskedasticity (H):</th> <td>0.55</td>  <th>  Skew:              </th>   <td>-0.24</td> \n",
       "</tr>\n",
       "<tr>\n",
       "  <th>Prob(H) (two-sided):</th>    <td>0.00</td>  <th>  Kurtosis:          </th>   <td>9.86</td>  \n",
       "</tr>\n",
       "</table><br/><br/>Warnings:<br/>[1] Covariance matrix calculated using the outer product of gradients (complex-step)."
      ],
      "text/plain": [
       "<class 'statsmodels.iolib.summary.Summary'>\n",
       "\"\"\"\n",
       "                                      SARIMAX Results                                      \n",
       "===========================================================================================\n",
       "Dep. Variable:                                   y   No. Observations:                 5238\n",
       "Model:             SARIMAX(2, 0, 2)x(1, 0, [1], 5)   Log Likelihood               -6809.091\n",
       "Date:                             Tue, 03 Mar 2020   AIC                          13642.182\n",
       "Time:                                     01:18:54   BIC                          13720.947\n",
       "Sample:                                 01-05-2000   HQIC                         13669.723\n",
       "                                      - 01-31-2020                                         \n",
       "Covariance Type:                               opg                                         \n",
       "==============================================================================\n",
       "                 coef    std err          z      P>|z|      [0.025      0.975]\n",
       "------------------------------------------------------------------------------\n",
       "intercept     -0.0218      0.126     -0.173      0.862      -0.268       0.224\n",
       "drift        4.98e-06   2.89e-05      0.172      0.863   -5.16e-05    6.16e-05\n",
       "ret_ftse       0.1557      0.012     13.447      0.000       0.133       0.178\n",
       "ret_dax        0.3903      0.009     44.456      0.000       0.373       0.407\n",
       "ret_nikkei    -0.0320      0.006     -5.194      0.000      -0.044      -0.020\n",
       "ar.L1          0.4305      3.762      0.114      0.909      -6.942       7.804\n",
       "ar.L2         -0.0216      0.305     -0.071      0.944      -0.620       0.577\n",
       "ma.L1         -0.7494      3.762     -0.199      0.842      -8.122       6.624\n",
       "ma.L2          0.1347      1.502      0.090      0.929      -2.810       3.080\n",
       "ar.S.L5       -0.0032      0.400     -0.008      0.994      -0.787       0.780\n",
       "ma.S.L5       -0.0180      0.400     -0.045      0.964      -0.802       0.766\n",
       "sigma2         0.7873      0.008     97.298      0.000       0.771       0.803\n",
       "===================================================================================\n",
       "Ljung-Box (Q):                       91.27   Jarque-Bera (JB):             10326.61\n",
       "Prob(Q):                              0.00   Prob(JB):                         0.00\n",
       "Heteroskedasticity (H):               0.55   Skew:                            -0.24\n",
       "Prob(H) (two-sided):                  0.00   Kurtosis:                         9.86\n",
       "===================================================================================\n",
       "\n",
       "Warnings:\n",
       "[1] Covariance matrix calculated using the outer product of gradients (complex-step).\n",
       "\"\"\""
      ]
     },
     "execution_count": 12,
     "metadata": {},
     "output_type": "execute_result"
    }
   ],
   "source": [
    "model_auto.summary()"
   ]
  }
 ],
 "metadata": {
  "kernelspec": {
   "display_name": "Python 3",
   "language": "python",
   "name": "python3"
  },
  "language_info": {
   "codemirror_mode": {
    "name": "ipython",
    "version": 3
   },
   "file_extension": ".py",
   "mimetype": "text/x-python",
   "name": "python",
   "nbconvert_exporter": "python",
   "pygments_lexer": "ipython3",
   "version": "3.7.3"
  }
 },
 "nbformat": 4,
 "nbformat_minor": 2
}

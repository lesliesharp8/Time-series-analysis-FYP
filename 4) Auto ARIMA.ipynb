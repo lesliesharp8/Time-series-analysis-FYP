{
 "cells": [
  {
   "cell_type": "markdown",
   "metadata": {},
   "source": [
    "Import Packages"
   ]
  },
  {
   "cell_type": "code",
   "execution_count": 14,
   "metadata": {},
   "outputs": [],
   "source": [
    "import seaborn as sns\n",
    "import yfinance\n",
    "import warnings\n",
    "warnings.filterwarnings(\"ignore\")\n",
    "sns.set()\n",
    "from pmdarima.arima import auto_arima\n",
    "import statsmodels.graphics.tsaplots as sgt\n",
    "import matplotlib.pyplot as plt"
   ]
  },
  {
   "cell_type": "markdown",
   "metadata": {},
   "source": [
    "Loading the data"
   ]
  },
  {
   "cell_type": "code",
   "execution_count": 2,
   "metadata": {},
   "outputs": [
    {
     "name": "stdout",
     "output_type": "stream",
     "text": [
      "[*********************100%***********************]  4 of 4 downloaded\n"
     ]
    }
   ],
   "source": [
    "data = yfinance.download (tickers = \"^GSPC ^FTSE ^N225 ^GDAXI\", start = \"2000-01-03\", end = \"2020-03-10\", \n",
    "                              interval = \"1d\", group_by = 'ticker', auto_adjust = True, treads = True)"
   ]
  },
  {
   "cell_type": "code",
   "execution_count": 3,
   "metadata": {},
   "outputs": [],
   "source": [
    "dataframe = data.copy()\n",
    "dataframe['spx'] = dataframe['^GSPC'].Close[:]\n",
    "dataframe['dax'] = dataframe['^GDAXI'].Close[:]\n",
    "dataframe['ftse'] = dataframe['^FTSE'].Close[:]\n",
    "dataframe['nikkei'] = dataframe['^N225'].Close[:]"
   ]
  },
  {
   "cell_type": "code",
   "execution_count": 4,
   "metadata": {},
   "outputs": [],
   "source": [
    "dataframe = dataframe.iloc[1:]\n",
    "del dataframe['^N225']\n",
    "del dataframe['^GSPC']\n",
    "del dataframe['^GDAXI']\n",
    "del dataframe['^FTSE']\n",
    "dataframe = dataframe.asfreq('b')\n",
    "dataframe = dataframe.fillna(method='ffill')"
   ]
  },
  {
   "cell_type": "code",
   "execution_count": 5,
   "metadata": {},
   "outputs": [],
   "source": [
    "dataframe['ret_spx'] = dataframe.spx.pct_change(1)*100\n",
    "dataframe['ret_ftse'] = dataframe.ftse.pct_change(1)*100\n",
    "dataframe['ret_dax'] = dataframe.dax.pct_change(1)*100\n",
    "dataframe['ret_nikkei'] = dataframe.nikkei.pct_change(1)*100"
   ]
  },
  {
   "cell_type": "code",
   "execution_count": 6,
   "metadata": {},
   "outputs": [],
   "source": [
    "size = int(len(dataframe)*0.8)\n",
    "df_train, df_test = dataframe.iloc[:size], dataframe.iloc[size:]"
   ]
  },
  {
   "cell_type": "code",
   "execution_count": 15,
   "metadata": {
    "scrolled": false
   },
   "outputs": [
    {
     "data": {
      "image/png": "[encoded data removed]",
      "text/plain": [
       "<Figure size 432x288 with 1 Axes>"
      ]
     },
     "metadata": {},
     "output_type": "display_data"
    }
   ],
   "source": [
    "sgt.plot_acf(dataframe.ret_spx[1:], zero = False, lags = 40)\n",
    "plt.title(\"ACF for Returns\", size=24)\n",
    "plt.show()"
   ]
  },
  {
   "cell_type": "markdown",
   "metadata": {},
   "source": [
    "Auto ARIMA"
   ]
  },
  {
   "cell_type": "code",
   "execution_count": 7,
   "metadata": {},
   "outputs": [],
   "source": [
    "model_auto = auto_arima(dataframe.ret_spx[1:], exogenous = dataframe[['ret_ftse', 'ret_dax', 'ret_nikkei']][1:],\n",
    "                    m = 5,max_order = None, max_p = 7, max_q = 7, max_d = 2, max_P = 4, max_Q = 4, max_D = 2,\n",
    "                    maxiter = 50, alpha = 0.05, n_jobs = -1, trend = 'ct', information_criterion = 'oob',\n",
    "                    out_of_sample = int(len(dataframe)*0.2))\n",
    "\n",
    "\n",
    "#exogenous:outside factors (e.g other time series)\n",
    "#m:seasonal cycle length\n",
    "#max_order:maximum amount of variables to be used in the regression (p + q)\n",
    "#max_p:maximum AR components\n",
    "#max_q:maximum MA components\n",
    "#max_d:maximum Integrations\n",
    "#maxiter:maximum iterations we're giving the model to converge the coefficients\n",
    "#alpha:level of significance, default is 5%, which we should be using most of the time\n",
    "#n_jobs:how many models to fit at a time (-1 indicates \"as many as possible\")\n",
    "#oob:out of bag(for validation scoring)\n",
    "#out_of_smaple:validates the model selection (pass the entire dataset, and set 20% to be the out_of_sample_size)"
   ]
  },
  {
   "cell_type": "code",
   "execution_count": 8,
   "metadata": {},
   "outputs": [
    {
     "data": {
      "text/html": [
       "<table class=\"simpletable\">\n",
       "<caption>SARIMAX Results</caption>\n",
       "<tr>\n",
       "  <th>Dep. Variable:</th>                  <td>y</td>                <th>  No. Observations:  </th>   <td>5265</td>   \n",
       "</tr>\n",
       "<tr>\n",
       "  <th>Model:</th>           <td>SARIMAX(2, 0, 2)x(1, 0, [1], 5)</td> <th>  Log Likelihood     </th> <td>-6895.547</td>\n",
       "</tr>\n",
       "<tr>\n",
       "  <th>Date:</th>                   <td>Wed, 11 Mar 2020</td>         <th>  AIC                </th> <td>13815.095</td>\n",
       "</tr>\n",
       "<tr>\n",
       "  <th>Time:</th>                       <td>19:55:37</td>             <th>  BIC                </th> <td>13893.921</td>\n",
       "</tr>\n",
       "<tr>\n",
       "  <th>Sample:</th>                    <td>01-05-2000</td>            <th>  HQIC               </th> <td>13842.650</td>\n",
       "</tr>\n",
       "<tr>\n",
       "  <th></th>                          <td>- 03-10-2020</td>           <th>                     </th>     <td> </td>    \n",
       "</tr>\n",
       "<tr>\n",
       "  <th>Covariance Type:</th>               <td>opg</td>               <th>                     </th>     <td> </td>    \n",
       "</tr>\n",
       "</table>\n",
       "<table class=\"simpletable\">\n",
       "<tr>\n",
       "       <td></td>         <th>coef</th>     <th>std err</th>      <th>z</th>      <th>P>|z|</th>  <th>[0.025</th>    <th>0.975]</th>  \n",
       "</tr>\n",
       "<tr>\n",
       "  <th>intercept</th>  <td>   -0.0180</td> <td>    0.017</td> <td>   -1.083</td> <td> 0.279</td> <td>   -0.050</td> <td>    0.015</td>\n",
       "</tr>\n",
       "<tr>\n",
       "  <th>drift</th>      <td> 1.648e-06</td> <td>    2e-06</td> <td>    0.823</td> <td> 0.411</td> <td>-2.28e-06</td> <td> 5.57e-06</td>\n",
       "</tr>\n",
       "<tr>\n",
       "  <th>ret_ftse</th>   <td>    0.1656</td> <td>    0.011</td> <td>   14.420</td> <td> 0.000</td> <td>    0.143</td> <td>    0.188</td>\n",
       "</tr>\n",
       "<tr>\n",
       "  <th>ret_dax</th>    <td>    0.3880</td> <td>    0.009</td> <td>   44.166</td> <td> 0.000</td> <td>    0.371</td> <td>    0.405</td>\n",
       "</tr>\n",
       "<tr>\n",
       "  <th>ret_nikkei</th> <td>   -0.0307</td> <td>    0.006</td> <td>   -4.960</td> <td> 0.000</td> <td>   -0.043</td> <td>   -0.019</td>\n",
       "</tr>\n",
       "<tr>\n",
       "  <th>ar.L1</th>      <td>    0.7439</td> <td>    0.307</td> <td>    2.422</td> <td> 0.015</td> <td>    0.142</td> <td>    1.346</td>\n",
       "</tr>\n",
       "<tr>\n",
       "  <th>ar.L2</th>      <td>   -0.0149</td> <td>    0.044</td> <td>   -0.342</td> <td> 0.732</td> <td>   -0.100</td> <td>    0.070</td>\n",
       "</tr>\n",
       "<tr>\n",
       "  <th>ma.L1</th>      <td>   -1.0683</td> <td>    0.307</td> <td>   -3.479</td> <td> 0.001</td> <td>   -1.670</td> <td>   -0.467</td>\n",
       "</tr>\n",
       "<tr>\n",
       "  <th>ma.L2</th>      <td>    0.2375</td> <td>    0.136</td> <td>    1.751</td> <td> 0.080</td> <td>   -0.028</td> <td>    0.503</td>\n",
       "</tr>\n",
       "<tr>\n",
       "  <th>ar.S.L5</th>    <td>   -0.0048</td> <td>    0.398</td> <td>   -0.012</td> <td> 0.990</td> <td>   -0.786</td> <td>    0.776</td>\n",
       "</tr>\n",
       "<tr>\n",
       "  <th>ma.S.L5</th>    <td>   -0.0181</td> <td>    0.398</td> <td>   -0.046</td> <td> 0.964</td> <td>   -0.798</td> <td>    0.762</td>\n",
       "</tr>\n",
       "<tr>\n",
       "  <th>sigma2</th>     <td>    0.7947</td> <td>    0.008</td> <td>   97.570</td> <td> 0.000</td> <td>    0.779</td> <td>    0.811</td>\n",
       "</tr>\n",
       "</table>\n",
       "<table class=\"simpletable\">\n",
       "<tr>\n",
       "  <th>Ljung-Box (Q):</th>          <td>83.49</td> <th>  Jarque-Bera (JB):  </th> <td>10146.40</td>\n",
       "</tr>\n",
       "<tr>\n",
       "  <th>Prob(Q):</th>                <td>0.00</td>  <th>  Prob(JB):          </th>   <td>0.00</td>  \n",
       "</tr>\n",
       "<tr>\n",
       "  <th>Heteroskedasticity (H):</th> <td>0.60</td>  <th>  Skew:              </th>   <td>-0.25</td> \n",
       "</tr>\n",
       "<tr>\n",
       "  <th>Prob(H) (two-sided):</th>    <td>0.00</td>  <th>  Kurtosis:          </th>   <td>9.78</td>  \n",
       "</tr>\n",
       "</table><br/><br/>Warnings:<br/>[1] Covariance matrix calculated using the outer product of gradients (complex-step)."
      ],
      "text/plain": [
       "<class 'statsmodels.iolib.summary.Summary'>\n",
       "\"\"\"\n",
       "                                      SARIMAX Results                                      \n",
       "===========================================================================================\n",
       "Dep. Variable:                                   y   No. Observations:                 5265\n",
       "Model:             SARIMAX(2, 0, 2)x(1, 0, [1], 5)   Log Likelihood               -6895.547\n",
       "Date:                             Wed, 11 Mar 2020   AIC                          13815.095\n",
       "Time:                                     19:55:37   BIC                          13893.921\n",
       "Sample:                                 01-05-2000   HQIC                         13842.650\n",
       "                                      - 03-10-2020                                         \n",
       "Covariance Type:                               opg                                         \n",
       "==============================================================================\n",
       "                 coef    std err          z      P>|z|      [0.025      0.975]\n",
       "------------------------------------------------------------------------------\n",
       "intercept     -0.0180      0.017     -1.083      0.279      -0.050       0.015\n",
       "drift       1.648e-06      2e-06      0.823      0.411   -2.28e-06    5.57e-06\n",
       "ret_ftse       0.1656      0.011     14.420      0.000       0.143       0.188\n",
       "ret_dax        0.3880      0.009     44.166      0.000       0.371       0.405\n",
       "ret_nikkei    -0.0307      0.006     -4.960      0.000      -0.043      -0.019\n",
       "ar.L1          0.7439      0.307      2.422      0.015       0.142       1.346\n",
       "ar.L2         -0.0149      0.044     -0.342      0.732      -0.100       0.070\n",
       "ma.L1         -1.0683      0.307     -3.479      0.001      -1.670      -0.467\n",
       "ma.L2          0.2375      0.136      1.751      0.080      -0.028       0.503\n",
       "ar.S.L5       -0.0048      0.398     -0.012      0.990      -0.786       0.776\n",
       "ma.S.L5       -0.0181      0.398     -0.046      0.964      -0.798       0.762\n",
       "sigma2         0.7947      0.008     97.570      0.000       0.779       0.811\n",
       "===================================================================================\n",
       "Ljung-Box (Q):                       83.49   Jarque-Bera (JB):             10146.40\n",
       "Prob(Q):                              0.00   Prob(JB):                         0.00\n",
       "Heteroskedasticity (H):               0.60   Skew:                            -0.25\n",
       "Prob(H) (two-sided):                  0.00   Kurtosis:                         9.78\n",
       "===================================================================================\n",
       "\n",
       "Warnings:\n",
       "[1] Covariance matrix calculated using the outer product of gradients (complex-step).\n",
       "\"\"\""
      ]
     },
     "execution_count": 8,
     "metadata": {},
     "output_type": "execute_result"
    }
   ],
   "source": [
    "model_auto.summary()"
   ]
  }
 ],
 "metadata": {
  "kernelspec": {
   "display_name": "Python 3",
   "language": "python",
   "name": "python3"
  },
  "language_info": {
   "codemirror_mode": {
    "name": "ipython",
    "version": 3
   },
   "file_extension": ".py",
   "mimetype": "text/x-python",
   "name": "python",
   "nbconvert_exporter": "python",
   "pygments_lexer": "ipython3",
   "version": "3.7.3"
  }
 },
 "nbformat": 4,
 "nbformat_minor": 2
}

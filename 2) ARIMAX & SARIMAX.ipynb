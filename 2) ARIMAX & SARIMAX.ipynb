{
 "cells": [
  {
   "cell_type": "markdown",
   "metadata": {},
   "source": [
    "Import packages"
   ]
  },
  {
   "cell_type": "code",
   "execution_count": 1,
   "metadata": {},
   "outputs": [],
   "source": [
    "import pandas as pd\n",
    "import numpy as np\n",
    "import matplotlib.pyplot as plt\n",
    "import statsmodels.graphics.tsaplots as sgt\n",
    "import statsmodels.tsa.stattools as sts\n",
    "import statsmodels.api as sm\n",
    "from statsmodels.tsa.arima_model import ARIMA\n",
    "from scipy.stats.distributions import chi2 \n",
    "from math import sqrt\n",
    "import seaborn as sns\n",
    "sns.set()\n",
    "import warnings\n",
    "warnings.filterwarnings(\"ignore\")"
   ]
  },
  {
   "cell_type": "markdown",
   "metadata": {},
   "source": [
    "Pre-processing"
   ]
  },
  {
   "cell_type": "code",
   "execution_count": 2,
   "metadata": {},
   "outputs": [],
   "source": [
    "csv = pd.read_csv(\"Index2020.csv\") \n",
    "dataframe =csv.copy()\n",
    "dataframe.date = pd.to_datetime(dataframe.date, dayfirst = True) #change to timeserires data\n",
    "dataframe.set_index(\"date\", inplace=True) #setting timeseries data to index\n",
    "dataframe = dataframe.asfreq('b') #set frequency to business days\n",
    "dataframe = dataframe.fillna(method='ffill') #front fill missing data"
   ]
  },
  {
   "cell_type": "code",
   "execution_count": 3,
   "metadata": {},
   "outputs": [],
   "source": [
    "dataframe['market_value'] = dataframe.spx"
   ]
  },
  {
   "cell_type": "code",
   "execution_count": 4,
   "metadata": {
    "scrolled": true
   },
   "outputs": [],
   "source": [
    "size = int(len(dataframe)*0.8) #split data 80%\n",
    "df_train, df_test = dataframe.iloc[:size], dataframe.iloc[size:]"
   ]
  },
  {
   "cell_type": "code",
   "execution_count": 5,
   "metadata": {},
   "outputs": [],
   "source": [
    "def LLR_test(mod_1, mod_2, DF = 1):\n",
    "    L1 = mod_1.llf\n",
    "    L2 = mod_2.llf\n",
    "    LR = (2*(L2-L1))    \n",
    "    p = chi2.sf(LR, DF).round(3)\n",
    "    return p"
   ]
  },
  {
   "cell_type": "code",
   "execution_count": 13,
   "metadata": {},
   "outputs": [],
   "source": [
    "df_train['returns'] = df_train.market_value.pct_change(1)*100"
   ]
  },
  {
   "cell_type": "markdown",
   "metadata": {},
   "source": [
    "ARIMAX"
   ]
  },
  {
   "cell_type": "code",
   "execution_count": 7,
   "metadata": {
    "scrolled": true
   },
   "outputs": [
    {
     "data": {
      "text/html": [
       "<table class=\"simpletable\">\n",
       "<caption>ARIMA Model Results</caption>\n",
       "<tr>\n",
       "  <th>Dep. Variable:</th>  <td>D.market_value</td>  <th>  No. Observations:  </th>    <td>4191</td>   \n",
       "</tr>\n",
       "<tr>\n",
       "  <th>Model:</th>          <td>ARIMA(1, 1, 1)</td>  <th>  Log Likelihood     </th> <td>-17248.042</td>\n",
       "</tr>\n",
       "<tr>\n",
       "  <th>Method:</th>             <td>css-mle</td>     <th>  S.D. of innovations</th>   <td>14.829</td>  \n",
       "</tr>\n",
       "<tr>\n",
       "  <th>Date:</th>          <td>Fri, 06 Mar 2020</td> <th>  AIC                </th>  <td>34506.085</td>\n",
       "</tr>\n",
       "<tr>\n",
       "  <th>Time:</th>              <td>15:39:39</td>     <th>  BIC                </th>  <td>34537.788</td>\n",
       "</tr>\n",
       "<tr>\n",
       "  <th>Sample:</th>           <td>01-04-2000</td>    <th>  HQIC               </th>  <td>34517.296</td>\n",
       "</tr>\n",
       "<tr>\n",
       "  <th></th>                 <td>- 01-26-2016</td>   <th>                     </th>      <td> </td>    \n",
       "</tr>\n",
       "</table>\n",
       "<table class=\"simpletable\">\n",
       "<tr>\n",
       "            <td></td>              <th>coef</th>     <th>std err</th>      <th>z</th>      <th>P>|z|</th>  <th>[0.025</th>    <th>0.975]</th>  \n",
       "</tr>\n",
       "<tr>\n",
       "  <th>const</th>                <td>   -0.3460</td> <td>    0.617</td> <td>   -0.561</td> <td> 0.575</td> <td>   -1.556</td> <td>    0.864</td>\n",
       "</tr>\n",
       "<tr>\n",
       "  <th>dax</th>                  <td> 7.046e-05</td> <td>  9.2e-05</td> <td>    0.766</td> <td> 0.444</td> <td>   -0.000</td> <td>    0.000</td>\n",
       "</tr>\n",
       "<tr>\n",
       "  <th>ar.L1.D.market_value</th> <td>    0.6043</td> <td>    0.121</td> <td>    5.003</td> <td> 0.000</td> <td>    0.368</td> <td>    0.841</td>\n",
       "</tr>\n",
       "<tr>\n",
       "  <th>ma.L1.D.market_value</th> <td>   -0.6710</td> <td>    0.113</td> <td>   -5.964</td> <td> 0.000</td> <td>   -0.892</td> <td>   -0.450</td>\n",
       "</tr>\n",
       "</table>\n",
       "<table class=\"simpletable\">\n",
       "<caption>Roots</caption>\n",
       "<tr>\n",
       "    <td></td>   <th>            Real</th>  <th>         Imaginary</th> <th>         Modulus</th>  <th>        Frequency</th>\n",
       "</tr>\n",
       "<tr>\n",
       "  <th>AR.1</th> <td>           1.6549</td> <td>          +0.0000j</td> <td>           1.6549</td> <td>           0.0000</td>\n",
       "</tr>\n",
       "<tr>\n",
       "  <th>MA.1</th> <td>           1.4903</td> <td>          +0.0000j</td> <td>           1.4903</td> <td>           0.0000</td>\n",
       "</tr>\n",
       "</table>"
      ],
      "text/plain": [
       "<class 'statsmodels.iolib.summary.Summary'>\n",
       "\"\"\"\n",
       "                             ARIMA Model Results                              \n",
       "==============================================================================\n",
       "Dep. Variable:         D.market_value   No. Observations:                 4191\n",
       "Model:                 ARIMA(1, 1, 1)   Log Likelihood              -17248.042\n",
       "Method:                       css-mle   S.D. of innovations             14.829\n",
       "Date:                Fri, 06 Mar 2020   AIC                          34506.085\n",
       "Time:                        15:39:39   BIC                          34537.788\n",
       "Sample:                    01-04-2000   HQIC                         34517.296\n",
       "                         - 01-26-2016                                         \n",
       "========================================================================================\n",
       "                           coef    std err          z      P>|z|      [0.025      0.975]\n",
       "----------------------------------------------------------------------------------------\n",
       "const                   -0.3460      0.617     -0.561      0.575      -1.556       0.864\n",
       "dax                   7.046e-05    9.2e-05      0.766      0.444      -0.000       0.000\n",
       "ar.L1.D.market_value     0.6043      0.121      5.003      0.000       0.368       0.841\n",
       "ma.L1.D.market_value    -0.6710      0.113     -5.964      0.000      -0.892      -0.450\n",
       "                                    Roots                                    \n",
       "=============================================================================\n",
       "                  Real          Imaginary           Modulus         Frequency\n",
       "-----------------------------------------------------------------------------\n",
       "AR.1            1.6549           +0.0000j            1.6549            0.0000\n",
       "MA.1            1.4903           +0.0000j            1.4903            0.0000\n",
       "-----------------------------------------------------------------------------\n",
       "\"\"\""
      ]
     },
     "execution_count": 7,
     "metadata": {},
     "output_type": "execute_result"
    }
   ],
   "source": [
    "armax = ARIMA(df_train.market_value, exog = df_train.dax, order=(1,1,1))\n",
    "results_armax = armax.fit()\n",
    "results_armax.summary()"
   ]
  },
  {
   "cell_type": "markdown",
   "metadata": {},
   "source": [
    "SARIMAX"
   ]
  },
  {
   "cell_type": "code",
   "execution_count": 8,
   "metadata": {},
   "outputs": [],
   "source": [
    "from statsmodels.tsa.statespace.sarimax import SARIMAX"
   ]
  },
  {
   "cell_type": "code",
   "execution_count": 10,
   "metadata": {
    "scrolled": false
   },
   "outputs": [
    {
     "data": {
      "text/html": [
       "<table class=\"simpletable\">\n",
       "<caption>SARIMAX Results</caption>\n",
       "<tr>\n",
       "  <th>Dep. Variable:</th>           <td>market_value</td>          <th>  No. Observations:  </th>    <td>4192</td>   \n",
       "</tr>\n",
       "<tr>\n",
       "  <th>Model:</th>           <td>SARIMAX(1, 0, 1)x(2, 0, 1, 5)</td> <th>  Log Likelihood     </th> <td>-16216.081</td>\n",
       "</tr>\n",
       "<tr>\n",
       "  <th>Date:</th>                  <td>Fri, 06 Mar 2020</td>        <th>  AIC                </th>  <td>32446.163</td>\n",
       "</tr>\n",
       "<tr>\n",
       "  <th>Time:</th>                      <td>16:10:12</td>            <th>  BIC                </th>  <td>32490.549</td>\n",
       "</tr>\n",
       "<tr>\n",
       "  <th>Sample:</th>                   <td>01-03-2000</td>           <th>  HQIC               </th>  <td>32461.859</td>\n",
       "</tr>\n",
       "<tr>\n",
       "  <th></th>                         <td>- 01-26-2016</td>          <th>                     </th>      <td> </td>    \n",
       "</tr>\n",
       "<tr>\n",
       "  <th>Covariance Type:</th>              <td>opg</td>              <th>                     </th>      <td> </td>    \n",
       "</tr>\n",
       "</table>\n",
       "<table class=\"simpletable\">\n",
       "<tr>\n",
       "      <td></td>        <th>coef</th>     <th>std err</th>      <th>z</th>      <th>P>|z|</th>  <th>[0.025</th>    <th>0.975]</th>  \n",
       "</tr>\n",
       "<tr>\n",
       "  <th>dax</th>      <td>    0.1052</td> <td>    0.001</td> <td>   91.612</td> <td> 0.000</td> <td>    0.103</td> <td>    0.107</td>\n",
       "</tr>\n",
       "<tr>\n",
       "  <th>ar.L1</th>    <td>    0.9998</td> <td>    0.000</td> <td> 2377.341</td> <td> 0.000</td> <td>    0.999</td> <td>    1.001</td>\n",
       "</tr>\n",
       "<tr>\n",
       "  <th>ma.L1</th>    <td>   -0.2906</td> <td>    0.008</td> <td>  -35.325</td> <td> 0.000</td> <td>   -0.307</td> <td>   -0.274</td>\n",
       "</tr>\n",
       "<tr>\n",
       "  <th>ar.S.L5</th>  <td>    0.9880</td> <td>    0.008</td> <td>  130.249</td> <td> 0.000</td> <td>    0.973</td> <td>    1.003</td>\n",
       "</tr>\n",
       "<tr>\n",
       "  <th>ar.S.L10</th> <td>    0.0117</td> <td>    0.004</td> <td>    2.701</td> <td> 0.007</td> <td>    0.003</td> <td>    0.020</td>\n",
       "</tr>\n",
       "<tr>\n",
       "  <th>ma.S.L5</th>  <td>   -0.9995</td> <td>    0.007</td> <td> -139.903</td> <td> 0.000</td> <td>   -1.013</td> <td>   -0.985</td>\n",
       "</tr>\n",
       "<tr>\n",
       "  <th>sigma2</th>   <td>  134.0563</td> <td>    1.617</td> <td>   82.914</td> <td> 0.000</td> <td>  130.887</td> <td>  137.225</td>\n",
       "</tr>\n",
       "</table>\n",
       "<table class=\"simpletable\">\n",
       "<tr>\n",
       "  <th>Ljung-Box (Q):</th>          <td>97.88</td> <th>  Jarque-Bera (JB):  </th> <td>3697.84</td>\n",
       "</tr>\n",
       "<tr>\n",
       "  <th>Prob(Q):</th>                <td>0.00</td>  <th>  Prob(JB):          </th>  <td>0.00</td>  \n",
       "</tr>\n",
       "<tr>\n",
       "  <th>Heteroskedasticity (H):</th> <td>1.10</td>  <th>  Skew:              </th>  <td>-0.25</td> \n",
       "</tr>\n",
       "<tr>\n",
       "  <th>Prob(H) (two-sided):</th>    <td>0.09</td>  <th>  Kurtosis:          </th>  <td>7.57</td>  \n",
       "</tr>\n",
       "</table><br/><br/>Warnings:<br/>[1] Covariance matrix calculated using the outer product of gradients (complex-step)."
      ],
      "text/plain": [
       "<class 'statsmodels.iolib.summary.Summary'>\n",
       "\"\"\"\n",
       "                                     SARIMAX Results                                     \n",
       "=========================================================================================\n",
       "Dep. Variable:                      market_value   No. Observations:                 4192\n",
       "Model:             SARIMAX(1, 0, 1)x(2, 0, 1, 5)   Log Likelihood              -16216.081\n",
       "Date:                           Fri, 06 Mar 2020   AIC                          32446.163\n",
       "Time:                                   16:10:12   BIC                          32490.549\n",
       "Sample:                               01-03-2000   HQIC                         32461.859\n",
       "                                    - 01-26-2016                                         \n",
       "Covariance Type:                             opg                                         \n",
       "==============================================================================\n",
       "                 coef    std err          z      P>|z|      [0.025      0.975]\n",
       "------------------------------------------------------------------------------\n",
       "dax            0.1052      0.001     91.612      0.000       0.103       0.107\n",
       "ar.L1          0.9998      0.000   2377.341      0.000       0.999       1.001\n",
       "ma.L1         -0.2906      0.008    -35.325      0.000      -0.307      -0.274\n",
       "ar.S.L5        0.9880      0.008    130.249      0.000       0.973       1.003\n",
       "ar.S.L10       0.0117      0.004      2.701      0.007       0.003       0.020\n",
       "ma.S.L5       -0.9995      0.007   -139.903      0.000      -1.013      -0.985\n",
       "sigma2       134.0563      1.617     82.914      0.000     130.887     137.225\n",
       "===================================================================================\n",
       "Ljung-Box (Q):                       97.88   Jarque-Bera (JB):              3697.84\n",
       "Prob(Q):                              0.00   Prob(JB):                         0.00\n",
       "Heteroskedasticity (H):               1.10   Skew:                            -0.25\n",
       "Prob(H) (two-sided):                  0.09   Kurtosis:                         7.57\n",
       "===================================================================================\n",
       "\n",
       "Warnings:\n",
       "[1] Covariance matrix calculated using the outer product of gradients (complex-step).\n",
       "\"\"\""
      ]
     },
     "execution_count": 10,
     "metadata": {},
     "output_type": "execute_result"
    }
   ],
   "source": [
    "sarimax = SARIMAX(df_train.market_value, exog = df_train.dax, order=(1,0,1), seasonal_order = (2,0,1,5))\n",
    "results_sarimax = sarimax.fit()\n",
    "results_sarimax.summary()"
   ]
  },
  {
   "cell_type": "code",
   "execution_count": 11,
   "metadata": {
    "scrolled": true
   },
   "outputs": [
    {
     "data": {
      "text/html": [
       "<table class=\"simpletable\">\n",
       "<caption>SARIMAX Results</caption>\n",
       "<tr>\n",
       "  <th>Dep. Variable:</th>           <td>market_value</td>          <th>  No. Observations:  </th>    <td>4192</td>   \n",
       "</tr>\n",
       "<tr>\n",
       "  <th>Model:</th>           <td>SARIMAX(1, 0, 1)x(2, 0, 1, 5)</td> <th>  Log Likelihood     </th> <td>-16216.081</td>\n",
       "</tr>\n",
       "<tr>\n",
       "  <th>Date:</th>                  <td>Fri, 06 Mar 2020</td>        <th>  AIC                </th>  <td>32446.163</td>\n",
       "</tr>\n",
       "<tr>\n",
       "  <th>Time:</th>                      <td>16:10:42</td>            <th>  BIC                </th>  <td>32490.549</td>\n",
       "</tr>\n",
       "<tr>\n",
       "  <th>Sample:</th>                   <td>01-03-2000</td>           <th>  HQIC               </th>  <td>32461.859</td>\n",
       "</tr>\n",
       "<tr>\n",
       "  <th></th>                         <td>- 01-26-2016</td>          <th>                     </th>      <td> </td>    \n",
       "</tr>\n",
       "<tr>\n",
       "  <th>Covariance Type:</th>              <td>opg</td>              <th>                     </th>      <td> </td>    \n",
       "</tr>\n",
       "</table>\n",
       "<table class=\"simpletable\">\n",
       "<tr>\n",
       "      <td></td>        <th>coef</th>     <th>std err</th>      <th>z</th>      <th>P>|z|</th>  <th>[0.025</th>    <th>0.975]</th>  \n",
       "</tr>\n",
       "<tr>\n",
       "  <th>dax</th>      <td>    0.1052</td> <td>    0.001</td> <td>   91.612</td> <td> 0.000</td> <td>    0.103</td> <td>    0.107</td>\n",
       "</tr>\n",
       "<tr>\n",
       "  <th>ar.L1</th>    <td>    0.9998</td> <td>    0.000</td> <td> 2377.341</td> <td> 0.000</td> <td>    0.999</td> <td>    1.001</td>\n",
       "</tr>\n",
       "<tr>\n",
       "  <th>ma.L1</th>    <td>   -0.2906</td> <td>    0.008</td> <td>  -35.325</td> <td> 0.000</td> <td>   -0.307</td> <td>   -0.274</td>\n",
       "</tr>\n",
       "<tr>\n",
       "  <th>ar.S.L5</th>  <td>    0.9880</td> <td>    0.008</td> <td>  130.249</td> <td> 0.000</td> <td>    0.973</td> <td>    1.003</td>\n",
       "</tr>\n",
       "<tr>\n",
       "  <th>ar.S.L10</th> <td>    0.0117</td> <td>    0.004</td> <td>    2.701</td> <td> 0.007</td> <td>    0.003</td> <td>    0.020</td>\n",
       "</tr>\n",
       "<tr>\n",
       "  <th>ma.S.L5</th>  <td>   -0.9995</td> <td>    0.007</td> <td> -139.903</td> <td> 0.000</td> <td>   -1.013</td> <td>   -0.985</td>\n",
       "</tr>\n",
       "<tr>\n",
       "  <th>sigma2</th>   <td>  134.0563</td> <td>    1.617</td> <td>   82.914</td> <td> 0.000</td> <td>  130.887</td> <td>  137.225</td>\n",
       "</tr>\n",
       "</table>\n",
       "<table class=\"simpletable\">\n",
       "<tr>\n",
       "  <th>Ljung-Box (Q):</th>          <td>97.88</td> <th>  Jarque-Bera (JB):  </th> <td>3697.84</td>\n",
       "</tr>\n",
       "<tr>\n",
       "  <th>Prob(Q):</th>                <td>0.00</td>  <th>  Prob(JB):          </th>  <td>0.00</td>  \n",
       "</tr>\n",
       "<tr>\n",
       "  <th>Heteroskedasticity (H):</th> <td>1.10</td>  <th>  Skew:              </th>  <td>-0.25</td> \n",
       "</tr>\n",
       "<tr>\n",
       "  <th>Prob(H) (two-sided):</th>    <td>0.09</td>  <th>  Kurtosis:          </th>  <td>7.57</td>  \n",
       "</tr>\n",
       "</table><br/><br/>Warnings:<br/>[1] Covariance matrix calculated using the outer product of gradients (complex-step)."
      ],
      "text/plain": [
       "<class 'statsmodels.iolib.summary.Summary'>\n",
       "\"\"\"\n",
       "                                     SARIMAX Results                                     \n",
       "=========================================================================================\n",
       "Dep. Variable:                      market_value   No. Observations:                 4192\n",
       "Model:             SARIMAX(1, 0, 1)x(2, 0, 1, 5)   Log Likelihood              -16216.081\n",
       "Date:                           Fri, 06 Mar 2020   AIC                          32446.163\n",
       "Time:                                   16:10:42   BIC                          32490.549\n",
       "Sample:                               01-03-2000   HQIC                         32461.859\n",
       "                                    - 01-26-2016                                         \n",
       "Covariance Type:                             opg                                         \n",
       "==============================================================================\n",
       "                 coef    std err          z      P>|z|      [0.025      0.975]\n",
       "------------------------------------------------------------------------------\n",
       "dax            0.1052      0.001     91.612      0.000       0.103       0.107\n",
       "ar.L1          0.9998      0.000   2377.341      0.000       0.999       1.001\n",
       "ma.L1         -0.2906      0.008    -35.325      0.000      -0.307      -0.274\n",
       "ar.S.L5        0.9880      0.008    130.249      0.000       0.973       1.003\n",
       "ar.S.L10       0.0117      0.004      2.701      0.007       0.003       0.020\n",
       "ma.S.L5       -0.9995      0.007   -139.903      0.000      -1.013      -0.985\n",
       "sigma2       134.0563      1.617     82.914      0.000     130.887     137.225\n",
       "===================================================================================\n",
       "Ljung-Box (Q):                       97.88   Jarque-Bera (JB):              3697.84\n",
       "Prob(Q):                              0.00   Prob(JB):                         0.00\n",
       "Heteroskedasticity (H):               1.10   Skew:                            -0.25\n",
       "Prob(H) (two-sided):                  0.09   Kurtosis:                         7.57\n",
       "===================================================================================\n",
       "\n",
       "Warnings:\n",
       "[1] Covariance matrix calculated using the outer product of gradients (complex-step).\n",
       "\"\"\""
      ]
     },
     "execution_count": 11,
     "metadata": {},
     "output_type": "execute_result"
    }
   ],
   "source": [
    "sarimax_2 = SARIMAX(df_train.market_value, exog = df_train.dax, order=(2,0,2), seasonal_order = (1,0,1,5))\n",
    "results_sarimax_2 = sarimax.fit()\n",
    "results_sarimax_2.summary()"
   ]
  },
  {
   "cell_type": "code",
   "execution_count": 12,
   "metadata": {},
   "outputs": [
    {
     "data": {
      "text/html": [
       "<table class=\"simpletable\">\n",
       "<caption>SARIMAX Results</caption>\n",
       "<tr>\n",
       "  <th>Dep. Variable:</th>           <td>market_value</td>          <th>  No. Observations:  </th>    <td>4192</td>   \n",
       "</tr>\n",
       "<tr>\n",
       "  <th>Model:</th>           <td>SARIMAX(1, 0, 1)x(2, 0, 1, 5)</td> <th>  Log Likelihood     </th> <td>-16216.081</td>\n",
       "</tr>\n",
       "<tr>\n",
       "  <th>Date:</th>                  <td>Fri, 06 Mar 2020</td>        <th>  AIC                </th>  <td>32446.163</td>\n",
       "</tr>\n",
       "<tr>\n",
       "  <th>Time:</th>                      <td>16:11:47</td>            <th>  BIC                </th>  <td>32490.549</td>\n",
       "</tr>\n",
       "<tr>\n",
       "  <th>Sample:</th>                   <td>01-03-2000</td>           <th>  HQIC               </th>  <td>32461.859</td>\n",
       "</tr>\n",
       "<tr>\n",
       "  <th></th>                         <td>- 01-26-2016</td>          <th>                     </th>      <td> </td>    \n",
       "</tr>\n",
       "<tr>\n",
       "  <th>Covariance Type:</th>              <td>opg</td>              <th>                     </th>      <td> </td>    \n",
       "</tr>\n",
       "</table>\n",
       "<table class=\"simpletable\">\n",
       "<tr>\n",
       "      <td></td>        <th>coef</th>     <th>std err</th>      <th>z</th>      <th>P>|z|</th>  <th>[0.025</th>    <th>0.975]</th>  \n",
       "</tr>\n",
       "<tr>\n",
       "  <th>dax</th>      <td>    0.1052</td> <td>    0.001</td> <td>   91.612</td> <td> 0.000</td> <td>    0.103</td> <td>    0.107</td>\n",
       "</tr>\n",
       "<tr>\n",
       "  <th>ar.L1</th>    <td>    0.9998</td> <td>    0.000</td> <td> 2377.341</td> <td> 0.000</td> <td>    0.999</td> <td>    1.001</td>\n",
       "</tr>\n",
       "<tr>\n",
       "  <th>ma.L1</th>    <td>   -0.2906</td> <td>    0.008</td> <td>  -35.325</td> <td> 0.000</td> <td>   -0.307</td> <td>   -0.274</td>\n",
       "</tr>\n",
       "<tr>\n",
       "  <th>ar.S.L5</th>  <td>    0.9880</td> <td>    0.008</td> <td>  130.249</td> <td> 0.000</td> <td>    0.973</td> <td>    1.003</td>\n",
       "</tr>\n",
       "<tr>\n",
       "  <th>ar.S.L10</th> <td>    0.0117</td> <td>    0.004</td> <td>    2.701</td> <td> 0.007</td> <td>    0.003</td> <td>    0.020</td>\n",
       "</tr>\n",
       "<tr>\n",
       "  <th>ma.S.L5</th>  <td>   -0.9995</td> <td>    0.007</td> <td> -139.903</td> <td> 0.000</td> <td>   -1.013</td> <td>   -0.985</td>\n",
       "</tr>\n",
       "<tr>\n",
       "  <th>sigma2</th>   <td>  134.0563</td> <td>    1.617</td> <td>   82.914</td> <td> 0.000</td> <td>  130.887</td> <td>  137.225</td>\n",
       "</tr>\n",
       "</table>\n",
       "<table class=\"simpletable\">\n",
       "<tr>\n",
       "  <th>Ljung-Box (Q):</th>          <td>97.88</td> <th>  Jarque-Bera (JB):  </th> <td>3697.84</td>\n",
       "</tr>\n",
       "<tr>\n",
       "  <th>Prob(Q):</th>                <td>0.00</td>  <th>  Prob(JB):          </th>  <td>0.00</td>  \n",
       "</tr>\n",
       "<tr>\n",
       "  <th>Heteroskedasticity (H):</th> <td>1.10</td>  <th>  Skew:              </th>  <td>-0.25</td> \n",
       "</tr>\n",
       "<tr>\n",
       "  <th>Prob(H) (two-sided):</th>    <td>0.09</td>  <th>  Kurtosis:          </th>  <td>7.57</td>  \n",
       "</tr>\n",
       "</table><br/><br/>Warnings:<br/>[1] Covariance matrix calculated using the outer product of gradients (complex-step)."
      ],
      "text/plain": [
       "<class 'statsmodels.iolib.summary.Summary'>\n",
       "\"\"\"\n",
       "                                     SARIMAX Results                                     \n",
       "=========================================================================================\n",
       "Dep. Variable:                      market_value   No. Observations:                 4192\n",
       "Model:             SARIMAX(1, 0, 1)x(2, 0, 1, 5)   Log Likelihood              -16216.081\n",
       "Date:                           Fri, 06 Mar 2020   AIC                          32446.163\n",
       "Time:                                   16:11:47   BIC                          32490.549\n",
       "Sample:                               01-03-2000   HQIC                         32461.859\n",
       "                                    - 01-26-2016                                         \n",
       "Covariance Type:                             opg                                         \n",
       "==============================================================================\n",
       "                 coef    std err          z      P>|z|      [0.025      0.975]\n",
       "------------------------------------------------------------------------------\n",
       "dax            0.1052      0.001     91.612      0.000       0.103       0.107\n",
       "ar.L1          0.9998      0.000   2377.341      0.000       0.999       1.001\n",
       "ma.L1         -0.2906      0.008    -35.325      0.000      -0.307      -0.274\n",
       "ar.S.L5        0.9880      0.008    130.249      0.000       0.973       1.003\n",
       "ar.S.L10       0.0117      0.004      2.701      0.007       0.003       0.020\n",
       "ma.S.L5       -0.9995      0.007   -139.903      0.000      -1.013      -0.985\n",
       "sigma2       134.0563      1.617     82.914      0.000     130.887     137.225\n",
       "===================================================================================\n",
       "Ljung-Box (Q):                       97.88   Jarque-Bera (JB):              3697.84\n",
       "Prob(Q):                              0.00   Prob(JB):                         0.00\n",
       "Heteroskedasticity (H):               1.10   Skew:                            -0.25\n",
       "Prob(H) (two-sided):                  0.09   Kurtosis:                         7.57\n",
       "===================================================================================\n",
       "\n",
       "Warnings:\n",
       "[1] Covariance matrix calculated using the outer product of gradients (complex-step).\n",
       "\"\"\""
      ]
     },
     "execution_count": 12,
     "metadata": {},
     "output_type": "execute_result"
    }
   ],
   "source": [
    "sarimax_3 = SARIMAX(df_train.market_value, exog = df_train.dax, order=(3,0,4), seasonal_order = (3,0,2,5))\n",
    "results_sarimax_3 = sarimax.fit()\n",
    "results_sarimax_3.summary()"
   ]
  }
 ],
 "metadata": {
  "kernelspec": {
   "display_name": "Python 3",
   "language": "python",
   "name": "python3"
  },
  "language_info": {
   "codemirror_mode": {
    "name": "ipython",
    "version": 3
   },
   "file_extension": ".py",
   "mimetype": "text/x-python",
   "name": "python",
   "nbconvert_exporter": "python",
   "pygments_lexer": "ipython3",
   "version": "3.7.3"
  }
 },
 "nbformat": 4,
 "nbformat_minor": 2
}

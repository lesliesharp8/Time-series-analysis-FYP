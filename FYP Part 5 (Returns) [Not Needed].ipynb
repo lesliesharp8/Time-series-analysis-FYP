{
 "cells": [
  {
   "cell_type": "markdown",
   "metadata": {},
   "source": [
    "Importing the relevant packages"
   ]
  },
  {
   "cell_type": "code",
   "execution_count": 1,
   "metadata": {},
   "outputs": [],
   "source": [
    "import pandas as pd\n",
    "import numpy as np\n",
    "import matplotlib.pyplot as plt\n",
    "import statsmodels.graphics.tsaplots as sgt\n",
    "from statsmodels.tsa.arima_model import ARMA\n",
    "from scipy.stats.distributions import chi2\n",
    "import statsmodels.tsa.stattools as sts \n",
    "import seaborn as sns\n",
    "sns.set()\n",
    "import warnings\n",
    "warnings.filterwarnings(\"ignore\")"
   ]
  },
  {
   "cell_type": "markdown",
   "metadata": {},
   "source": [
    "Pre-processing"
   ]
  },
  {
   "cell_type": "code",
   "execution_count": 2,
   "metadata": {},
   "outputs": [],
   "source": [
    "raw_csv_data = pd.read_csv(\"Index2020.csv\") \n",
    "df_com=raw_csv_data.copy()\n",
    "df_com.date = pd.to_datetime(df_com.date, dayfirst = True)\n",
    "df_com.set_index(\"date\", inplace=True)\n",
    "df_com=df_com.asfreq('b')\n",
    "df_com=df_com.fillna(method='ffill')"
   ]
  },
  {
   "cell_type": "code",
   "execution_count": 3,
   "metadata": {},
   "outputs": [],
   "source": [
    "df_com['market_value']=df_com.spx"
   ]
  },
  {
   "cell_type": "code",
   "execution_count": 4,
   "metadata": {},
   "outputs": [],
   "source": [
    "del df_com['dax']\n",
    "size = int(len(df_com)*0.8)\n",
    "df, df_test = df_com.iloc[:size], df_com.iloc[size:]"
   ]
  },
  {
   "cell_type": "markdown",
   "metadata": {},
   "source": [
    "LLR Test"
   ]
  },
  {
   "cell_type": "code",
   "execution_count": 5,
   "metadata": {},
   "outputs": [],
   "source": [
    "def LLR_test(mod_1, mod_2, DF=1):\n",
    "    L1 = mod_1.llf\n",
    "    L2 = mod_2.llf\n",
    "    LR = (2*(L2-L1))\n",
    "    p = chi2.sf(LR, DF).round(3)\n",
    "    return p"
   ]
  },
  {
   "cell_type": "markdown",
   "metadata": {},
   "source": [
    "The DF-Test"
   ]
  },
  {
   "cell_type": "code",
   "execution_count": 6,
   "metadata": {},
   "outputs": [
    {
     "data": {
      "text/plain": [
       "(-0.7672618592522219,\n",
       " 0.8285500421946395,\n",
       " 2,\n",
       " 4189,\n",
       " {'1%': -3.4319120223653132,\n",
       "  '5%': -2.8622302155703507,\n",
       "  '10%': -2.5671374076308826},\n",
       " 34224.84474869841)"
      ]
     },
     "execution_count": 6,
     "metadata": {},
     "output_type": "execute_result"
    }
   ],
   "source": [
    "sts.adfuller(df.market_value)\n",
    "#p value= 0.82"
   ]
  },
  {
   "cell_type": "code",
   "execution_count": 7,
   "metadata": {},
   "outputs": [],
   "source": [
    "df['returns'] = df.market_value.pct_change(1).mul(100)\n",
    "df = df.iloc[1:]"
   ]
  },
  {
   "cell_type": "code",
   "execution_count": 8,
   "metadata": {},
   "outputs": [
    {
     "data": {
      "text/plain": [
       "(-15.543229231029171,\n",
       " 2.146044228384015e-28,\n",
       " 17,\n",
       " 4173,\n",
       " {'1%': -3.4319180151179545,\n",
       "  '5%': -2.862232862908481,\n",
       "  '10%': -2.5671388169510743},\n",
       " 13570.486595531835)"
      ]
     },
     "execution_count": 8,
     "metadata": {},
     "output_type": "execute_result"
    }
   ],
   "source": [
    "sts.adfuller(df.returns)"
   ]
  },
  {
   "cell_type": "markdown",
   "metadata": {},
   "source": [
    "ACF and PACF for Returns"
   ]
  },
  {
   "cell_type": "code",
   "execution_count": 9,
   "metadata": {},
   "outputs": [
    {
     "data": {
      "image/png": "[encoded data removed]",
      "text/plain": [
       "<Figure size 432x288 with 1 Axes>"
      ]
     },
     "metadata": {
      "needs_background": "light"
     },
     "output_type": "display_data"
    }
   ],
   "source": [
    "sgt.plot_acf(df.returns, lags=40, zero = False)\n",
    "plt.title(\"ACF S&P Returns\", size=24)\n",
    "plt.show()"
   ]
  },
  {
   "cell_type": "code",
   "execution_count": 10,
   "metadata": {},
   "outputs": [
    {
     "data": {
      "image/png": "[encoded data removed]",
      "text/plain": [
       "<Figure size 432x288 with 1 Axes>"
      ]
     },
     "metadata": {
      "needs_background": "light"
     },
     "output_type": "display_data"
    }
   ],
   "source": [
    "sgt.plot_pacf(df.returns, lags = 40, zero = False, method = ('ols'))\n",
    "plt.title(\"PACF S&P Returns\", size=24)\n",
    "plt.show()"
   ]
  },
  {
   "cell_type": "markdown",
   "metadata": {},
   "source": [
    "AR Models"
   ]
  },
  {
   "cell_type": "code",
   "execution_count": 11,
   "metadata": {},
   "outputs": [
    {
     "data": {
      "text/html": [
       "<table class=\"simpletable\">\n",
       "<caption>ARMA Model Results</caption>\n",
       "<tr>\n",
       "  <th>Dep. Variable:</th>      <td>returns</td>     <th>  No. Observations:  </th>   <td>4191</td>   \n",
       "</tr>\n",
       "<tr>\n",
       "  <th>Model:</th>            <td>ARMA(1, 0)</td>    <th>  Log Likelihood     </th> <td>-6849.301</td>\n",
       "</tr>\n",
       "<tr>\n",
       "  <th>Method:</th>             <td>css-mle</td>     <th>  S.D. of innovations</th>   <td>1.240</td>  \n",
       "</tr>\n",
       "<tr>\n",
       "  <th>Date:</th>          <td>Mon, 02 Mar 2020</td> <th>  AIC                </th> <td>13704.601</td>\n",
       "</tr>\n",
       "<tr>\n",
       "  <th>Time:</th>              <td>17:46:01</td>     <th>  BIC                </th> <td>13723.623</td>\n",
       "</tr>\n",
       "<tr>\n",
       "  <th>Sample:</th>           <td>01-04-2000</td>    <th>  HQIC               </th> <td>13711.328</td>\n",
       "</tr>\n",
       "<tr>\n",
       "  <th></th>                 <td>- 01-26-2016</td>   <th>                     </th>     <td> </td>    \n",
       "</tr>\n",
       "</table>\n",
       "<table class=\"simpletable\">\n",
       "<tr>\n",
       "        <td></td>           <th>coef</th>     <th>std err</th>      <th>z</th>      <th>P>|z|</th>  <th>[0.025</th>    <th>0.975]</th>  \n",
       "</tr>\n",
       "<tr>\n",
       "  <th>const</th>         <td>    0.0142</td> <td>    0.018</td> <td>    0.803</td> <td> 0.422</td> <td>   -0.020</td> <td>    0.049</td>\n",
       "</tr>\n",
       "<tr>\n",
       "  <th>ar.L1.returns</th> <td>   -0.0836</td> <td>    0.015</td> <td>   -5.422</td> <td> 0.000</td> <td>   -0.114</td> <td>   -0.053</td>\n",
       "</tr>\n",
       "</table>\n",
       "<table class=\"simpletable\">\n",
       "<caption>Roots</caption>\n",
       "<tr>\n",
       "    <td></td>   <th>            Real</th>  <th>         Imaginary</th> <th>         Modulus</th>  <th>        Frequency</th>\n",
       "</tr>\n",
       "<tr>\n",
       "  <th>AR.1</th> <td>         -11.9670</td> <td>          +0.0000j</td> <td>          11.9670</td> <td>           0.5000</td>\n",
       "</tr>\n",
       "</table>"
      ],
      "text/plain": [
       "<class 'statsmodels.iolib.summary.Summary'>\n",
       "\"\"\"\n",
       "                              ARMA Model Results                              \n",
       "==============================================================================\n",
       "Dep. Variable:                returns   No. Observations:                 4191\n",
       "Model:                     ARMA(1, 0)   Log Likelihood               -6849.301\n",
       "Method:                       css-mle   S.D. of innovations              1.240\n",
       "Date:                Mon, 02 Mar 2020   AIC                          13704.601\n",
       "Time:                        17:46:01   BIC                          13723.623\n",
       "Sample:                    01-04-2000   HQIC                         13711.328\n",
       "                         - 01-26-2016                                         \n",
       "=================================================================================\n",
       "                    coef    std err          z      P>|z|      [0.025      0.975]\n",
       "---------------------------------------------------------------------------------\n",
       "const             0.0142      0.018      0.803      0.422      -0.020       0.049\n",
       "ar.L1.returns    -0.0836      0.015     -5.422      0.000      -0.114      -0.053\n",
       "                                    Roots                                    \n",
       "=============================================================================\n",
       "                  Real          Imaginary           Modulus         Frequency\n",
       "-----------------------------------------------------------------------------\n",
       "AR.1          -11.9670           +0.0000j           11.9670            0.5000\n",
       "-----------------------------------------------------------------------------\n",
       "\"\"\""
      ]
     },
     "execution_count": 11,
     "metadata": {},
     "output_type": "execute_result"
    }
   ],
   "source": [
    "model_ret_ar = ARMA(df.returns, order = (1,0))\n",
    "results_ret_ar = model_ret_ar.fit()\n",
    "results_ret_ar.summary()"
   ]
  },
  {
   "cell_type": "code",
   "execution_count": 12,
   "metadata": {},
   "outputs": [
    {
     "data": {
      "text/html": [
       "<table class=\"simpletable\">\n",
       "<caption>ARMA Model Results</caption>\n",
       "<tr>\n",
       "  <th>Dep. Variable:</th>      <td>returns</td>     <th>  No. Observations:  </th>   <td>4191</td>   \n",
       "</tr>\n",
       "<tr>\n",
       "  <th>Model:</th>            <td>ARMA(2, 0)</td>    <th>  Log Likelihood     </th> <td>-6843.663</td>\n",
       "</tr>\n",
       "<tr>\n",
       "  <th>Method:</th>             <td>css-mle</td>     <th>  S.D. of innovations</th>   <td>1.239</td>  \n",
       "</tr>\n",
       "<tr>\n",
       "  <th>Date:</th>          <td>Mon, 02 Mar 2020</td> <th>  AIC                </th> <td>13695.326</td>\n",
       "</tr>\n",
       "<tr>\n",
       "  <th>Time:</th>              <td>17:46:02</td>     <th>  BIC                </th> <td>13720.689</td>\n",
       "</tr>\n",
       "<tr>\n",
       "  <th>Sample:</th>           <td>01-04-2000</td>    <th>  HQIC               </th> <td>13704.296</td>\n",
       "</tr>\n",
       "<tr>\n",
       "  <th></th>                 <td>- 01-26-2016</td>   <th>                     </th>     <td> </td>    \n",
       "</tr>\n",
       "</table>\n",
       "<table class=\"simpletable\">\n",
       "<tr>\n",
       "        <td></td>           <th>coef</th>     <th>std err</th>      <th>z</th>      <th>P>|z|</th>  <th>[0.025</th>    <th>0.975]</th>  \n",
       "</tr>\n",
       "<tr>\n",
       "  <th>const</th>         <td>    0.0142</td> <td>    0.017</td> <td>    0.849</td> <td> 0.396</td> <td>   -0.019</td> <td>    0.047</td>\n",
       "</tr>\n",
       "<tr>\n",
       "  <th>ar.L1.returns</th> <td>   -0.0879</td> <td>    0.015</td> <td>   -5.690</td> <td> 0.000</td> <td>   -0.118</td> <td>   -0.058</td>\n",
       "</tr>\n",
       "<tr>\n",
       "  <th>ar.L2.returns</th> <td>   -0.0519</td> <td>    0.015</td> <td>   -3.360</td> <td> 0.001</td> <td>   -0.082</td> <td>   -0.022</td>\n",
       "</tr>\n",
       "</table>\n",
       "<table class=\"simpletable\">\n",
       "<caption>Roots</caption>\n",
       "<tr>\n",
       "    <td></td>   <th>            Real</th>  <th>         Imaginary</th> <th>         Modulus</th>  <th>        Frequency</th>\n",
       "</tr>\n",
       "<tr>\n",
       "  <th>AR.1</th> <td>          -0.8467</td> <td>          -4.3072j</td> <td>           4.3897</td> <td>          -0.2809</td>\n",
       "</tr>\n",
       "<tr>\n",
       "  <th>AR.2</th> <td>          -0.8467</td> <td>          +4.3072j</td> <td>           4.3897</td> <td>           0.2809</td>\n",
       "</tr>\n",
       "</table>"
      ],
      "text/plain": [
       "<class 'statsmodels.iolib.summary.Summary'>\n",
       "\"\"\"\n",
       "                              ARMA Model Results                              \n",
       "==============================================================================\n",
       "Dep. Variable:                returns   No. Observations:                 4191\n",
       "Model:                     ARMA(2, 0)   Log Likelihood               -6843.663\n",
       "Method:                       css-mle   S.D. of innovations              1.239\n",
       "Date:                Mon, 02 Mar 2020   AIC                          13695.326\n",
       "Time:                        17:46:02   BIC                          13720.689\n",
       "Sample:                    01-04-2000   HQIC                         13704.296\n",
       "                         - 01-26-2016                                         \n",
       "=================================================================================\n",
       "                    coef    std err          z      P>|z|      [0.025      0.975]\n",
       "---------------------------------------------------------------------------------\n",
       "const             0.0142      0.017      0.849      0.396      -0.019       0.047\n",
       "ar.L1.returns    -0.0879      0.015     -5.690      0.000      -0.118      -0.058\n",
       "ar.L2.returns    -0.0519      0.015     -3.360      0.001      -0.082      -0.022\n",
       "                                    Roots                                    \n",
       "=============================================================================\n",
       "                  Real          Imaginary           Modulus         Frequency\n",
       "-----------------------------------------------------------------------------\n",
       "AR.1           -0.8467           -4.3072j            4.3897           -0.2809\n",
       "AR.2           -0.8467           +4.3072j            4.3897            0.2809\n",
       "-----------------------------------------------------------------------------\n",
       "\"\"\""
      ]
     },
     "execution_count": 12,
     "metadata": {},
     "output_type": "execute_result"
    }
   ],
   "source": [
    "model_ret_ar_2 = ARMA(df.returns, order = (2,0))\n",
    "results_ret_ar_2 = model_ret_ar_2.fit()\n",
    "results_ret_ar_2.summary()"
   ]
  },
  {
   "cell_type": "code",
   "execution_count": 13,
   "metadata": {},
   "outputs": [
    {
     "data": {
      "text/html": [
       "<table class=\"simpletable\">\n",
       "<caption>ARMA Model Results</caption>\n",
       "<tr>\n",
       "  <th>Dep. Variable:</th>      <td>returns</td>     <th>  No. Observations:  </th>   <td>4191</td>   \n",
       "</tr>\n",
       "<tr>\n",
       "  <th>Model:</th>            <td>ARMA(3, 0)</td>    <th>  Log Likelihood     </th> <td>-6843.630</td>\n",
       "</tr>\n",
       "<tr>\n",
       "  <th>Method:</th>             <td>css-mle</td>     <th>  S.D. of innovations</th>   <td>1.239</td>  \n",
       "</tr>\n",
       "<tr>\n",
       "  <th>Date:</th>          <td>Mon, 02 Mar 2020</td> <th>  AIC                </th> <td>13697.259</td>\n",
       "</tr>\n",
       "<tr>\n",
       "  <th>Time:</th>              <td>17:46:02</td>     <th>  BIC                </th> <td>13728.963</td>\n",
       "</tr>\n",
       "<tr>\n",
       "  <th>Sample:</th>           <td>01-04-2000</td>    <th>  HQIC               </th> <td>13708.471</td>\n",
       "</tr>\n",
       "<tr>\n",
       "  <th></th>                 <td>- 01-26-2016</td>   <th>                     </th>     <td> </td>    \n",
       "</tr>\n",
       "</table>\n",
       "<table class=\"simpletable\">\n",
       "<tr>\n",
       "        <td></td>           <th>coef</th>     <th>std err</th>      <th>z</th>      <th>P>|z|</th>  <th>[0.025</th>    <th>0.975]</th>  \n",
       "</tr>\n",
       "<tr>\n",
       "  <th>const</th>         <td>    0.0142</td> <td>    0.017</td> <td>    0.852</td> <td> 0.394</td> <td>   -0.019</td> <td>    0.047</td>\n",
       "</tr>\n",
       "<tr>\n",
       "  <th>ar.L1.returns</th> <td>   -0.0881</td> <td>    0.015</td> <td>   -5.696</td> <td> 0.000</td> <td>   -0.118</td> <td>   -0.058</td>\n",
       "</tr>\n",
       "<tr>\n",
       "  <th>ar.L2.returns</th> <td>   -0.0522</td> <td>    0.016</td> <td>   -3.370</td> <td> 0.001</td> <td>   -0.083</td> <td>   -0.022</td>\n",
       "</tr>\n",
       "<tr>\n",
       "  <th>ar.L3.returns</th> <td>   -0.0040</td> <td>    0.015</td> <td>   -0.259</td> <td> 0.796</td> <td>   -0.034</td> <td>    0.026</td>\n",
       "</tr>\n",
       "</table>\n",
       "<table class=\"simpletable\">\n",
       "<caption>Roots</caption>\n",
       "<tr>\n",
       "    <td></td>   <th>            Real</th>  <th>         Imaginary</th> <th>         Modulus</th>  <th>        Frequency</th>\n",
       "</tr>\n",
       "<tr>\n",
       "  <th>AR.1</th> <td>          -0.0996</td> <td>          -4.4077j</td> <td>           4.4088</td> <td>          -0.2536</td>\n",
       "</tr>\n",
       "<tr>\n",
       "  <th>AR.2</th> <td>          -0.0996</td> <td>          +4.4077j</td> <td>           4.4088</td> <td>           0.2536</td>\n",
       "</tr>\n",
       "<tr>\n",
       "  <th>AR.3</th> <td>         -12.8477</td> <td>          -0.0000j</td> <td>          12.8477</td> <td>          -0.5000</td>\n",
       "</tr>\n",
       "</table>"
      ],
      "text/plain": [
       "<class 'statsmodels.iolib.summary.Summary'>\n",
       "\"\"\"\n",
       "                              ARMA Model Results                              \n",
       "==============================================================================\n",
       "Dep. Variable:                returns   No. Observations:                 4191\n",
       "Model:                     ARMA(3, 0)   Log Likelihood               -6843.630\n",
       "Method:                       css-mle   S.D. of innovations              1.239\n",
       "Date:                Mon, 02 Mar 2020   AIC                          13697.259\n",
       "Time:                        17:46:02   BIC                          13728.963\n",
       "Sample:                    01-04-2000   HQIC                         13708.471\n",
       "                         - 01-26-2016                                         \n",
       "=================================================================================\n",
       "                    coef    std err          z      P>|z|      [0.025      0.975]\n",
       "---------------------------------------------------------------------------------\n",
       "const             0.0142      0.017      0.852      0.394      -0.019       0.047\n",
       "ar.L1.returns    -0.0881      0.015     -5.696      0.000      -0.118      -0.058\n",
       "ar.L2.returns    -0.0522      0.016     -3.370      0.001      -0.083      -0.022\n",
       "ar.L3.returns    -0.0040      0.015     -0.259      0.796      -0.034       0.026\n",
       "                                    Roots                                    \n",
       "=============================================================================\n",
       "                  Real          Imaginary           Modulus         Frequency\n",
       "-----------------------------------------------------------------------------\n",
       "AR.1           -0.0996           -4.4077j            4.4088           -0.2536\n",
       "AR.2           -0.0996           +4.4077j            4.4088            0.2536\n",
       "AR.3          -12.8477           -0.0000j           12.8477           -0.5000\n",
       "-----------------------------------------------------------------------------\n",
       "\"\"\""
      ]
     },
     "execution_count": 13,
     "metadata": {},
     "output_type": "execute_result"
    }
   ],
   "source": [
    "model_ret_ar_3 = ARMA(df.returns, order = (3,0))\n",
    "results_ret_ar_3 = model_ret_ar_3.fit()\n",
    "results_ret_ar_3.summary()"
   ]
  },
  {
   "cell_type": "code",
   "execution_count": 14,
   "metadata": {},
   "outputs": [
    {
     "data": {
      "text/html": [
       "<table class=\"simpletable\">\n",
       "<caption>ARMA Model Results</caption>\n",
       "<tr>\n",
       "  <th>Dep. Variable:</th>      <td>returns</td>     <th>  No. Observations:  </th>   <td>4191</td>   \n",
       "</tr>\n",
       "<tr>\n",
       "  <th>Model:</th>            <td>ARMA(4, 0)</td>    <th>  Log Likelihood     </th> <td>-6843.384</td>\n",
       "</tr>\n",
       "<tr>\n",
       "  <th>Method:</th>             <td>css-mle</td>     <th>  S.D. of innovations</th>   <td>1.239</td>  \n",
       "</tr>\n",
       "<tr>\n",
       "  <th>Date:</th>          <td>Mon, 02 Mar 2020</td> <th>  AIC                </th> <td>13698.769</td>\n",
       "</tr>\n",
       "<tr>\n",
       "  <th>Time:</th>              <td>17:46:02</td>     <th>  BIC                </th> <td>13736.813</td>\n",
       "</tr>\n",
       "<tr>\n",
       "  <th>Sample:</th>           <td>01-04-2000</td>    <th>  HQIC               </th> <td>13712.222</td>\n",
       "</tr>\n",
       "<tr>\n",
       "  <th></th>                 <td>- 01-26-2016</td>   <th>                     </th>     <td> </td>    \n",
       "</tr>\n",
       "</table>\n",
       "<table class=\"simpletable\">\n",
       "<tr>\n",
       "        <td></td>           <th>coef</th>     <th>std err</th>      <th>z</th>      <th>P>|z|</th>  <th>[0.025</th>    <th>0.975]</th>  \n",
       "</tr>\n",
       "<tr>\n",
       "  <th>const</th>         <td>    0.0142</td> <td>    0.017</td> <td>    0.861</td> <td> 0.389</td> <td>   -0.018</td> <td>    0.047</td>\n",
       "</tr>\n",
       "<tr>\n",
       "  <th>ar.L1.returns</th> <td>   -0.0881</td> <td>    0.015</td> <td>   -5.698</td> <td> 0.000</td> <td>   -0.118</td> <td>   -0.058</td>\n",
       "</tr>\n",
       "<tr>\n",
       "  <th>ar.L2.returns</th> <td>   -0.0528</td> <td>    0.016</td> <td>   -3.402</td> <td> 0.001</td> <td>   -0.083</td> <td>   -0.022</td>\n",
       "</tr>\n",
       "<tr>\n",
       "  <th>ar.L3.returns</th> <td>   -0.0050</td> <td>    0.016</td> <td>   -0.319</td> <td> 0.750</td> <td>   -0.035</td> <td>    0.025</td>\n",
       "</tr>\n",
       "<tr>\n",
       "  <th>ar.L4.returns</th> <td>   -0.0108</td> <td>    0.015</td> <td>   -0.701</td> <td> 0.484</td> <td>   -0.041</td> <td>    0.019</td>\n",
       "</tr>\n",
       "</table>\n",
       "<table class=\"simpletable\">\n",
       "<caption>Roots</caption>\n",
       "<tr>\n",
       "    <td></td>   <th>            Real</th>  <th>         Imaginary</th> <th>         Modulus</th>  <th>        Frequency</th>\n",
       "</tr>\n",
       "<tr>\n",
       "  <th>AR.1</th> <td>          -2.0125</td> <td>          -2.2528j</td> <td>           3.0208</td> <td>          -0.3660</td>\n",
       "</tr>\n",
       "<tr>\n",
       "  <th>AR.2</th> <td>          -2.0125</td> <td>          +2.2528j</td> <td>           3.0208</td> <td>           0.3660</td>\n",
       "</tr>\n",
       "<tr>\n",
       "  <th>AR.3</th> <td>           1.7841</td> <td>          -2.6317j</td> <td>           3.1795</td> <td>          -0.1552</td>\n",
       "</tr>\n",
       "<tr>\n",
       "  <th>AR.4</th> <td>           1.7841</td> <td>          +2.6317j</td> <td>           3.1795</td> <td>           0.1552</td>\n",
       "</tr>\n",
       "</table>"
      ],
      "text/plain": [
       "<class 'statsmodels.iolib.summary.Summary'>\n",
       "\"\"\"\n",
       "                              ARMA Model Results                              \n",
       "==============================================================================\n",
       "Dep. Variable:                returns   No. Observations:                 4191\n",
       "Model:                     ARMA(4, 0)   Log Likelihood               -6843.384\n",
       "Method:                       css-mle   S.D. of innovations              1.239\n",
       "Date:                Mon, 02 Mar 2020   AIC                          13698.769\n",
       "Time:                        17:46:02   BIC                          13736.813\n",
       "Sample:                    01-04-2000   HQIC                         13712.222\n",
       "                         - 01-26-2016                                         \n",
       "=================================================================================\n",
       "                    coef    std err          z      P>|z|      [0.025      0.975]\n",
       "---------------------------------------------------------------------------------\n",
       "const             0.0142      0.017      0.861      0.389      -0.018       0.047\n",
       "ar.L1.returns    -0.0881      0.015     -5.698      0.000      -0.118      -0.058\n",
       "ar.L2.returns    -0.0528      0.016     -3.402      0.001      -0.083      -0.022\n",
       "ar.L3.returns    -0.0050      0.016     -0.319      0.750      -0.035       0.025\n",
       "ar.L4.returns    -0.0108      0.015     -0.701      0.484      -0.041       0.019\n",
       "                                    Roots                                    \n",
       "=============================================================================\n",
       "                  Real          Imaginary           Modulus         Frequency\n",
       "-----------------------------------------------------------------------------\n",
       "AR.1           -2.0125           -2.2528j            3.0208           -0.3660\n",
       "AR.2           -2.0125           +2.2528j            3.0208            0.3660\n",
       "AR.3            1.7841           -2.6317j            3.1795           -0.1552\n",
       "AR.4            1.7841           +2.6317j            3.1795            0.1552\n",
       "-----------------------------------------------------------------------------\n",
       "\"\"\""
      ]
     },
     "execution_count": 14,
     "metadata": {},
     "output_type": "execute_result"
    }
   ],
   "source": [
    "model_ret_ar_4 = ARMA(df.returns, order = (4,0))\n",
    "results_ret_ar_4 = model_ret_ar_4.fit()\n",
    "results_ret_ar_4.summary()"
   ]
  },
  {
   "cell_type": "code",
   "execution_count": 15,
   "metadata": {
    "scrolled": true
   },
   "outputs": [
    {
     "data": {
      "text/html": [
       "<table class=\"simpletable\">\n",
       "<caption>ARMA Model Results</caption>\n",
       "<tr>\n",
       "  <th>Dep. Variable:</th>      <td>returns</td>     <th>  No. Observations:  </th>   <td>4191</td>   \n",
       "</tr>\n",
       "<tr>\n",
       "  <th>Model:</th>            <td>ARMA(5, 0)</td>    <th>  Log Likelihood     </th> <td>-6841.116</td>\n",
       "</tr>\n",
       "<tr>\n",
       "  <th>Method:</th>             <td>css-mle</td>     <th>  S.D. of innovations</th>   <td>1.238</td>  \n",
       "</tr>\n",
       "<tr>\n",
       "  <th>Date:</th>          <td>Mon, 02 Mar 2020</td> <th>  AIC                </th> <td>13696.232</td>\n",
       "</tr>\n",
       "<tr>\n",
       "  <th>Time:</th>              <td>17:46:02</td>     <th>  BIC                </th> <td>13740.617</td>\n",
       "</tr>\n",
       "<tr>\n",
       "  <th>Sample:</th>           <td>01-04-2000</td>    <th>  HQIC               </th> <td>13711.928</td>\n",
       "</tr>\n",
       "<tr>\n",
       "  <th></th>                 <td>- 01-26-2016</td>   <th>                     </th>     <td> </td>    \n",
       "</tr>\n",
       "</table>\n",
       "<table class=\"simpletable\">\n",
       "<tr>\n",
       "        <td></td>           <th>coef</th>     <th>std err</th>      <th>z</th>      <th>P>|z|</th>  <th>[0.025</th>    <th>0.975]</th>  \n",
       "</tr>\n",
       "<tr>\n",
       "  <th>const</th>         <td>    0.0142</td> <td>    0.016</td> <td>    0.889</td> <td> 0.374</td> <td>   -0.017</td> <td>    0.046</td>\n",
       "</tr>\n",
       "<tr>\n",
       "  <th>ar.L1.returns</th> <td>   -0.0884</td> <td>    0.015</td> <td>   -5.722</td> <td> 0.000</td> <td>   -0.119</td> <td>   -0.058</td>\n",
       "</tr>\n",
       "<tr>\n",
       "  <th>ar.L2.returns</th> <td>   -0.0529</td> <td>    0.016</td> <td>   -3.412</td> <td> 0.001</td> <td>   -0.083</td> <td>   -0.023</td>\n",
       "</tr>\n",
       "<tr>\n",
       "  <th>ar.L3.returns</th> <td>   -0.0067</td> <td>    0.016</td> <td>   -0.430</td> <td> 0.667</td> <td>   -0.037</td> <td>    0.024</td>\n",
       "</tr>\n",
       "<tr>\n",
       "  <th>ar.L4.returns</th> <td>   -0.0137</td> <td>    0.016</td> <td>   -0.885</td> <td> 0.376</td> <td>   -0.044</td> <td>    0.017</td>\n",
       "</tr>\n",
       "<tr>\n",
       "  <th>ar.L5.returns</th> <td>   -0.0330</td> <td>    0.015</td> <td>   -2.131</td> <td> 0.033</td> <td>   -0.063</td> <td>   -0.003</td>\n",
       "</tr>\n",
       "</table>\n",
       "<table class=\"simpletable\">\n",
       "<caption>Roots</caption>\n",
       "<tr>\n",
       "    <td></td>   <th>            Real</th>  <th>         Imaginary</th> <th>         Modulus</th>  <th>        Frequency</th>\n",
       "</tr>\n",
       "<tr>\n",
       "  <th>AR.1</th> <td>           1.5013</td> <td>          -1.3020j</td> <td>           1.9872</td> <td>          -0.1137</td>\n",
       "</tr>\n",
       "<tr>\n",
       "  <th>AR.2</th> <td>           1.5013</td> <td>          +1.3020j</td> <td>           1.9872</td> <td>           0.1137</td>\n",
       "</tr>\n",
       "<tr>\n",
       "  <th>AR.3</th> <td>          -0.6779</td> <td>          -1.8066j</td> <td>           1.9296</td> <td>          -0.3071</td>\n",
       "</tr>\n",
       "<tr>\n",
       "  <th>AR.4</th> <td>          -0.6779</td> <td>          +1.8066j</td> <td>           1.9296</td> <td>           0.3071</td>\n",
       "</tr>\n",
       "<tr>\n",
       "  <th>AR.5</th> <td>          -2.0636</td> <td>          -0.0000j</td> <td>           2.0636</td> <td>          -0.5000</td>\n",
       "</tr>\n",
       "</table>"
      ],
      "text/plain": [
       "<class 'statsmodels.iolib.summary.Summary'>\n",
       "\"\"\"\n",
       "                              ARMA Model Results                              \n",
       "==============================================================================\n",
       "Dep. Variable:                returns   No. Observations:                 4191\n",
       "Model:                     ARMA(5, 0)   Log Likelihood               -6841.116\n",
       "Method:                       css-mle   S.D. of innovations              1.238\n",
       "Date:                Mon, 02 Mar 2020   AIC                          13696.232\n",
       "Time:                        17:46:02   BIC                          13740.617\n",
       "Sample:                    01-04-2000   HQIC                         13711.928\n",
       "                         - 01-26-2016                                         \n",
       "=================================================================================\n",
       "                    coef    std err          z      P>|z|      [0.025      0.975]\n",
       "---------------------------------------------------------------------------------\n",
       "const             0.0142      0.016      0.889      0.374      -0.017       0.046\n",
       "ar.L1.returns    -0.0884      0.015     -5.722      0.000      -0.119      -0.058\n",
       "ar.L2.returns    -0.0529      0.016     -3.412      0.001      -0.083      -0.023\n",
       "ar.L3.returns    -0.0067      0.016     -0.430      0.667      -0.037       0.024\n",
       "ar.L4.returns    -0.0137      0.016     -0.885      0.376      -0.044       0.017\n",
       "ar.L5.returns    -0.0330      0.015     -2.131      0.033      -0.063      -0.003\n",
       "                                    Roots                                    \n",
       "=============================================================================\n",
       "                  Real          Imaginary           Modulus         Frequency\n",
       "-----------------------------------------------------------------------------\n",
       "AR.1            1.5013           -1.3020j            1.9872           -0.1137\n",
       "AR.2            1.5013           +1.3020j            1.9872            0.1137\n",
       "AR.3           -0.6779           -1.8066j            1.9296           -0.3071\n",
       "AR.4           -0.6779           +1.8066j            1.9296            0.3071\n",
       "AR.5           -2.0636           -0.0000j            2.0636           -0.5000\n",
       "-----------------------------------------------------------------------------\n",
       "\"\"\""
      ]
     },
     "execution_count": 15,
     "metadata": {},
     "output_type": "execute_result"
    }
   ],
   "source": [
    "model_ret_ar_5 = ARMA(df.returns, order = (5,0))\n",
    "results_ret_ar_5 = model_ret_ar_5.fit()\n",
    "results_ret_ar_5.summary()"
   ]
  },
  {
   "cell_type": "code",
   "execution_count": 16,
   "metadata": {},
   "outputs": [
    {
     "name": "stdout",
     "output_type": "stream",
     "text": [
      "LLR test: 0.003\n"
     ]
    }
   ],
   "source": [
    "print (\"LLR test: \" + str(LLR_test(results_ret_ar, results_ret_ar_5, DF =4)))"
   ]
  },
  {
   "cell_type": "code",
   "execution_count": 17,
   "metadata": {},
   "outputs": [
    {
     "data": {
      "text/html": [
       "<table class=\"simpletable\">\n",
       "<caption>ARMA Model Results</caption>\n",
       "<tr>\n",
       "  <th>Dep. Variable:</th>      <td>returns</td>     <th>  No. Observations:  </th>   <td>4191</td>   \n",
       "</tr>\n",
       "<tr>\n",
       "  <th>Model:</th>            <td>ARMA(6, 0)</td>    <th>  Log Likelihood     </th> <td>-6840.605</td>\n",
       "</tr>\n",
       "<tr>\n",
       "  <th>Method:</th>             <td>css-mle</td>     <th>  S.D. of innovations</th>   <td>1.238</td>  \n",
       "</tr>\n",
       "<tr>\n",
       "  <th>Date:</th>          <td>Mon, 02 Mar 2020</td> <th>  AIC                </th> <td>13697.210</td>\n",
       "</tr>\n",
       "<tr>\n",
       "  <th>Time:</th>              <td>17:46:03</td>     <th>  BIC                </th> <td>13747.936</td>\n",
       "</tr>\n",
       "<tr>\n",
       "  <th>Sample:</th>           <td>01-04-2000</td>    <th>  HQIC               </th> <td>13715.148</td>\n",
       "</tr>\n",
       "<tr>\n",
       "  <th></th>                 <td>- 01-26-2016</td>   <th>                     </th>     <td> </td>    \n",
       "</tr>\n",
       "</table>\n",
       "<table class=\"simpletable\">\n",
       "<tr>\n",
       "        <td></td>           <th>coef</th>     <th>std err</th>      <th>z</th>      <th>P>|z|</th>  <th>[0.025</th>    <th>0.975]</th>  \n",
       "</tr>\n",
       "<tr>\n",
       "  <th>const</th>         <td>    0.0142</td> <td>    0.016</td> <td>    0.903</td> <td> 0.366</td> <td>   -0.017</td> <td>    0.045</td>\n",
       "</tr>\n",
       "<tr>\n",
       "  <th>ar.L1.returns</th> <td>   -0.0890</td> <td>    0.015</td> <td>   -5.753</td> <td> 0.000</td> <td>   -0.119</td> <td>   -0.059</td>\n",
       "</tr>\n",
       "<tr>\n",
       "  <th>ar.L2.returns</th> <td>   -0.0531</td> <td>    0.016</td> <td>   -3.425</td> <td> 0.001</td> <td>   -0.084</td> <td>   -0.023</td>\n",
       "</tr>\n",
       "<tr>\n",
       "  <th>ar.L3.returns</th> <td>   -0.0068</td> <td>    0.016</td> <td>   -0.436</td> <td> 0.663</td> <td>   -0.037</td> <td>    0.024</td>\n",
       "</tr>\n",
       "<tr>\n",
       "  <th>ar.L4.returns</th> <td>   -0.0146</td> <td>    0.016</td> <td>   -0.936</td> <td> 0.349</td> <td>   -0.045</td> <td>    0.016</td>\n",
       "</tr>\n",
       "<tr>\n",
       "  <th>ar.L5.returns</th> <td>   -0.0343</td> <td>    0.016</td> <td>   -2.211</td> <td> 0.027</td> <td>   -0.065</td> <td>   -0.004</td>\n",
       "</tr>\n",
       "<tr>\n",
       "  <th>ar.L6.returns</th> <td>   -0.0156</td> <td>    0.015</td> <td>   -1.011</td> <td> 0.312</td> <td>   -0.046</td> <td>    0.015</td>\n",
       "</tr>\n",
       "</table>\n",
       "<table class=\"simpletable\">\n",
       "<caption>Roots</caption>\n",
       "<tr>\n",
       "    <td></td>   <th>            Real</th>  <th>         Imaginary</th> <th>         Modulus</th>  <th>        Frequency</th>\n",
       "</tr>\n",
       "<tr>\n",
       "  <th>AR.1</th> <td>           1.4386</td> <td>          -1.0732j</td> <td>           1.7948</td> <td>          -0.1020</td>\n",
       "</tr>\n",
       "<tr>\n",
       "  <th>AR.2</th> <td>           1.4386</td> <td>          +1.0732j</td> <td>           1.7948</td> <td>           0.1020</td>\n",
       "</tr>\n",
       "<tr>\n",
       "  <th>AR.3</th> <td>          -0.3639</td> <td>          -1.8486j</td> <td>           1.8841</td> <td>          -0.2809</td>\n",
       "</tr>\n",
       "<tr>\n",
       "  <th>AR.4</th> <td>          -0.3639</td> <td>          +1.8486j</td> <td>           1.8841</td> <td>           0.2809</td>\n",
       "</tr>\n",
       "<tr>\n",
       "  <th>AR.5</th> <td>          -2.1720</td> <td>          -0.9340j</td> <td>           2.3643</td> <td>          -0.4354</td>\n",
       "</tr>\n",
       "<tr>\n",
       "  <th>AR.6</th> <td>          -2.1720</td> <td>          +0.9340j</td> <td>           2.3643</td> <td>           0.4354</td>\n",
       "</tr>\n",
       "</table>"
      ],
      "text/plain": [
       "<class 'statsmodels.iolib.summary.Summary'>\n",
       "\"\"\"\n",
       "                              ARMA Model Results                              \n",
       "==============================================================================\n",
       "Dep. Variable:                returns   No. Observations:                 4191\n",
       "Model:                     ARMA(6, 0)   Log Likelihood               -6840.605\n",
       "Method:                       css-mle   S.D. of innovations              1.238\n",
       "Date:                Mon, 02 Mar 2020   AIC                          13697.210\n",
       "Time:                        17:46:03   BIC                          13747.936\n",
       "Sample:                    01-04-2000   HQIC                         13715.148\n",
       "                         - 01-26-2016                                         \n",
       "=================================================================================\n",
       "                    coef    std err          z      P>|z|      [0.025      0.975]\n",
       "---------------------------------------------------------------------------------\n",
       "const             0.0142      0.016      0.903      0.366      -0.017       0.045\n",
       "ar.L1.returns    -0.0890      0.015     -5.753      0.000      -0.119      -0.059\n",
       "ar.L2.returns    -0.0531      0.016     -3.425      0.001      -0.084      -0.023\n",
       "ar.L3.returns    -0.0068      0.016     -0.436      0.663      -0.037       0.024\n",
       "ar.L4.returns    -0.0146      0.016     -0.936      0.349      -0.045       0.016\n",
       "ar.L5.returns    -0.0343      0.016     -2.211      0.027      -0.065      -0.004\n",
       "ar.L6.returns    -0.0156      0.015     -1.011      0.312      -0.046       0.015\n",
       "                                    Roots                                    \n",
       "=============================================================================\n",
       "                  Real          Imaginary           Modulus         Frequency\n",
       "-----------------------------------------------------------------------------\n",
       "AR.1            1.4386           -1.0732j            1.7948           -0.1020\n",
       "AR.2            1.4386           +1.0732j            1.7948            0.1020\n",
       "AR.3           -0.3639           -1.8486j            1.8841           -0.2809\n",
       "AR.4           -0.3639           +1.8486j            1.8841            0.2809\n",
       "AR.5           -2.1720           -0.9340j            2.3643           -0.4354\n",
       "AR.6           -2.1720           +0.9340j            2.3643            0.4354\n",
       "-----------------------------------------------------------------------------\n",
       "\"\"\""
      ]
     },
     "execution_count": 17,
     "metadata": {},
     "output_type": "execute_result"
    }
   ],
   "source": [
    "model_ret_ar_6 = ARMA(df.returns, order = (6,0))\n",
    "results_ret_ar_6 = model_ret_ar_6.fit()\n",
    "results_ret_ar_6.summary()"
   ]
  },
  {
   "cell_type": "markdown",
   "metadata": {},
   "source": [
    "Analysing the Residuals"
   ]
  },
  {
   "cell_type": "code",
   "execution_count": 18,
   "metadata": {},
   "outputs": [],
   "source": [
    "df['res_ret'] = results_ret_ar_5.resid"
   ]
  },
  {
   "cell_type": "code",
   "execution_count": 19,
   "metadata": {},
   "outputs": [
    {
     "data": {
      "text/plain": [
       "-0.00012428271258132885"
      ]
     },
     "execution_count": 19,
     "metadata": {},
     "output_type": "execute_result"
    }
   ],
   "source": [
    "df.res_ret.mean()"
   ]
  },
  {
   "cell_type": "code",
   "execution_count": 20,
   "metadata": {},
   "outputs": [
    {
     "data": {
      "text/plain": [
       "1.532735188420527"
      ]
     },
     "execution_count": 20,
     "metadata": {},
     "output_type": "execute_result"
    }
   ],
   "source": [
    "df.res_ret.var()"
   ]
  },
  {
   "cell_type": "code",
   "execution_count": 21,
   "metadata": {},
   "outputs": [
    {
     "data": {
      "text/plain": [
       "(-15.33935918493443,\n",
       " 3.8498731426565384e-28,\n",
       " 17,\n",
       " 4173,\n",
       " {'1%': -3.4319180151179545,\n",
       "  '5%': -2.862232862908481,\n",
       "  '10%': -2.5671388169510743},\n",
       " 13570.33309604411)"
      ]
     },
     "execution_count": 21,
     "metadata": {},
     "output_type": "execute_result"
    }
   ],
   "source": [
    "sts.adfuller(df.res_ret)"
   ]
  },
  {
   "cell_type": "code",
   "execution_count": 22,
   "metadata": {},
   "outputs": [
    {
     "data": {
      "image/png": "[encoded data removed]",
      "text/plain": [
       "<Figure size 432x288 with 1 Axes>"
      ]
     },
     "metadata": {
      "needs_background": "light"
     },
     "output_type": "display_data"
    }
   ],
   "source": [
    "sgt.plot_acf(df.res_ret, zero = False, lags = 40)\n",
    "plt.title(\"ACF Of Residuals for Returns\",size=24)\n",
    "plt.show()"
   ]
  },
  {
   "cell_type": "code",
   "execution_count": 23,
   "metadata": {},
   "outputs": [
    {
     "data": {
      "image/png": "[encoded data removed]",
      "text/plain": [
       "<Figure size 1440x360 with 1 Axes>"
      ]
     },
     "metadata": {
      "needs_background": "light"
     },
     "output_type": "display_data"
    }
   ],
   "source": [
    "df.res_ret.plot(figsize=(20,5))\n",
    "plt.title(\"Residuals of Returns\", size=24)\n",
    "plt.show()"
   ]
  },
  {
   "cell_type": "code",
   "execution_count": null,
   "metadata": {},
   "outputs": [],
   "source": []
  }
 ],
 "metadata": {
  "kernelspec": {
   "display_name": "Python 3",
   "language": "python",
   "name": "python3"
  },
  "language_info": {
   "codemirror_mode": {
    "name": "ipython",
    "version": 3
   },
   "file_extension": ".py",
   "mimetype": "text/x-python",
   "name": "python",
   "nbconvert_exporter": "python",
   "pygments_lexer": "ipython3",
   "version": "3.7.3"
  }
 },
 "nbformat": 4,
 "nbformat_minor": 2
}

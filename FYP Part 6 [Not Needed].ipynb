{
 "cells": [
  {
   "cell_type": "markdown",
   "metadata": {},
   "source": [
    "Import packages"
   ]
  },
  {
   "cell_type": "code",
   "execution_count": 5,
   "metadata": {},
   "outputs": [],
   "source": [
    "import pandas as pd\n",
    "import numpy as np\n",
    "import matplotlib.pyplot as plt\n",
    "import statsmodels.graphics.tsaplots as sgt\n",
    "import statsmodels.tsa.stattools as sts\n",
    "from statsmodels.tsa.arima_model import ARMA\n",
    "from scipy.stats.distributions import chi2 \n",
    "from math import sqrt\n",
    "import seaborn as sns\n",
    "sns.set()\n",
    "import warnings\n",
    "warnings.filterwarnings(\"ignore\")"
   ]
  },
  {
   "cell_type": "markdown",
   "metadata": {},
   "source": [
    "Pre-processing"
   ]
  },
  {
   "cell_type": "code",
   "execution_count": 6,
   "metadata": {},
   "outputs": [],
   "source": [
    "raw_csv_data = pd.read_csv(\"Index2020.csv\") \n",
    "df_com=raw_csv_data.copy()\n",
    "df_com.date = pd.to_datetime(df_com.date, dayfirst = True)\n",
    "df_com.set_index(\"date\", inplace=True)\n",
    "df_com=df_com.asfreq('b')\n",
    "df_com=df_com.fillna(method='ffill')"
   ]
  },
  {
   "cell_type": "code",
   "execution_count": 7,
   "metadata": {},
   "outputs": [],
   "source": [
    "df_com['market_value']=df_com.spx"
   ]
  },
  {
   "cell_type": "code",
   "execution_count": 8,
   "metadata": {},
   "outputs": [],
   "source": [
    "del df_com['dax']\n",
    "size = int(len(df_com)*0.8)\n",
    "df, df_test = df_com.iloc[:size], df_com.iloc[size:]"
   ]
  },
  {
   "cell_type": "markdown",
   "metadata": {},
   "source": [
    "LLR Test"
   ]
  },
  {
   "cell_type": "code",
   "execution_count": 9,
   "metadata": {},
   "outputs": [],
   "source": [
    "def LLR_test(mod_1, mod_2, DF = 1):\n",
    "    L1 = mod_1.llf\n",
    "    L2 = mod_2.llf\n",
    "    LR = (2*(L2-L1))    \n",
    "    p = chi2.sf(LR, DF).round(3)\n",
    "    return p"
   ]
  },
  {
   "cell_type": "markdown",
   "metadata": {},
   "source": [
    "Returns"
   ]
  },
  {
   "cell_type": "code",
   "execution_count": 10,
   "metadata": {},
   "outputs": [],
   "source": [
    "df['returns'] = df.market_value.pct_change(1)*100"
   ]
  },
  {
   "cell_type": "code",
   "execution_count": 11,
   "metadata": {},
   "outputs": [
    {
     "data": {
      "image/png": "[encoded data removed]",
      "text/plain": [
       "<Figure size 432x288 with 1 Axes>"
      ]
     },
     "metadata": {},
     "output_type": "display_data"
    }
   ],
   "source": [
    "sgt.plot_acf(df.returns[1:], zero = False, lags = 40)\n",
    "plt.title(\"ACF for Returns\", size=24)\n",
    "plt.show()"
   ]
  },
  {
   "cell_type": "markdown",
   "metadata": {},
   "source": [
    "MA Model"
   ]
  },
  {
   "cell_type": "code",
   "execution_count": 21,
   "metadata": {},
   "outputs": [
    {
     "data": {
      "text/html": [
       "<table class=\"simpletable\">\n",
       "<caption>ARMA Model Results</caption>\n",
       "<tr>\n",
       "  <th>Dep. Variable:</th>      <td>returns</td>     <th>  No. Observations:  </th>   <td>4191</td>   \n",
       "</tr>\n",
       "<tr>\n",
       "  <th>Model:</th>            <td>ARMA(0, 1)</td>    <th>  Log Likelihood     </th> <td>-6847.735</td>\n",
       "</tr>\n",
       "<tr>\n",
       "  <th>Method:</th>             <td>css-mle</td>     <th>  S.D. of innovations</th>   <td>1.240</td>  \n",
       "</tr>\n",
       "<tr>\n",
       "  <th>Date:</th>          <td>Mon, 02 Mar 2020</td> <th>  AIC                </th> <td>13701.470</td>\n",
       "</tr>\n",
       "<tr>\n",
       "  <th>Time:</th>              <td>17:56:09</td>     <th>  BIC                </th> <td>13720.492</td>\n",
       "</tr>\n",
       "<tr>\n",
       "  <th>Sample:</th>           <td>01-04-2000</td>    <th>  HQIC               </th> <td>13708.197</td>\n",
       "</tr>\n",
       "<tr>\n",
       "  <th></th>                 <td>- 01-26-2016</td>   <th>                     </th>     <td> </td>    \n",
       "</tr>\n",
       "</table>\n",
       "<table class=\"simpletable\">\n",
       "<tr>\n",
       "        <td></td>           <th>coef</th>     <th>std err</th>      <th>z</th>      <th>P>|z|</th>  <th>[0.025</th>    <th>0.975]</th>  \n",
       "</tr>\n",
       "<tr>\n",
       "  <th>const</th>         <td>    0.0142</td> <td>    0.017</td> <td>    0.818</td> <td> 0.413</td> <td>   -0.020</td> <td>    0.048</td>\n",
       "</tr>\n",
       "<tr>\n",
       "  <th>ma.L1.returns</th> <td>   -0.0924</td> <td>    0.016</td> <td>   -5.731</td> <td> 0.000</td> <td>   -0.124</td> <td>   -0.061</td>\n",
       "</tr>\n",
       "</table>\n",
       "<table class=\"simpletable\">\n",
       "<caption>Roots</caption>\n",
       "<tr>\n",
       "    <td></td>   <th>            Real</th>  <th>         Imaginary</th> <th>         Modulus</th>  <th>        Frequency</th>\n",
       "</tr>\n",
       "<tr>\n",
       "  <th>MA.1</th> <td>          10.8179</td> <td>          +0.0000j</td> <td>          10.8179</td> <td>           0.0000</td>\n",
       "</tr>\n",
       "</table>"
      ],
      "text/plain": [
       "<class 'statsmodels.iolib.summary.Summary'>\n",
       "\"\"\"\n",
       "                              ARMA Model Results                              \n",
       "==============================================================================\n",
       "Dep. Variable:                returns   No. Observations:                 4191\n",
       "Model:                     ARMA(0, 1)   Log Likelihood               -6847.735\n",
       "Method:                       css-mle   S.D. of innovations              1.240\n",
       "Date:                Mon, 02 Mar 2020   AIC                          13701.470\n",
       "Time:                        17:56:09   BIC                          13720.492\n",
       "Sample:                    01-04-2000   HQIC                         13708.197\n",
       "                         - 01-26-2016                                         \n",
       "=================================================================================\n",
       "                    coef    std err          z      P>|z|      [0.025      0.975]\n",
       "---------------------------------------------------------------------------------\n",
       "const             0.0142      0.017      0.818      0.413      -0.020       0.048\n",
       "ma.L1.returns    -0.0924      0.016     -5.731      0.000      -0.124      -0.061\n",
       "                                    Roots                                    \n",
       "=============================================================================\n",
       "                  Real          Imaginary           Modulus         Frequency\n",
       "-----------------------------------------------------------------------------\n",
       "MA.1           10.8179           +0.0000j           10.8179            0.0000\n",
       "-----------------------------------------------------------------------------\n",
       "\"\"\""
      ]
     },
     "execution_count": 21,
     "metadata": {},
     "output_type": "execute_result"
    }
   ],
   "source": [
    "model_ret_ma = ARMA(df.returns[1:], order=(0,1))\n",
    "results_ret_ma = model_ret_ma.fit()\n",
    "results_ret_ma.summary()"
   ]
  },
  {
   "cell_type": "code",
   "execution_count": 13,
   "metadata": {},
   "outputs": [
    {
     "name": "stdout",
     "output_type": "stream",
     "text": [
      "                              ARMA Model Results                              \n",
      "==============================================================================\n",
      "Dep. Variable:                returns   No. Observations:                 4191\n",
      "Model:                     ARMA(0, 2)   Log Likelihood               -6843.440\n",
      "Method:                       css-mle   S.D. of innovations              1.239\n",
      "Date:                Mon, 02 Mar 2020   AIC                          13694.880\n",
      "Time:                        17:52:06   BIC                          13720.242\n",
      "Sample:                    01-04-2000   HQIC                         13703.849\n",
      "                         - 01-26-2016                                         \n",
      "=================================================================================\n",
      "                    coef    std err          z      P>|z|      [0.025      0.975]\n",
      "---------------------------------------------------------------------------------\n",
      "const             0.0142      0.017      0.861      0.389      -0.018       0.047\n",
      "ma.L1.returns    -0.0884      0.015     -5.716      0.000      -0.119      -0.058\n",
      "ma.L2.returns    -0.0462      0.016     -2.934      0.003      -0.077      -0.015\n",
      "                                    Roots                                    \n",
      "=============================================================================\n",
      "                  Real          Imaginary           Modulus         Frequency\n",
      "-----------------------------------------------------------------------------\n",
      "MA.1            3.7926           +0.0000j            3.7926            0.0000\n",
      "MA.2           -5.7039           +0.0000j            5.7039            0.5000\n",
      "-----------------------------------------------------------------------------\n",
      "\n",
      "LLR test p-value = 0.003\n"
     ]
    }
   ],
   "source": [
    "model_ret_ma_2 = ARMA(df.returns[1:], order=(0,2))\n",
    "results_ret_ma_2 = model_ret_ma_2.fit()\n",
    "print(results_ret_ma_2.summary())\n",
    "print(\"\\nLLR test p-value = \" + str(LLR_test(results_ret_ma_1, results_ret_ma_2)))"
   ]
  },
  {
   "cell_type": "code",
   "execution_count": 14,
   "metadata": {},
   "outputs": [
    {
     "name": "stdout",
     "output_type": "stream",
     "text": [
      "                              ARMA Model Results                              \n",
      "==============================================================================\n",
      "Dep. Variable:                returns   No. Observations:                 4191\n",
      "Model:                     ARMA(0, 3)   Log Likelihood               -6843.436\n",
      "Method:                       css-mle   S.D. of innovations              1.239\n",
      "Date:                Mon, 02 Mar 2020   AIC                          13696.872\n",
      "Time:                        17:52:11   BIC                          13728.576\n",
      "Sample:                    01-04-2000   HQIC                         13708.084\n",
      "                         - 01-26-2016                                         \n",
      "=================================================================================\n",
      "                    coef    std err          z      P>|z|      [0.025      0.975]\n",
      "---------------------------------------------------------------------------------\n",
      "const             0.0142      0.017      0.862      0.389      -0.018       0.047\n",
      "ma.L1.returns    -0.0883      0.015     -5.713      0.000      -0.119      -0.058\n",
      "ma.L2.returns    -0.0462      0.016     -2.932      0.003      -0.077      -0.015\n",
      "ma.L3.returns    -0.0013      0.016     -0.086      0.932      -0.032       0.029\n",
      "                                    Roots                                    \n",
      "=============================================================================\n",
      "                  Real          Imaginary           Modulus         Frequency\n",
      "-----------------------------------------------------------------------------\n",
      "MA.1            3.6429           +0.0000j            3.6429            0.0000\n",
      "MA.2           -6.4739           +0.0000j            6.4739            0.5000\n",
      "MA.3          -31.5435           +0.0000j           31.5435            0.5000\n",
      "-----------------------------------------------------------------------------\n",
      "\n",
      "LLR test p-value = 0.932\n"
     ]
    }
   ],
   "source": [
    "model_ret_ma_3 = ARMA(df.returns[1:], order=(0,3))\n",
    "results_ret_ma_3 = model_ret_ma_3.fit()\n",
    "print(results_ret_ma_3.summary())\n",
    "print(\"\\nLLR test p-value = \" + str(LLR_test(results_ret_ma_2, results_ret_ma_3)))"
   ]
  },
  {
   "cell_type": "code",
   "execution_count": 15,
   "metadata": {},
   "outputs": [
    {
     "name": "stdout",
     "output_type": "stream",
     "text": [
      "                              ARMA Model Results                              \n",
      "==============================================================================\n",
      "Dep. Variable:                returns   No. Observations:                 4191\n",
      "Model:                     ARMA(0, 4)   Log Likelihood               -6842.949\n",
      "Method:                       css-mle   S.D. of innovations              1.238\n",
      "Date:                Mon, 02 Mar 2020   AIC                          13697.898\n",
      "Time:                        17:52:20   BIC                          13735.942\n",
      "Sample:                    01-04-2000   HQIC                         13711.352\n",
      "                         - 01-26-2016                                         \n",
      "=================================================================================\n",
      "                    coef    std err          z      P>|z|      [0.025      0.975]\n",
      "---------------------------------------------------------------------------------\n",
      "const             0.0142      0.016      0.877      0.381      -0.018       0.046\n",
      "ma.L1.returns    -0.0894      0.016     -5.765      0.000      -0.120      -0.059\n",
      "ma.L2.returns    -0.0458      0.016     -2.952      0.003      -0.076      -0.015\n",
      "ma.L3.returns    -0.0008      0.016     -0.048      0.962      -0.031       0.030\n",
      "ma.L4.returns    -0.0148      0.015     -0.987      0.323      -0.044       0.015\n",
      "                                    Roots                                    \n",
      "=============================================================================\n",
      "                  Real          Imaginary           Modulus         Frequency\n",
      "-----------------------------------------------------------------------------\n",
      "MA.1            2.4165           -0.0000j            2.4165           -0.0000\n",
      "MA.2           -2.7969           -0.0000j            2.7969           -0.5000\n",
      "MA.3            0.1648           -3.1529j            3.1572           -0.2417\n",
      "MA.4            0.1648           +3.1529j            3.1572            0.2417\n",
      "-----------------------------------------------------------------------------\n",
      "\n",
      "LLR test p-value = 0.324\n"
     ]
    }
   ],
   "source": [
    "model_ret_ma_4 = ARMA(df.returns[1:], order=(0,4))\n",
    "results_ret_ma_4 = model_ret_ma_4.fit()\n",
    "print(results_ret_ma_4.summary())\n",
    "print(\"\\nLLR test p-value = \" + str(LLR_test(results_ret_ma_3, results_ret_ma_4)))"
   ]
  },
  {
   "cell_type": "code",
   "execution_count": 16,
   "metadata": {},
   "outputs": [
    {
     "name": "stdout",
     "output_type": "stream",
     "text": [
      "                              ARMA Model Results                              \n",
      "==============================================================================\n",
      "Dep. Variable:                returns   No. Observations:                 4191\n",
      "Model:                     ARMA(0, 5)   Log Likelihood               -6840.241\n",
      "Method:                       css-mle   S.D. of innovations              1.238\n",
      "Date:                Mon, 02 Mar 2020   AIC                          13694.481\n",
      "Time:                        17:52:21   BIC                          13738.866\n",
      "Sample:                    01-04-2000   HQIC                         13710.177\n",
      "                         - 01-26-2016                                         \n",
      "=================================================================================\n",
      "                    coef    std err          z      P>|z|      [0.025      0.975]\n",
      "---------------------------------------------------------------------------------\n",
      "const             0.0142      0.016      0.910      0.363      -0.016       0.045\n",
      "ma.L1.returns    -0.0896      0.015     -5.789      0.000      -0.120      -0.059\n",
      "ma.L2.returns    -0.0476      0.016     -3.062      0.002      -0.078      -0.017\n",
      "ma.L3.returns     0.0034      0.016      0.218      0.828      -0.027       0.034\n",
      "ma.L4.returns    -0.0128      0.015     -0.852      0.394      -0.042       0.017\n",
      "ma.L5.returns    -0.0358      0.015     -2.327      0.020      -0.066      -0.006\n",
      "                                    Roots                                    \n",
      "=============================================================================\n",
      "                  Real          Imaginary           Modulus         Frequency\n",
      "-----------------------------------------------------------------------------\n",
      "MA.1            1.7539           -0.0000j            1.7539           -0.0000\n",
      "MA.2            0.6445           -1.8475j            1.9567           -0.1966\n",
      "MA.3            0.6445           +1.8475j            1.9567            0.1966\n",
      "MA.4           -1.6999           -1.1271j            2.0396           -0.4068\n",
      "MA.5           -1.6999           +1.1271j            2.0396            0.4068\n",
      "-----------------------------------------------------------------------------\n",
      "\n",
      "LLR test p-value = 0.02\n"
     ]
    }
   ],
   "source": [
    "model_ret_ma_5 = ARMA(df.returns[1:], order=(0,5))\n",
    "results_ret_ma_5 = model_ret_ma_5.fit()\n",
    "print(results_ret_ma_5.summary())\n",
    "print(\"\\nLLR test p-value = \" + str(LLR_test(results_ret_ma_4, results_ret_ma_5)))"
   ]
  },
  {
   "cell_type": "code",
   "execution_count": 17,
   "metadata": {},
   "outputs": [
    {
     "name": "stdout",
     "output_type": "stream",
     "text": [
      "                              ARMA Model Results                              \n",
      "==============================================================================\n",
      "Dep. Variable:                returns   No. Observations:                 4191\n",
      "Model:                     ARMA(0, 6)   Log Likelihood               -6840.020\n",
      "Method:                       css-mle   S.D. of innovations              1.238\n",
      "Date:                Mon, 02 Mar 2020   AIC                          13696.039\n",
      "Time:                        17:52:22   BIC                          13746.765\n",
      "Sample:                    01-04-2000   HQIC                         13713.978\n",
      "                         - 01-26-2016                                         \n",
      "=================================================================================\n",
      "                    coef    std err          z      P>|z|      [0.025      0.975]\n",
      "---------------------------------------------------------------------------------\n",
      "const             0.0142      0.015      0.920      0.358      -0.016       0.045\n",
      "ma.L1.returns    -0.0898      0.015     -5.804      0.000      -0.120      -0.059\n",
      "ma.L2.returns    -0.0467      0.016     -2.993      0.003      -0.077      -0.016\n",
      "ma.L3.returns     0.0030      0.016      0.190      0.849      -0.028       0.034\n",
      "ma.L4.returns    -0.0121      0.015     -0.805      0.421      -0.042       0.017\n",
      "ma.L5.returns    -0.0346      0.015     -2.239      0.025      -0.065      -0.004\n",
      "ma.L6.returns    -0.0103      0.016     -0.664      0.507      -0.041       0.020\n",
      "                                    Roots                                    \n",
      "=============================================================================\n",
      "                  Real          Imaginary           Modulus         Frequency\n",
      "-----------------------------------------------------------------------------\n",
      "MA.1            1.6566           -0.0000j            1.6566           -0.0000\n",
      "MA.2            0.7592           -1.7069j            1.8681           -0.1834\n",
      "MA.3            0.7592           +1.7069j            1.8681            0.1834\n",
      "MA.4           -1.6666           -1.5703j            2.2898           -0.3797\n",
      "MA.5           -1.6666           +1.5703j            2.2898            0.3797\n",
      "MA.6           -3.1920           -0.0000j            3.1920           -0.5000\n",
      "-----------------------------------------------------------------------------\n",
      "\n",
      "LLR test p-value = 0.506\n"
     ]
    }
   ],
   "source": [
    "model_ret_ma_6 = ARMA(df.returns[1:], order=(0,6))\n",
    "results_ret_ma_6 = model_ret_ma_6.fit()\n",
    "print(results_ret_ma_6.summary())\n",
    "print(\"\\nLLR test p-value = \" + str(LLR_test(results_ret_ma_5, results_ret_ma_6)))"
   ]
  },
  {
   "cell_type": "code",
   "execution_count": 18,
   "metadata": {},
   "outputs": [
    {
     "name": "stdout",
     "output_type": "stream",
     "text": [
      "                              ARMA Model Results                              \n",
      "==============================================================================\n",
      "Dep. Variable:                returns   No. Observations:                 4191\n",
      "Model:                     ARMA(0, 7)   Log Likelihood               -6838.374\n",
      "Method:                       css-mle   S.D. of innovations              1.237\n",
      "Date:                Mon, 02 Mar 2020   AIC                          13694.747\n",
      "Time:                        17:52:24   BIC                          13751.814\n",
      "Sample:                    01-04-2000   HQIC                         13714.928\n",
      "                         - 01-26-2016                                         \n",
      "=================================================================================\n",
      "                    coef    std err          z      P>|z|      [0.025      0.975]\n",
      "---------------------------------------------------------------------------------\n",
      "const             0.0142      0.015      0.945      0.345      -0.015       0.044\n",
      "ma.L1.returns    -0.0876      0.016     -5.655      0.000      -0.118      -0.057\n",
      "ma.L2.returns    -0.0470      0.016     -3.023      0.002      -0.078      -0.017\n",
      "ma.L3.returns     0.0041      0.016      0.260      0.795      -0.027       0.035\n",
      "ma.L4.returns    -0.0119      0.015     -0.787      0.431      -0.041       0.018\n",
      "ma.L5.returns    -0.0335      0.015     -2.176      0.030      -0.064      -0.003\n",
      "ma.L6.returns    -0.0066      0.016     -0.421      0.674      -0.037       0.024\n",
      "ma.L7.returns    -0.0289      0.016     -1.816      0.069      -0.060       0.002\n",
      "                                    Roots                                    \n",
      "=============================================================================\n",
      "                  Real          Imaginary           Modulus         Frequency\n",
      "-----------------------------------------------------------------------------\n",
      "MA.1            1.4704           -0.0000j            1.4704           -0.0000\n",
      "MA.2            0.9660           -1.3329j            1.6461           -0.1502\n",
      "MA.3            0.9660           +1.3329j            1.6461            0.1502\n",
      "MA.4           -1.4665           -0.7368j            1.6412           -0.4259\n",
      "MA.5           -1.4665           +0.7368j            1.6412            0.4259\n",
      "MA.6           -0.3486           -1.7603j            1.7945           -0.2811\n",
      "MA.7           -0.3486           +1.7603j            1.7945            0.2811\n",
      "-----------------------------------------------------------------------------\n",
      "\n",
      "LLR test p-value = 0.07\n"
     ]
    }
   ],
   "source": [
    "model_ret_ma_7 = ARMA(df.returns[1:], order=(0,7))\n",
    "results_ret_ma_7 = model_ret_ma_7.fit()\n",
    "print(results_ret_ma_7.summary())\n",
    "print(\"\\nLLR test p-value = \" + str(LLR_test(results_ret_ma_6, results_ret_ma_7)))"
   ]
  },
  {
   "cell_type": "code",
   "execution_count": 19,
   "metadata": {},
   "outputs": [
    {
     "name": "stdout",
     "output_type": "stream",
     "text": [
      "                              ARMA Model Results                              \n",
      "==============================================================================\n",
      "Dep. Variable:                returns   No. Observations:                 4191\n",
      "Model:                     ARMA(0, 8)   Log Likelihood               -6836.436\n",
      "Method:                       css-mle   S.D. of innovations              1.236\n",
      "Date:                Mon, 02 Mar 2020   AIC                          13692.872\n",
      "Time:                        17:52:34   BIC                          13756.279\n",
      "Sample:                    01-04-2000   HQIC                         13715.295\n",
      "                         - 01-26-2016                                         \n",
      "=================================================================================\n",
      "                    coef    std err          z      P>|z|      [0.025      0.975]\n",
      "---------------------------------------------------------------------------------\n",
      "const             0.0142      0.016      0.916      0.360      -0.016       0.045\n",
      "ma.L1.returns    -0.0876      0.015     -5.661      0.000      -0.118      -0.057\n",
      "ma.L2.returns    -0.0482      0.016     -3.103      0.002      -0.079      -0.018\n",
      "ma.L3.returns     0.0029      0.016      0.184      0.854      -0.028       0.033\n",
      "ma.L4.returns    -0.0122      0.016     -0.786      0.432      -0.043       0.018\n",
      "ma.L5.returns    -0.0347      0.015     -2.268      0.023      -0.065      -0.005\n",
      "ma.L6.returns    -0.0067      0.016     -0.429      0.668      -0.037       0.024\n",
      "ma.L7.returns    -0.0300      0.016     -1.887      0.059      -0.061       0.001\n",
      "ma.L8.returns     0.0295      0.015      1.971      0.049       0.000       0.059\n",
      "                                    Roots                                    \n",
      "=============================================================================\n",
      "                  Real          Imaginary           Modulus         Frequency\n",
      "-----------------------------------------------------------------------------\n",
      "MA.1           -1.3273           -0.5980j            1.4558           -0.4326\n",
      "MA.2           -1.3273           +0.5980j            1.4558            0.4326\n",
      "MA.3           -0.5093           -1.4744j            1.5599           -0.3029\n",
      "MA.4           -0.5093           +1.4744j            1.5599            0.3029\n",
      "MA.5            0.6949           -1.3458j            1.5146           -0.1741\n",
      "MA.6            0.6949           +1.3458j            1.5146            0.1741\n",
      "MA.7            1.6498           -0.3744j            1.6918           -0.0355\n",
      "MA.8            1.6498           +0.3744j            1.6918            0.0355\n",
      "-----------------------------------------------------------------------------\n",
      "\n",
      "LLR test p-value = 0.049\n"
     ]
    }
   ],
   "source": [
    "model_ret_ma_8 = ARMA(df.returns[1:], order=(0,8))\n",
    "results_ret_ma_8 = model_ret_ma_8.fit()\n",
    "print(results_ret_ma_8.summary())\n",
    "print(\"\\nLLR test p-value = \" + str(LLR_test(results_ret_ma_7, results_ret_ma_8)))"
   ]
  },
  {
   "cell_type": "code",
   "execution_count": 20,
   "metadata": {},
   "outputs": [
    {
     "data": {
      "text/plain": [
       "0.028"
      ]
     },
     "execution_count": 20,
     "metadata": {},
     "output_type": "execute_result"
    }
   ],
   "source": [
    "LLR_test(results_ret_ma_6, results_ret_ma_8, DF=2)"
   ]
  },
  {
   "cell_type": "code",
   "execution_count": 22,
   "metadata": {},
   "outputs": [
    {
     "data": {
      "text/plain": [
       "0.0"
      ]
     },
     "execution_count": 22,
     "metadata": {},
     "output_type": "execute_result"
    }
   ],
   "source": [
    "LLR_test(results_ret_ma, results_ret_ma_8, DF=2)"
   ]
  },
  {
   "cell_type": "markdown",
   "metadata": {},
   "source": [
    "Residuals for Returns"
   ]
  },
  {
   "cell_type": "code",
   "execution_count": 23,
   "metadata": {},
   "outputs": [],
   "source": [
    "df['res_ret_ma_8'] = results_ret_ma_8.resid[1:]"
   ]
  },
  {
   "cell_type": "code",
   "execution_count": 24,
   "metadata": {},
   "outputs": [
    {
     "data": {
      "text/plain": [
       "0.0007823977776798401"
      ]
     },
     "execution_count": 24,
     "metadata": {},
     "output_type": "execute_result"
    }
   ],
   "source": [
    "df.res_ret_ma_8.mean()"
   ]
  },
  {
   "cell_type": "code",
   "execution_count": 25,
   "metadata": {},
   "outputs": [
    {
     "data": {
      "text/plain": [
       "1.5261521650069447"
      ]
     },
     "execution_count": 25,
     "metadata": {},
     "output_type": "execute_result"
    }
   ],
   "source": [
    "df.res_ret_ma_8.var()"
   ]
  },
  {
   "cell_type": "code",
   "execution_count": 27,
   "metadata": {},
   "outputs": [
    {
     "data": {
      "image/png": "[encoded data removed]",
      "text/plain": [
       "<Figure size 1440x360 with 1 Axes>"
      ]
     },
     "metadata": {},
     "output_type": "display_data"
    }
   ],
   "source": [
    "df.res_ret_ma_8[1:].plot(figsize = (20,5))\n",
    "plt.title(\"Residuals of Returns\", size = 24)\n",
    "plt.show()"
   ]
  },
  {
   "cell_type": "code",
   "execution_count": 28,
   "metadata": {},
   "outputs": [
    {
     "data": {
      "text/plain": [
       "(-64.7287459659379,\n",
       " 0.0,\n",
       " 0,\n",
       " 4189,\n",
       " {'1%': -3.4319120223653132,\n",
       "  '5%': -2.8622302155703507,\n",
       "  '10%': -2.5671374076308826},\n",
       " 13560.159999030115)"
      ]
     },
     "execution_count": 28,
     "metadata": {},
     "output_type": "execute_result"
    }
   ],
   "source": [
    "sts.adfuller(df.res_ret_ma_8[2:])"
   ]
  },
  {
   "cell_type": "code",
   "execution_count": 29,
   "metadata": {},
   "outputs": [
    {
     "data": {
      "image/png": "[encoded data removed]",
      "text/plain": [
       "<Figure size 432x288 with 1 Axes>"
      ]
     },
     "metadata": {},
     "output_type": "display_data"
    }
   ],
   "source": [
    "sgt.plot_acf(df.res_ret_ma_8[2:], zero = False, lags = 40)\n",
    "plt.title(\"ACF Of Residuals for Returns\",size=24)\n",
    "plt.show()"
   ]
  }
 ],
 "metadata": {
  "kernelspec": {
   "display_name": "Python 3",
   "language": "python",
   "name": "python3"
  },
  "language_info": {
   "codemirror_mode": {
    "name": "ipython",
    "version": 3
   },
   "file_extension": ".py",
   "mimetype": "text/x-python",
   "name": "python",
   "nbconvert_exporter": "python",
   "pygments_lexer": "ipython3",
   "version": "3.7.3"
  }
 },
 "nbformat": 4,
 "nbformat_minor": 2
}
